{
  "cells": [
    {
      "cell_type": "markdown",
      "metadata": {
        "id": "HghNc63CDttg"
      },
      "source": [
        "# **INTENT CLASSIFICATION USING ATIS DATASET FOR NATURAL LANGUAGE UNDERSTANDING**\n",
        "\n",
        "\n",
        "---\n",
        "\n"
      ]
    },
    {
      "cell_type": "markdown",
      "metadata": {
        "id": "aQdp23p-EP2n"
      },
      "source": [
        "**Goal:**\n",
        "\n",
        "This project aims to classify user intent from queries using machine learning models, which is essential for applications like chatbots and virtual assistants.\n",
        "\n",
        "**Dataset:**\n",
        "\n",
        "In this project the ATIS dataset is used, which contains user queries related to airline travel, to train and evaluate the models.\n",
        "\n",
        "**Models Used:**\n",
        "\n",
        "**Traditional/Baseline Models:**\n",
        "- Naive Bayes\n",
        "- Logistic Regression\n",
        "\n",
        "**Deep Learning Models:**\n",
        "- Convolutional Neural Networks (CNN)\n",
        "- BERT (Bidirectional Encoder Representations from Transformers)\n",
        "\n",
        "**Pipeline:**\n",
        "\n",
        "- Data Preprocessing: the data is cleaned and prepared before loading into the models for training.\n",
        "- Model Training: The dataset is trained on both traditional and deep learning models.\n",
        "- Evaluation: The models are evaluated anf their performance are compared based on accuracy and F1 score.\n",
        "- Results: The results show that BERT outperforms the other models, offering high accuracy and F1 scores.\n",
        "\n",
        "**Purpose:**\n",
        "\n",
        "The project highlights the strengths of using advanced deep learning models like BERT for intent classification tasks while also demonstrating the value of baseline models like Naive Bayes and Logistic Regression for comparison."
      ]
    },
    {
      "cell_type": "markdown",
      "metadata": {
        "id": "8x_eq9gx49XX"
      },
      "source": [
        "# Installing Packages"
      ]
    },
    {
      "cell_type": "code",
      "execution_count": 1,
      "metadata": {
        "colab": {
          "base_uri": "https://localhost:8080/"
        },
        "collapsed": true,
        "id": "zmU8atwaZXwk",
        "outputId": "d34cef41-28d5-4a51-955a-60a28e7ca54c"
      },
      "outputs": [
        {
          "name": "stdout",
          "output_type": "stream",
          "text": [
            "Collecting datasets\n",
            "  Downloading datasets-3.2.0-py3-none-any.whl.metadata (20 kB)\n",
            "Requirement already satisfied: filelock in /usr/local/lib/python3.10/dist-packages (from datasets) (3.16.1)\n",
            "Requirement already satisfied: numpy>=1.17 in /usr/local/lib/python3.10/dist-packages (from datasets) (1.26.4)\n",
            "Requirement already satisfied: pyarrow>=15.0.0 in /usr/local/lib/python3.10/dist-packages (from datasets) (17.0.0)\n",
            "Collecting dill<0.3.9,>=0.3.0 (from datasets)\n",
            "  Downloading dill-0.3.8-py3-none-any.whl.metadata (10 kB)\n",
            "Requirement already satisfied: pandas in /usr/local/lib/python3.10/dist-packages (from datasets) (2.2.2)\n",
            "Requirement already satisfied: requests>=2.32.2 in /usr/local/lib/python3.10/dist-packages (from datasets) (2.32.3)\n",
            "Requirement already satisfied: tqdm>=4.66.3 in /usr/local/lib/python3.10/dist-packages (from datasets) (4.66.6)\n",
            "Collecting xxhash (from datasets)\n",
            "  Downloading xxhash-3.5.0-cp310-cp310-manylinux_2_17_x86_64.manylinux2014_x86_64.whl.metadata (12 kB)\n",
            "Collecting multiprocess<0.70.17 (from datasets)\n",
            "  Downloading multiprocess-0.70.16-py310-none-any.whl.metadata (7.2 kB)\n",
            "Collecting fsspec<=2024.9.0,>=2023.1.0 (from fsspec[http]<=2024.9.0,>=2023.1.0->datasets)\n",
            "  Downloading fsspec-2024.9.0-py3-none-any.whl.metadata (11 kB)\n",
            "Requirement already satisfied: aiohttp in /usr/local/lib/python3.10/dist-packages (from datasets) (3.11.10)\n",
            "Requirement already satisfied: huggingface-hub>=0.23.0 in /usr/local/lib/python3.10/dist-packages (from datasets) (0.26.5)\n",
            "Requirement already satisfied: packaging in /usr/local/lib/python3.10/dist-packages (from datasets) (24.2)\n",
            "Requirement already satisfied: pyyaml>=5.1 in /usr/local/lib/python3.10/dist-packages (from datasets) (6.0.2)\n",
            "Requirement already satisfied: aiohappyeyeballs>=2.3.0 in /usr/local/lib/python3.10/dist-packages (from aiohttp->datasets) (2.4.4)\n",
            "Requirement already satisfied: aiosignal>=1.1.2 in /usr/local/lib/python3.10/dist-packages (from aiohttp->datasets) (1.3.1)\n",
            "Requirement already satisfied: async-timeout<6.0,>=4.0 in /usr/local/lib/python3.10/dist-packages (from aiohttp->datasets) (4.0.3)\n",
            "Requirement already satisfied: attrs>=17.3.0 in /usr/local/lib/python3.10/dist-packages (from aiohttp->datasets) (24.2.0)\n",
            "Requirement already satisfied: frozenlist>=1.1.1 in /usr/local/lib/python3.10/dist-packages (from aiohttp->datasets) (1.5.0)\n",
            "Requirement already satisfied: multidict<7.0,>=4.5 in /usr/local/lib/python3.10/dist-packages (from aiohttp->datasets) (6.1.0)\n",
            "Requirement already satisfied: propcache>=0.2.0 in /usr/local/lib/python3.10/dist-packages (from aiohttp->datasets) (0.2.1)\n",
            "Requirement already satisfied: yarl<2.0,>=1.17.0 in /usr/local/lib/python3.10/dist-packages (from aiohttp->datasets) (1.18.3)\n",
            "Requirement already satisfied: typing-extensions>=3.7.4.3 in /usr/local/lib/python3.10/dist-packages (from huggingface-hub>=0.23.0->datasets) (4.12.2)\n",
            "Requirement already satisfied: charset-normalizer<4,>=2 in /usr/local/lib/python3.10/dist-packages (from requests>=2.32.2->datasets) (3.4.0)\n",
            "Requirement already satisfied: idna<4,>=2.5 in /usr/local/lib/python3.10/dist-packages (from requests>=2.32.2->datasets) (3.10)\n",
            "Requirement already satisfied: urllib3<3,>=1.21.1 in /usr/local/lib/python3.10/dist-packages (from requests>=2.32.2->datasets) (2.2.3)\n",
            "Requirement already satisfied: certifi>=2017.4.17 in /usr/local/lib/python3.10/dist-packages (from requests>=2.32.2->datasets) (2024.8.30)\n",
            "Requirement already satisfied: python-dateutil>=2.8.2 in /usr/local/lib/python3.10/dist-packages (from pandas->datasets) (2.8.2)\n",
            "Requirement already satisfied: pytz>=2020.1 in /usr/local/lib/python3.10/dist-packages (from pandas->datasets) (2024.2)\n",
            "Requirement already satisfied: tzdata>=2022.7 in /usr/local/lib/python3.10/dist-packages (from pandas->datasets) (2024.2)\n",
            "Requirement already satisfied: six>=1.5 in /usr/local/lib/python3.10/dist-packages (from python-dateutil>=2.8.2->pandas->datasets) (1.17.0)\n",
            "Downloading datasets-3.2.0-py3-none-any.whl (480 kB)\n",
            "\u001b[2K   \u001b[90m━━━━━━━━━━━━━━━━━━━━━━━━━━━━━━━━━━━━━━━━\u001b[0m \u001b[32m480.6/480.6 kB\u001b[0m \u001b[31m8.8 MB/s\u001b[0m eta \u001b[36m0:00:00\u001b[0m\n",
            "\u001b[?25hDownloading dill-0.3.8-py3-none-any.whl (116 kB)\n",
            "\u001b[2K   \u001b[90m━━━━━━━━━━━━━━━━━━━━━━━━━━━━━━━━━━━━━━━━\u001b[0m \u001b[32m116.3/116.3 kB\u001b[0m \u001b[31m7.0 MB/s\u001b[0m eta \u001b[36m0:00:00\u001b[0m\n",
            "\u001b[?25hDownloading fsspec-2024.9.0-py3-none-any.whl (179 kB)\n",
            "\u001b[2K   \u001b[90m━━━━━━━━━━━━━━━━━━━━━━━━━━━━━━━━━━━━━━━━\u001b[0m \u001b[32m179.3/179.3 kB\u001b[0m \u001b[31m12.2 MB/s\u001b[0m eta \u001b[36m0:00:00\u001b[0m\n",
            "\u001b[?25hDownloading multiprocess-0.70.16-py310-none-any.whl (134 kB)\n",
            "\u001b[2K   \u001b[90m━━━━━━━━━━━━━━━━━━━━━━━━━━━━━━━━━━━━━━━━\u001b[0m \u001b[32m134.8/134.8 kB\u001b[0m \u001b[31m10.1 MB/s\u001b[0m eta \u001b[36m0:00:00\u001b[0m\n",
            "\u001b[?25hDownloading xxhash-3.5.0-cp310-cp310-manylinux_2_17_x86_64.manylinux2014_x86_64.whl (194 kB)\n",
            "\u001b[2K   \u001b[90m━━━━━━━━━━━━━━━━━━━━━━━━━━━━━━━━━━━━━━━━\u001b[0m \u001b[32m194.1/194.1 kB\u001b[0m \u001b[31m14.4 MB/s\u001b[0m eta \u001b[36m0:00:00\u001b[0m\n",
            "\u001b[?25hInstalling collected packages: xxhash, fsspec, dill, multiprocess, datasets\n",
            "  Attempting uninstall: fsspec\n",
            "    Found existing installation: fsspec 2024.10.0\n",
            "    Uninstalling fsspec-2024.10.0:\n",
            "      Successfully uninstalled fsspec-2024.10.0\n",
            "\u001b[31mERROR: pip's dependency resolver does not currently take into account all the packages that are installed. This behaviour is the source of the following dependency conflicts.\n",
            "gcsfs 2024.10.0 requires fsspec==2024.10.0, but you have fsspec 2024.9.0 which is incompatible.\u001b[0m\u001b[31m\n",
            "\u001b[0mSuccessfully installed datasets-3.2.0 dill-0.3.8 fsspec-2024.9.0 multiprocess-0.70.16 xxhash-3.5.0\n"
          ]
        }
      ],
      "source": [
        "!pip install datasets\n"
      ]
    },
    {
      "cell_type": "code",
      "execution_count": 2,
      "metadata": {
        "colab": {
          "base_uri": "https://localhost:8080/"
        },
        "collapsed": true,
        "id": "l7Yw87OCL8dU",
        "outputId": "5ed0d552-e21e-4fbc-eda3-90c3888cbc97"
      },
      "outputs": [
        {
          "name": "stdout",
          "output_type": "stream",
          "text": [
            "Requirement already satisfied: nltk in /usr/local/lib/python3.10/dist-packages (3.9.1)\n",
            "Requirement already satisfied: click in /usr/local/lib/python3.10/dist-packages (from nltk) (8.1.7)\n",
            "Requirement already satisfied: joblib in /usr/local/lib/python3.10/dist-packages (from nltk) (1.4.2)\n",
            "Requirement already satisfied: regex>=2021.8.3 in /usr/local/lib/python3.10/dist-packages (from nltk) (2024.9.11)\n",
            "Requirement already satisfied: tqdm in /usr/local/lib/python3.10/dist-packages (from nltk) (4.66.6)\n"
          ]
        }
      ],
      "source": [
        "!pip install nltk\n"
      ]
    },
    {
      "cell_type": "code",
      "execution_count": 3,
      "metadata": {
        "colab": {
          "base_uri": "https://localhost:8080/"
        },
        "collapsed": true,
        "id": "GutgyV0WbOEl",
        "outputId": "ec553586-7330-4251-f80c-ca42aa3454fb"
      },
      "outputs": [
        {
          "name": "stdout",
          "output_type": "stream",
          "text": [
            "Requirement already satisfied: tensorflow in /usr/local/lib/python3.10/dist-packages (2.17.1)\n",
            "Requirement already satisfied: absl-py>=1.0.0 in /usr/local/lib/python3.10/dist-packages (from tensorflow) (1.4.0)\n",
            "Requirement already satisfied: astunparse>=1.6.0 in /usr/local/lib/python3.10/dist-packages (from tensorflow) (1.6.3)\n",
            "Requirement already satisfied: flatbuffers>=24.3.25 in /usr/local/lib/python3.10/dist-packages (from tensorflow) (24.3.25)\n",
            "Requirement already satisfied: gast!=0.5.0,!=0.5.1,!=0.5.2,>=0.2.1 in /usr/local/lib/python3.10/dist-packages (from tensorflow) (0.6.0)\n",
            "Requirement already satisfied: google-pasta>=0.1.1 in /usr/local/lib/python3.10/dist-packages (from tensorflow) (0.2.0)\n",
            "Requirement already satisfied: h5py>=3.10.0 in /usr/local/lib/python3.10/dist-packages (from tensorflow) (3.12.1)\n",
            "Requirement already satisfied: libclang>=13.0.0 in /usr/local/lib/python3.10/dist-packages (from tensorflow) (18.1.1)\n",
            "Requirement already satisfied: ml-dtypes<0.5.0,>=0.3.1 in /usr/local/lib/python3.10/dist-packages (from tensorflow) (0.4.1)\n",
            "Requirement already satisfied: opt-einsum>=2.3.2 in /usr/local/lib/python3.10/dist-packages (from tensorflow) (3.4.0)\n",
            "Requirement already satisfied: packaging in /usr/local/lib/python3.10/dist-packages (from tensorflow) (24.2)\n",
            "Requirement already satisfied: protobuf!=4.21.0,!=4.21.1,!=4.21.2,!=4.21.3,!=4.21.4,!=4.21.5,<5.0.0dev,>=3.20.3 in /usr/local/lib/python3.10/dist-packages (from tensorflow) (4.25.5)\n",
            "Requirement already satisfied: requests<3,>=2.21.0 in /usr/local/lib/python3.10/dist-packages (from tensorflow) (2.32.3)\n",
            "Requirement already satisfied: setuptools in /usr/local/lib/python3.10/dist-packages (from tensorflow) (75.1.0)\n",
            "Requirement already satisfied: six>=1.12.0 in /usr/local/lib/python3.10/dist-packages (from tensorflow) (1.17.0)\n",
            "Requirement already satisfied: termcolor>=1.1.0 in /usr/local/lib/python3.10/dist-packages (from tensorflow) (2.5.0)\n",
            "Requirement already satisfied: typing-extensions>=3.6.6 in /usr/local/lib/python3.10/dist-packages (from tensorflow) (4.12.2)\n",
            "Requirement already satisfied: wrapt>=1.11.0 in /usr/local/lib/python3.10/dist-packages (from tensorflow) (1.17.0)\n",
            "Requirement already satisfied: grpcio<2.0,>=1.24.3 in /usr/local/lib/python3.10/dist-packages (from tensorflow) (1.68.1)\n",
            "Requirement already satisfied: tensorboard<2.18,>=2.17 in /usr/local/lib/python3.10/dist-packages (from tensorflow) (2.17.1)\n",
            "Requirement already satisfied: keras>=3.2.0 in /usr/local/lib/python3.10/dist-packages (from tensorflow) (3.5.0)\n",
            "Requirement already satisfied: tensorflow-io-gcs-filesystem>=0.23.1 in /usr/local/lib/python3.10/dist-packages (from tensorflow) (0.37.1)\n",
            "Requirement already satisfied: numpy<2.0.0,>=1.23.5 in /usr/local/lib/python3.10/dist-packages (from tensorflow) (1.26.4)\n",
            "Requirement already satisfied: wheel<1.0,>=0.23.0 in /usr/local/lib/python3.10/dist-packages (from astunparse>=1.6.0->tensorflow) (0.45.1)\n",
            "Requirement already satisfied: rich in /usr/local/lib/python3.10/dist-packages (from keras>=3.2.0->tensorflow) (13.9.4)\n",
            "Requirement already satisfied: namex in /usr/local/lib/python3.10/dist-packages (from keras>=3.2.0->tensorflow) (0.0.8)\n",
            "Requirement already satisfied: optree in /usr/local/lib/python3.10/dist-packages (from keras>=3.2.0->tensorflow) (0.13.1)\n",
            "Requirement already satisfied: charset-normalizer<4,>=2 in /usr/local/lib/python3.10/dist-packages (from requests<3,>=2.21.0->tensorflow) (3.4.0)\n",
            "Requirement already satisfied: idna<4,>=2.5 in /usr/local/lib/python3.10/dist-packages (from requests<3,>=2.21.0->tensorflow) (3.10)\n",
            "Requirement already satisfied: urllib3<3,>=1.21.1 in /usr/local/lib/python3.10/dist-packages (from requests<3,>=2.21.0->tensorflow) (2.2.3)\n",
            "Requirement already satisfied: certifi>=2017.4.17 in /usr/local/lib/python3.10/dist-packages (from requests<3,>=2.21.0->tensorflow) (2024.8.30)\n",
            "Requirement already satisfied: markdown>=2.6.8 in /usr/local/lib/python3.10/dist-packages (from tensorboard<2.18,>=2.17->tensorflow) (3.7)\n",
            "Requirement already satisfied: tensorboard-data-server<0.8.0,>=0.7.0 in /usr/local/lib/python3.10/dist-packages (from tensorboard<2.18,>=2.17->tensorflow) (0.7.2)\n",
            "Requirement already satisfied: werkzeug>=1.0.1 in /usr/local/lib/python3.10/dist-packages (from tensorboard<2.18,>=2.17->tensorflow) (3.1.3)\n",
            "Requirement already satisfied: MarkupSafe>=2.1.1 in /usr/local/lib/python3.10/dist-packages (from werkzeug>=1.0.1->tensorboard<2.18,>=2.17->tensorflow) (3.0.2)\n",
            "Requirement already satisfied: markdown-it-py>=2.2.0 in /usr/local/lib/python3.10/dist-packages (from rich->keras>=3.2.0->tensorflow) (3.0.0)\n",
            "Requirement already satisfied: pygments<3.0.0,>=2.13.0 in /usr/local/lib/python3.10/dist-packages (from rich->keras>=3.2.0->tensorflow) (2.18.0)\n",
            "Requirement already satisfied: mdurl~=0.1 in /usr/local/lib/python3.10/dist-packages (from markdown-it-py>=2.2.0->rich->keras>=3.2.0->tensorflow) (0.1.2)\n"
          ]
        }
      ],
      "source": [
        "!pip install tensorflow\n"
      ]
    },
    {
      "cell_type": "code",
      "execution_count": 4,
      "metadata": {
        "colab": {
          "base_uri": "https://localhost:8080/"
        },
        "collapsed": true,
        "id": "Bw56tVZz86jN",
        "outputId": "7b7456f6-c7a9-4a04-d847-f653c96eef39"
      },
      "outputs": [
        {
          "name": "stdout",
          "output_type": "stream",
          "text": [
            "--2024-12-13 01:32:48--  http://nlp.stanford.edu/data/glove.6B.zip\n",
            "Resolving nlp.stanford.edu (nlp.stanford.edu)... 171.64.67.140\n",
            "Connecting to nlp.stanford.edu (nlp.stanford.edu)|171.64.67.140|:80... connected.\n",
            "HTTP request sent, awaiting response... 302 Found\n",
            "Location: https://nlp.stanford.edu/data/glove.6B.zip [following]\n",
            "--2024-12-13 01:32:48--  https://nlp.stanford.edu/data/glove.6B.zip\n",
            "Connecting to nlp.stanford.edu (nlp.stanford.edu)|171.64.67.140|:443... connected.\n",
            "HTTP request sent, awaiting response... 301 Moved Permanently\n",
            "Location: https://downloads.cs.stanford.edu/nlp/data/glove.6B.zip [following]\n",
            "--2024-12-13 01:32:48--  https://downloads.cs.stanford.edu/nlp/data/glove.6B.zip\n",
            "Resolving downloads.cs.stanford.edu (downloads.cs.stanford.edu)... 171.64.64.22\n",
            "Connecting to downloads.cs.stanford.edu (downloads.cs.stanford.edu)|171.64.64.22|:443... connected.\n",
            "HTTP request sent, awaiting response... 200 OK\n",
            "Length: 862182613 (822M) [application/zip]\n",
            "Saving to: ‘glove.6B.zip’\n",
            "\n",
            "glove.6B.zip        100%[===================>] 822.24M  5.04MB/s    in 2m 39s  \n",
            "\n",
            "2024-12-13 01:35:28 (5.16 MB/s) - ‘glove.6B.zip’ saved [862182613/862182613]\n",
            "\n"
          ]
        }
      ],
      "source": [
        "# Download the GloVe embeddings (this may take a while)\n",
        "!wget http://nlp.stanford.edu/data/glove.6B.zip\n"
      ]
    },
    {
      "cell_type": "code",
      "execution_count": 5,
      "metadata": {
        "colab": {
          "base_uri": "https://localhost:8080/"
        },
        "collapsed": true,
        "id": "h1EoyKH188bG",
        "outputId": "dd63528d-c864-44a3-cec1-6664e3030c48"
      },
      "outputs": [
        {
          "name": "stdout",
          "output_type": "stream",
          "text": [
            "Archive:  glove.6B.zip\n",
            "  inflating: glove.6B.50d.txt        \n",
            "  inflating: glove.6B.100d.txt       \n",
            "  inflating: glove.6B.200d.txt       \n",
            "  inflating: glove.6B.300d.txt       \n"
          ]
        }
      ],
      "source": [
        "# Unzip the downloaded file\n",
        "!unzip glove.6B.zip\n"
      ]
    },
    {
      "cell_type": "code",
      "execution_count": 6,
      "metadata": {
        "colab": {
          "base_uri": "https://localhost:8080/"
        },
        "id": "-J8DT_n_8qWP",
        "outputId": "efe25bc0-35cb-4001-c417-fcf47fbba8dc"
      },
      "outputs": [
        {
          "name": "stdout",
          "output_type": "stream",
          "text": [
            "Requirement already satisfied: transformers in /usr/local/lib/python3.10/dist-packages (4.46.3)\n",
            "Requirement already satisfied: filelock in /usr/local/lib/python3.10/dist-packages (from transformers) (3.16.1)\n",
            "Requirement already satisfied: huggingface-hub<1.0,>=0.23.2 in /usr/local/lib/python3.10/dist-packages (from transformers) (0.26.5)\n",
            "Requirement already satisfied: numpy>=1.17 in /usr/local/lib/python3.10/dist-packages (from transformers) (1.26.4)\n",
            "Requirement already satisfied: packaging>=20.0 in /usr/local/lib/python3.10/dist-packages (from transformers) (24.2)\n",
            "Requirement already satisfied: pyyaml>=5.1 in /usr/local/lib/python3.10/dist-packages (from transformers) (6.0.2)\n",
            "Requirement already satisfied: regex!=2019.12.17 in /usr/local/lib/python3.10/dist-packages (from transformers) (2024.9.11)\n",
            "Requirement already satisfied: requests in /usr/local/lib/python3.10/dist-packages (from transformers) (2.32.3)\n",
            "Requirement already satisfied: tokenizers<0.21,>=0.20 in /usr/local/lib/python3.10/dist-packages (from transformers) (0.20.3)\n",
            "Requirement already satisfied: safetensors>=0.4.1 in /usr/local/lib/python3.10/dist-packages (from transformers) (0.4.5)\n",
            "Requirement already satisfied: tqdm>=4.27 in /usr/local/lib/python3.10/dist-packages (from transformers) (4.66.6)\n",
            "Requirement already satisfied: fsspec>=2023.5.0 in /usr/local/lib/python3.10/dist-packages (from huggingface-hub<1.0,>=0.23.2->transformers) (2024.9.0)\n",
            "Requirement already satisfied: typing-extensions>=3.7.4.3 in /usr/local/lib/python3.10/dist-packages (from huggingface-hub<1.0,>=0.23.2->transformers) (4.12.2)\n",
            "Requirement already satisfied: charset-normalizer<4,>=2 in /usr/local/lib/python3.10/dist-packages (from requests->transformers) (3.4.0)\n",
            "Requirement already satisfied: idna<4,>=2.5 in /usr/local/lib/python3.10/dist-packages (from requests->transformers) (3.10)\n",
            "Requirement already satisfied: urllib3<3,>=1.21.1 in /usr/local/lib/python3.10/dist-packages (from requests->transformers) (2.2.3)\n",
            "Requirement already satisfied: certifi>=2017.4.17 in /usr/local/lib/python3.10/dist-packages (from requests->transformers) (2024.8.30)\n"
          ]
        }
      ],
      "source": [
        "!pip install transformers\n"
      ]
    },
    {
      "cell_type": "code",
      "execution_count": 7,
      "metadata": {
        "colab": {
          "base_uri": "https://localhost:8080/"
        },
        "id": "ktzht8jUok57",
        "outputId": "6abec5fc-b69c-461d-c621-4f5d09b524d2"
      },
      "outputs": [
        {
          "name": "stdout",
          "output_type": "stream",
          "text": [
            "Requirement already satisfied: torch in /usr/local/lib/python3.10/dist-packages (2.5.1+cu121)\n",
            "Requirement already satisfied: filelock in /usr/local/lib/python3.10/dist-packages (from torch) (3.16.1)\n",
            "Requirement already satisfied: typing-extensions>=4.8.0 in /usr/local/lib/python3.10/dist-packages (from torch) (4.12.2)\n",
            "Requirement already satisfied: networkx in /usr/local/lib/python3.10/dist-packages (from torch) (3.4.2)\n",
            "Requirement already satisfied: jinja2 in /usr/local/lib/python3.10/dist-packages (from torch) (3.1.4)\n",
            "Requirement already satisfied: fsspec in /usr/local/lib/python3.10/dist-packages (from torch) (2024.9.0)\n",
            "Requirement already satisfied: sympy==1.13.1 in /usr/local/lib/python3.10/dist-packages (from torch) (1.13.1)\n",
            "Requirement already satisfied: mpmath<1.4,>=1.1.0 in /usr/local/lib/python3.10/dist-packages (from sympy==1.13.1->torch) (1.3.0)\n",
            "Requirement already satisfied: MarkupSafe>=2.0 in /usr/local/lib/python3.10/dist-packages (from jinja2->torch) (3.0.2)\n"
          ]
        }
      ],
      "source": [
        "!pip install torch\n"
      ]
    },
    {
      "cell_type": "markdown",
      "metadata": {
        "id": "JMS_iKcE5GrN"
      },
      "source": [
        "# Importing packages"
      ]
    },
    {
      "cell_type": "code",
      "execution_count": 28,
      "metadata": {
        "colab": {
          "base_uri": "https://localhost:8080/"
        },
        "id": "8S_YwaM52m-S",
        "outputId": "d66f2bc5-2cfd-4475-c01a-9f5d9974f8ad"
      },
      "outputs": [
        {
          "name": "stderr",
          "output_type": "stream",
          "text": [
            "[nltk_data] Downloading package punkt_tab to /root/nltk_data...\n",
            "[nltk_data]   Package punkt_tab is already up-to-date!\n",
            "[nltk_data] Downloading package punkt to /root/nltk_data...\n",
            "[nltk_data]   Package punkt is already up-to-date!\n",
            "[nltk_data] Downloading package stopwords to /root/nltk_data...\n",
            "[nltk_data]   Package stopwords is already up-to-date!\n"
          ]
        },
        {
          "data": {
            "text/plain": [
              "True"
            ]
          },
          "execution_count": 28,
          "metadata": {},
          "output_type": "execute_result"
        }
      ],
      "source": [
        "# Import required libraries\n",
        "from sklearn.preprocessing import LabelEncoder\n",
        "from datasets import load_dataset\n",
        "from nltk.tokenize import word_tokenize\n",
        "from nltk.corpus import stopwords\n",
        "import pandas as pd\n",
        "import numpy as np\n",
        "import nltk\n",
        "import re\n",
        "import seaborn as sns\n",
        "import matplotlib.pyplot as plt\n",
        "\n",
        "from sklearn.feature_extraction.text import TfidfVectorizer\n",
        "from sklearn.naive_bayes import MultinomialNB\n",
        "from sklearn.svm import SVC\n",
        "from sklearn.linear_model import LogisticRegression\n",
        "from sklearn.metrics import classification_report, accuracy_score, f1_score\n",
        "from sklearn.model_selection import train_test_split\n",
        "from sklearn.metrics import confusion_matrix, ConfusionMatrixDisplay\n",
        "\n",
        "from scipy import spatial\n",
        "\n",
        "import tensorflow as tf\n",
        "import keras\n",
        "from tensorflow.keras.preprocessing.sequence import pad_sequences\n",
        "from tensorflow.keras.preprocessing.text import Tokenizer\n",
        "from tensorflow.keras.utils import to_categorical\n",
        "from tensorflow.keras.layers import Embedding\n",
        "from tensorflow.keras.layers import Flatten, LSTM, Conv1D, MaxPooling1D, Dropout, Activation\n",
        "from tensorflow.keras.layers import Input, Dense\n",
        "from tensorflow.keras.models import Sequential\n",
        "\n",
        "import torch\n",
        "from transformers import BertTokenizer, BertForSequenceClassification, AdamW, get_scheduler\n",
        "from torch.utils.data import DataLoader, TensorDataset\n",
        "from tqdm import tqdm\n",
        "\n",
        "\n",
        "nltk.download('punkt_tab')\n",
        "nltk.download('punkt')\n",
        "nltk.download('stopwords')\n"
      ]
    },
    {
      "cell_type": "code",
      "execution_count": 9,
      "metadata": {
        "id": "DJp9BCecNFnH"
      },
      "outputs": [],
      "source": [
        "# ds = load_dataset(\"pfsv/atis_json\")\n",
        "# print(ds)\n"
      ]
    },
    {
      "cell_type": "code",
      "execution_count": 10,
      "metadata": {
        "id": "ydF0wtSiNNr8"
      },
      "outputs": [],
      "source": [
        "# train_dataset = load_dataset(\"pfsv/atis_json\", split=\"train\")\n",
        "# print(train_dataset)\n",
        "# valid_dataset = load_dataset(\"pfsv/atis_json\", split=\"validation\")\n",
        "# print(valid_dataset)\n",
        "# test_dataset = load_dataset(\"pfsv/atis_json\", split=\"test\")\n",
        "# print(test_dataset)\n"
      ]
    },
    {
      "cell_type": "code",
      "execution_count": 11,
      "metadata": {
        "id": "aYLWQ9JYNNiy"
      },
      "outputs": [],
      "source": [
        "# # Function to flatten and save each split as a CSV file\n",
        "# def save_split_to_csv(dataset_split, filename):\n",
        "#     # Convert the Hugging Face Dataset split to a Pandas DataFrame\n",
        "#     df = pd.DataFrame(dataset_split)\n",
        "#     # Save the DataFrame to a CSV file\n",
        "#     df.to_csv(filename, index=False)\n",
        "\n",
        "# # Save each split to a separate CSV file\n",
        "# save_split_to_csv(ds[\"train\"], \"atis_train.csv\")\n",
        "# save_split_to_csv(ds[\"validation\"], \"atis_validation.csv\")\n",
        "# save_split_to_csv(ds[\"test\"], \"atis_test.csv\")\n",
        "\n",
        "# print(\"CSV files have been saved!\")\n"
      ]
    },
    {
      "cell_type": "markdown",
      "metadata": {
        "id": "aWxIpuHCJb-y"
      },
      "source": [
        "# Loading the data"
      ]
    },
    {
      "cell_type": "code",
      "execution_count": 12,
      "metadata": {
        "id": "WKJ3v_DGJgty"
      },
      "outputs": [],
      "source": [
        "# Loading the dataset\n",
        "train_df = pd.read_csv(\"/content/atis_train.csv\")\n",
        "valid_df = pd.read_csv(\"/content/atis_validation.csv\")\n",
        "test_df = pd.read_csv(\"/content/atis_test.csv\")\n"
      ]
    },
    {
      "cell_type": "code",
      "execution_count": 13,
      "metadata": {
        "colab": {
          "base_uri": "https://localhost:8080/",
          "height": 206
        },
        "id": "SbjpPpnMJ-zt",
        "outputId": "55117429-73a0-4edb-ed78-41cf10c3b706"
      },
      "outputs": [
        {
          "data": {
            "application/vnd.google.colaboratory.intrinsic+json": {
              "summary": "{\n  \"name\": \"train_df\",\n  \"rows\": 4375,\n  \"fields\": [\n    {\n      \"column\": \"intent\",\n      \"properties\": {\n        \"dtype\": \"category\",\n        \"num_unique_values\": 17,\n        \"samples\": [\n          \"abbreviation\",\n          \"aircraft\",\n          \"capacity\"\n        ],\n        \"semantic_type\": \"\",\n        \"description\": \"\"\n      }\n    },\n    {\n      \"column\": \"utterance\",\n      \"properties\": {\n        \"dtype\": \"string\",\n        \"num_unique_values\": 4114,\n        \"samples\": [\n          \"i 'm traveling from boston to atlanta and i 'd like to go sometime after 5 pm but i want to know what kind of airplane it 's on\",\n          \"what aircraft is used on delta flight 1222 from kansas city to salt lake city\",\n          \"show me flights from pittsburgh to los angeles thursday evening\"\n        ],\n        \"semantic_type\": \"\",\n        \"description\": \"\"\n      }\n    },\n    {\n      \"column\": \"slots\",\n      \"properties\": {\n        \"dtype\": \"string\",\n        \"num_unique_values\": 2627,\n        \"samples\": [\n          \"O O O O O B-depart_date.day_name O B-fromloc.city_name O O O B-toloc.city_name\",\n          \"O O O O O O O O O B-fromloc.airport_name I-fromloc.airport_name O O\",\n          \"O O O O O B-depart_date.today_relative B-depart_time.period_of_day O B-fromloc.city_name O B-toloc.city_name O O B-meal_description O B-depart_date.today_relative\"\n        ],\n        \"semantic_type\": \"\",\n        \"description\": \"\"\n      }\n    }\n  ]\n}",
              "type": "dataframe",
              "variable_name": "train_df"
            },
            "text/html": [
              "\n",
              "  <div id=\"df-61492fd3-f426-46ac-a515-4579e72eb75a\" class=\"colab-df-container\">\n",
              "    <div>\n",
              "<style scoped>\n",
              "    .dataframe tbody tr th:only-of-type {\n",
              "        vertical-align: middle;\n",
              "    }\n",
              "\n",
              "    .dataframe tbody tr th {\n",
              "        vertical-align: top;\n",
              "    }\n",
              "\n",
              "    .dataframe thead th {\n",
              "        text-align: right;\n",
              "    }\n",
              "</style>\n",
              "<table border=\"1\" class=\"dataframe\">\n",
              "  <thead>\n",
              "    <tr style=\"text-align: right;\">\n",
              "      <th></th>\n",
              "      <th>intent</th>\n",
              "      <th>utterance</th>\n",
              "      <th>slots</th>\n",
              "    </tr>\n",
              "  </thead>\n",
              "  <tbody>\n",
              "    <tr>\n",
              "      <th>0</th>\n",
              "      <td>abbreviation</td>\n",
              "      <td>what is fare code qw</td>\n",
              "      <td>O O O O B-fare_basis_code</td>\n",
              "    </tr>\n",
              "    <tr>\n",
              "      <th>1</th>\n",
              "      <td>abbreviation</td>\n",
              "      <td>what is fare code f</td>\n",
              "      <td>O O O O B-fare_basis_code</td>\n",
              "    </tr>\n",
              "    <tr>\n",
              "      <th>2</th>\n",
              "      <td>abbreviation</td>\n",
              "      <td>show me what fare codes symbols stand for</td>\n",
              "      <td>O O O O O O O O</td>\n",
              "    </tr>\n",
              "    <tr>\n",
              "      <th>3</th>\n",
              "      <td>abbreviation</td>\n",
              "      <td>what is ff</td>\n",
              "      <td>O O B-airline_code</td>\n",
              "    </tr>\n",
              "    <tr>\n",
              "      <th>4</th>\n",
              "      <td>abbreviation</td>\n",
              "      <td>what does code y mean</td>\n",
              "      <td>O O O B-fare_basis_code O</td>\n",
              "    </tr>\n",
              "  </tbody>\n",
              "</table>\n",
              "</div>\n",
              "    <div class=\"colab-df-buttons\">\n",
              "\n",
              "  <div class=\"colab-df-container\">\n",
              "    <button class=\"colab-df-convert\" onclick=\"convertToInteractive('df-61492fd3-f426-46ac-a515-4579e72eb75a')\"\n",
              "            title=\"Convert this dataframe to an interactive table.\"\n",
              "            style=\"display:none;\">\n",
              "\n",
              "  <svg xmlns=\"http://www.w3.org/2000/svg\" height=\"24px\" viewBox=\"0 -960 960 960\">\n",
              "    <path d=\"M120-120v-720h720v720H120Zm60-500h600v-160H180v160Zm220 220h160v-160H400v160Zm0 220h160v-160H400v160ZM180-400h160v-160H180v160Zm440 0h160v-160H620v160ZM180-180h160v-160H180v160Zm440 0h160v-160H620v160Z\"/>\n",
              "  </svg>\n",
              "    </button>\n",
              "\n",
              "  <style>\n",
              "    .colab-df-container {\n",
              "      display:flex;\n",
              "      gap: 12px;\n",
              "    }\n",
              "\n",
              "    .colab-df-convert {\n",
              "      background-color: #E8F0FE;\n",
              "      border: none;\n",
              "      border-radius: 50%;\n",
              "      cursor: pointer;\n",
              "      display: none;\n",
              "      fill: #1967D2;\n",
              "      height: 32px;\n",
              "      padding: 0 0 0 0;\n",
              "      width: 32px;\n",
              "    }\n",
              "\n",
              "    .colab-df-convert:hover {\n",
              "      background-color: #E2EBFA;\n",
              "      box-shadow: 0px 1px 2px rgba(60, 64, 67, 0.3), 0px 1px 3px 1px rgba(60, 64, 67, 0.15);\n",
              "      fill: #174EA6;\n",
              "    }\n",
              "\n",
              "    .colab-df-buttons div {\n",
              "      margin-bottom: 4px;\n",
              "    }\n",
              "\n",
              "    [theme=dark] .colab-df-convert {\n",
              "      background-color: #3B4455;\n",
              "      fill: #D2E3FC;\n",
              "    }\n",
              "\n",
              "    [theme=dark] .colab-df-convert:hover {\n",
              "      background-color: #434B5C;\n",
              "      box-shadow: 0px 1px 3px 1px rgba(0, 0, 0, 0.15);\n",
              "      filter: drop-shadow(0px 1px 2px rgba(0, 0, 0, 0.3));\n",
              "      fill: #FFFFFF;\n",
              "    }\n",
              "  </style>\n",
              "\n",
              "    <script>\n",
              "      const buttonEl =\n",
              "        document.querySelector('#df-61492fd3-f426-46ac-a515-4579e72eb75a button.colab-df-convert');\n",
              "      buttonEl.style.display =\n",
              "        google.colab.kernel.accessAllowed ? 'block' : 'none';\n",
              "\n",
              "      async function convertToInteractive(key) {\n",
              "        const element = document.querySelector('#df-61492fd3-f426-46ac-a515-4579e72eb75a');\n",
              "        const dataTable =\n",
              "          await google.colab.kernel.invokeFunction('convertToInteractive',\n",
              "                                                    [key], {});\n",
              "        if (!dataTable) return;\n",
              "\n",
              "        const docLinkHtml = 'Like what you see? Visit the ' +\n",
              "          '<a target=\"_blank\" href=https://colab.research.google.com/notebooks/data_table.ipynb>data table notebook</a>'\n",
              "          + ' to learn more about interactive tables.';\n",
              "        element.innerHTML = '';\n",
              "        dataTable['output_type'] = 'display_data';\n",
              "        await google.colab.output.renderOutput(dataTable, element);\n",
              "        const docLink = document.createElement('div');\n",
              "        docLink.innerHTML = docLinkHtml;\n",
              "        element.appendChild(docLink);\n",
              "      }\n",
              "    </script>\n",
              "  </div>\n",
              "\n",
              "\n",
              "<div id=\"df-448dbaa6-eefa-4de8-ae14-b92916d0657a\">\n",
              "  <button class=\"colab-df-quickchart\" onclick=\"quickchart('df-448dbaa6-eefa-4de8-ae14-b92916d0657a')\"\n",
              "            title=\"Suggest charts\"\n",
              "            style=\"display:none;\">\n",
              "\n",
              "<svg xmlns=\"http://www.w3.org/2000/svg\" height=\"24px\"viewBox=\"0 0 24 24\"\n",
              "     width=\"24px\">\n",
              "    <g>\n",
              "        <path d=\"M19 3H5c-1.1 0-2 .9-2 2v14c0 1.1.9 2 2 2h14c1.1 0 2-.9 2-2V5c0-1.1-.9-2-2-2zM9 17H7v-7h2v7zm4 0h-2V7h2v10zm4 0h-2v-4h2v4z\"/>\n",
              "    </g>\n",
              "</svg>\n",
              "  </button>\n",
              "\n",
              "<style>\n",
              "  .colab-df-quickchart {\n",
              "      --bg-color: #E8F0FE;\n",
              "      --fill-color: #1967D2;\n",
              "      --hover-bg-color: #E2EBFA;\n",
              "      --hover-fill-color: #174EA6;\n",
              "      --disabled-fill-color: #AAA;\n",
              "      --disabled-bg-color: #DDD;\n",
              "  }\n",
              "\n",
              "  [theme=dark] .colab-df-quickchart {\n",
              "      --bg-color: #3B4455;\n",
              "      --fill-color: #D2E3FC;\n",
              "      --hover-bg-color: #434B5C;\n",
              "      --hover-fill-color: #FFFFFF;\n",
              "      --disabled-bg-color: #3B4455;\n",
              "      --disabled-fill-color: #666;\n",
              "  }\n",
              "\n",
              "  .colab-df-quickchart {\n",
              "    background-color: var(--bg-color);\n",
              "    border: none;\n",
              "    border-radius: 50%;\n",
              "    cursor: pointer;\n",
              "    display: none;\n",
              "    fill: var(--fill-color);\n",
              "    height: 32px;\n",
              "    padding: 0;\n",
              "    width: 32px;\n",
              "  }\n",
              "\n",
              "  .colab-df-quickchart:hover {\n",
              "    background-color: var(--hover-bg-color);\n",
              "    box-shadow: 0 1px 2px rgba(60, 64, 67, 0.3), 0 1px 3px 1px rgba(60, 64, 67, 0.15);\n",
              "    fill: var(--button-hover-fill-color);\n",
              "  }\n",
              "\n",
              "  .colab-df-quickchart-complete:disabled,\n",
              "  .colab-df-quickchart-complete:disabled:hover {\n",
              "    background-color: var(--disabled-bg-color);\n",
              "    fill: var(--disabled-fill-color);\n",
              "    box-shadow: none;\n",
              "  }\n",
              "\n",
              "  .colab-df-spinner {\n",
              "    border: 2px solid var(--fill-color);\n",
              "    border-color: transparent;\n",
              "    border-bottom-color: var(--fill-color);\n",
              "    animation:\n",
              "      spin 1s steps(1) infinite;\n",
              "  }\n",
              "\n",
              "  @keyframes spin {\n",
              "    0% {\n",
              "      border-color: transparent;\n",
              "      border-bottom-color: var(--fill-color);\n",
              "      border-left-color: var(--fill-color);\n",
              "    }\n",
              "    20% {\n",
              "      border-color: transparent;\n",
              "      border-left-color: var(--fill-color);\n",
              "      border-top-color: var(--fill-color);\n",
              "    }\n",
              "    30% {\n",
              "      border-color: transparent;\n",
              "      border-left-color: var(--fill-color);\n",
              "      border-top-color: var(--fill-color);\n",
              "      border-right-color: var(--fill-color);\n",
              "    }\n",
              "    40% {\n",
              "      border-color: transparent;\n",
              "      border-right-color: var(--fill-color);\n",
              "      border-top-color: var(--fill-color);\n",
              "    }\n",
              "    60% {\n",
              "      border-color: transparent;\n",
              "      border-right-color: var(--fill-color);\n",
              "    }\n",
              "    80% {\n",
              "      border-color: transparent;\n",
              "      border-right-color: var(--fill-color);\n",
              "      border-bottom-color: var(--fill-color);\n",
              "    }\n",
              "    90% {\n",
              "      border-color: transparent;\n",
              "      border-bottom-color: var(--fill-color);\n",
              "    }\n",
              "  }\n",
              "</style>\n",
              "\n",
              "  <script>\n",
              "    async function quickchart(key) {\n",
              "      const quickchartButtonEl =\n",
              "        document.querySelector('#' + key + ' button');\n",
              "      quickchartButtonEl.disabled = true;  // To prevent multiple clicks.\n",
              "      quickchartButtonEl.classList.add('colab-df-spinner');\n",
              "      try {\n",
              "        const charts = await google.colab.kernel.invokeFunction(\n",
              "            'suggestCharts', [key], {});\n",
              "      } catch (error) {\n",
              "        console.error('Error during call to suggestCharts:', error);\n",
              "      }\n",
              "      quickchartButtonEl.classList.remove('colab-df-spinner');\n",
              "      quickchartButtonEl.classList.add('colab-df-quickchart-complete');\n",
              "    }\n",
              "    (() => {\n",
              "      let quickchartButtonEl =\n",
              "        document.querySelector('#df-448dbaa6-eefa-4de8-ae14-b92916d0657a button');\n",
              "      quickchartButtonEl.style.display =\n",
              "        google.colab.kernel.accessAllowed ? 'block' : 'none';\n",
              "    })();\n",
              "  </script>\n",
              "</div>\n",
              "\n",
              "    </div>\n",
              "  </div>\n"
            ],
            "text/plain": [
              "         intent                                  utterance  \\\n",
              "0  abbreviation                       what is fare code qw   \n",
              "1  abbreviation                        what is fare code f   \n",
              "2  abbreviation  show me what fare codes symbols stand for   \n",
              "3  abbreviation                                 what is ff   \n",
              "4  abbreviation                      what does code y mean   \n",
              "\n",
              "                       slots  \n",
              "0  O O O O B-fare_basis_code  \n",
              "1  O O O O B-fare_basis_code  \n",
              "2            O O O O O O O O  \n",
              "3         O O B-airline_code  \n",
              "4  O O O B-fare_basis_code O  "
            ]
          },
          "execution_count": 13,
          "metadata": {},
          "output_type": "execute_result"
        }
      ],
      "source": [
        "# print(train_df.head())\n",
        "# print(valid_df.head())\n",
        "# print(test_df.head())\n",
        "train_df.head()\n"
      ]
    },
    {
      "cell_type": "markdown",
      "metadata": {
        "id": "e5H-8frK110_"
      },
      "source": [
        "# Intent Classification\n",
        "\n"
      ]
    },
    {
      "cell_type": "code",
      "execution_count": 14,
      "metadata": {
        "colab": {
          "base_uri": "https://localhost:8080/",
          "height": 648
        },
        "id": "dHivGPAM3I4f",
        "outputId": "8e2b2463-1367-48e9-9a46-b2e456f58be3"
      },
      "outputs": [
        {
          "data": {
            "text/html": [
              "<div>\n",
              "<style scoped>\n",
              "    .dataframe tbody tr th:only-of-type {\n",
              "        vertical-align: middle;\n",
              "    }\n",
              "\n",
              "    .dataframe tbody tr th {\n",
              "        vertical-align: top;\n",
              "    }\n",
              "\n",
              "    .dataframe thead th {\n",
              "        text-align: right;\n",
              "    }\n",
              "</style>\n",
              "<table border=\"1\" class=\"dataframe\">\n",
              "  <thead>\n",
              "    <tr style=\"text-align: right;\">\n",
              "      <th></th>\n",
              "      <th>count</th>\n",
              "    </tr>\n",
              "    <tr>\n",
              "      <th>intent</th>\n",
              "      <th></th>\n",
              "    </tr>\n",
              "  </thead>\n",
              "  <tbody>\n",
              "    <tr>\n",
              "      <th>flight</th>\n",
              "      <td>3226</td>\n",
              "    </tr>\n",
              "    <tr>\n",
              "      <th>airfare</th>\n",
              "      <td>372</td>\n",
              "    </tr>\n",
              "    <tr>\n",
              "      <th>ground_service</th>\n",
              "      <td>224</td>\n",
              "    </tr>\n",
              "    <tr>\n",
              "      <th>airline</th>\n",
              "      <td>138</td>\n",
              "    </tr>\n",
              "    <tr>\n",
              "      <th>abbreviation</th>\n",
              "      <td>129</td>\n",
              "    </tr>\n",
              "    <tr>\n",
              "      <th>aircraft</th>\n",
              "      <td>71</td>\n",
              "    </tr>\n",
              "    <tr>\n",
              "      <th>flight_time</th>\n",
              "      <td>48</td>\n",
              "    </tr>\n",
              "    <tr>\n",
              "      <th>quantity</th>\n",
              "      <td>45</td>\n",
              "    </tr>\n",
              "    <tr>\n",
              "      <th>distance</th>\n",
              "      <td>18</td>\n",
              "    </tr>\n",
              "    <tr>\n",
              "      <th>flight+airfare</th>\n",
              "      <td>18</td>\n",
              "    </tr>\n",
              "    <tr>\n",
              "      <th>airport</th>\n",
              "      <td>18</td>\n",
              "    </tr>\n",
              "    <tr>\n",
              "      <th>city</th>\n",
              "      <td>17</td>\n",
              "    </tr>\n",
              "    <tr>\n",
              "      <th>ground_fare</th>\n",
              "      <td>16</td>\n",
              "    </tr>\n",
              "    <tr>\n",
              "      <th>capacity</th>\n",
              "      <td>14</td>\n",
              "    </tr>\n",
              "    <tr>\n",
              "      <th>flight_no</th>\n",
              "      <td>11</td>\n",
              "    </tr>\n",
              "    <tr>\n",
              "      <th>meal</th>\n",
              "      <td>5</td>\n",
              "    </tr>\n",
              "    <tr>\n",
              "      <th>restriction</th>\n",
              "      <td>5</td>\n",
              "    </tr>\n",
              "  </tbody>\n",
              "</table>\n",
              "</div><br><label><b>dtype:</b> int64</label>"
            ],
            "text/plain": [
              "intent\n",
              "flight            3226\n",
              "airfare            372\n",
              "ground_service     224\n",
              "airline            138\n",
              "abbreviation       129\n",
              "aircraft            71\n",
              "flight_time         48\n",
              "quantity            45\n",
              "distance            18\n",
              "flight+airfare      18\n",
              "airport             18\n",
              "city                17\n",
              "ground_fare         16\n",
              "capacity            14\n",
              "flight_no           11\n",
              "meal                 5\n",
              "restriction          5\n",
              "Name: count, dtype: int64"
            ]
          },
          "execution_count": 14,
          "metadata": {},
          "output_type": "execute_result"
        }
      ],
      "source": [
        "train_df.intent.value_counts()\n"
      ]
    },
    {
      "cell_type": "code",
      "execution_count": 15,
      "metadata": {
        "colab": {
          "base_uri": "https://localhost:8080/",
          "height": 648
        },
        "id": "vVhS0k303y3L",
        "outputId": "6204a9f2-9eb8-4ca0-9db6-efbf49bbf1fc"
      },
      "outputs": [
        {
          "data": {
            "text/html": [
              "<div>\n",
              "<style scoped>\n",
              "    .dataframe tbody tr th:only-of-type {\n",
              "        vertical-align: middle;\n",
              "    }\n",
              "\n",
              "    .dataframe tbody tr th {\n",
              "        vertical-align: top;\n",
              "    }\n",
              "\n",
              "    .dataframe thead th {\n",
              "        text-align: right;\n",
              "    }\n",
              "</style>\n",
              "<table border=\"1\" class=\"dataframe\">\n",
              "  <thead>\n",
              "    <tr style=\"text-align: right;\">\n",
              "      <th></th>\n",
              "      <th>count</th>\n",
              "    </tr>\n",
              "    <tr>\n",
              "      <th>intent</th>\n",
              "      <th></th>\n",
              "    </tr>\n",
              "  </thead>\n",
              "  <tbody>\n",
              "    <tr>\n",
              "      <th>flight</th>\n",
              "      <td>632</td>\n",
              "    </tr>\n",
              "    <tr>\n",
              "      <th>airfare</th>\n",
              "      <td>48</td>\n",
              "    </tr>\n",
              "    <tr>\n",
              "      <th>airline</th>\n",
              "      <td>39</td>\n",
              "    </tr>\n",
              "    <tr>\n",
              "      <th>ground_service</th>\n",
              "      <td>36</td>\n",
              "    </tr>\n",
              "    <tr>\n",
              "      <th>abbreviation</th>\n",
              "      <td>33</td>\n",
              "    </tr>\n",
              "    <tr>\n",
              "      <th>capacity</th>\n",
              "      <td>21</td>\n",
              "    </tr>\n",
              "    <tr>\n",
              "      <th>airport</th>\n",
              "      <td>18</td>\n",
              "    </tr>\n",
              "    <tr>\n",
              "      <th>flight+airfare</th>\n",
              "      <td>13</td>\n",
              "    </tr>\n",
              "    <tr>\n",
              "      <th>distance</th>\n",
              "      <td>10</td>\n",
              "    </tr>\n",
              "    <tr>\n",
              "      <th>aircraft</th>\n",
              "      <td>9</td>\n",
              "    </tr>\n",
              "    <tr>\n",
              "      <th>flight_no</th>\n",
              "      <td>8</td>\n",
              "    </tr>\n",
              "    <tr>\n",
              "      <th>ground_fare</th>\n",
              "      <td>7</td>\n",
              "    </tr>\n",
              "    <tr>\n",
              "      <th>city</th>\n",
              "      <td>6</td>\n",
              "    </tr>\n",
              "    <tr>\n",
              "      <th>meal</th>\n",
              "      <td>6</td>\n",
              "    </tr>\n",
              "    <tr>\n",
              "      <th>restriction</th>\n",
              "      <td>5</td>\n",
              "    </tr>\n",
              "    <tr>\n",
              "      <th>quantity</th>\n",
              "      <td>3</td>\n",
              "    </tr>\n",
              "    <tr>\n",
              "      <th>flight_time</th>\n",
              "      <td>1</td>\n",
              "    </tr>\n",
              "  </tbody>\n",
              "</table>\n",
              "</div><br><label><b>dtype:</b> int64</label>"
            ],
            "text/plain": [
              "intent\n",
              "flight            632\n",
              "airfare            48\n",
              "airline            39\n",
              "ground_service     36\n",
              "abbreviation       33\n",
              "capacity           21\n",
              "airport            18\n",
              "flight+airfare     13\n",
              "distance           10\n",
              "aircraft            9\n",
              "flight_no           8\n",
              "ground_fare         7\n",
              "city                6\n",
              "meal                6\n",
              "restriction         5\n",
              "quantity            3\n",
              "flight_time         1\n",
              "Name: count, dtype: int64"
            ]
          },
          "execution_count": 15,
          "metadata": {},
          "output_type": "execute_result"
        }
      ],
      "source": [
        "test_df.intent.value_counts()\n"
      ]
    },
    {
      "cell_type": "markdown",
      "metadata": {
        "id": "ZENEz6v5Iv30"
      },
      "source": [
        "## Preprocessing\n"
      ]
    },
    {
      "cell_type": "markdown",
      "metadata": {
        "id": "smp-aEj7ARZT"
      },
      "source": [
        "- **Tokenization:**\n",
        "The utterances are tokenized by splitting the text into words.\n",
        "- **Text Normalization:**\n",
        "It removes stop words to focus on the most relevant words.\n",
        "- **TF-IDF Vectorization:**\n",
        "Converts text into numerical form using the Term Frequency-Inverse Document Frequency (TF-IDF) method, limited to 5000 features.\n",
        "- **Label Encoding:**\n",
        "The labels (intents) are converted into numerical values using LabelEncoder."
      ]
    },
    {
      "cell_type": "code",
      "execution_count": 16,
      "metadata": {
        "id": "MFLMaVjVb4w4"
      },
      "outputs": [],
      "source": [
        "# Tokenize the 'utterance' column for train set, val set and test set\n",
        "# Convert to lowercase and split into words\n",
        "train_df['utterance_tokens'] = train_df['utterance'].str.lower().str.split()\n",
        "valid_df['utterance_tokens'] = valid_df['utterance'].str.lower().str.split()\n",
        "test_df['utterance_tokens'] = test_df['utterance'].str.lower().str.split()\n"
      ]
    },
    {
      "cell_type": "code",
      "execution_count": 17,
      "metadata": {
        "id": "fZO0dJTxJHFs"
      },
      "outputs": [],
      "source": [
        "# Text Normalization: remove stop words\n",
        "# Define stop words\n",
        "stop_words = set(stopwords.words('english'))\n",
        "\n",
        "# Function to normalize text\n",
        "def normalize_text(text):\n",
        "    \"\"\"\n",
        "    Normalize the input text by converting to lowercase and removing stop words.\n",
        "    \"\"\"\n",
        "    # Convert text to lowercase and split into tokens (words)\n",
        "    tokens = text.lower().split()\n",
        "    # Remove stop words\n",
        "    filtered_tokens = [word for word in tokens if word not in stop_words]\n",
        "    return filtered_tokens\n",
        "\n",
        "# Apply normalization to the 'utterance' column in training set, validation set and test set\n",
        "train_df['normalized_utterance'] = train_df['utterance'].apply(normalize_text)\n",
        "valid_df['normalized_utterance'] = valid_df['utterance'].apply(normalize_text)\n",
        "test_df['normalized_utterance'] = test_df['utterance'].apply(normalize_text)\n"
      ]
    },
    {
      "cell_type": "code",
      "execution_count": 18,
      "metadata": {
        "id": "93hVrDyiZEif"
      },
      "outputs": [],
      "source": [
        "# Apply TF-IDF vectorizer\n",
        "# Limit the number of features to 5000\n",
        "tfidf = TfidfVectorizer(max_features=5000)\n",
        "# Fit and transform the training data\n",
        "X_train_tfidf = tfidf.fit_transform(train_df['normalized_utterance'].apply(' '.join))\n",
        "# Transform validation data\n",
        "X_valid_tfidf = tfidf.transform(valid_df['normalized_utterance'].apply(' '.join))\n",
        "# Transform test data\n",
        "X_test_tfidf = tfidf.transform(test_df['normalized_utterance'].apply(' '.join))\n"
      ]
    },
    {
      "cell_type": "code",
      "execution_count": 19,
      "metadata": {
        "id": "lF9xKAssSa4G"
      },
      "outputs": [],
      "source": [
        "# Initialize LabelEncoder\n",
        "# Encoder for converting categorical labels into numerical values\n",
        "label_encoder = LabelEncoder()\n",
        "# Fit the encoder on the 'intent' column in the training set\n",
        "label_encoder.fit(train_df['intent'])\n",
        "\n",
        "# Transform the 'intent' column for all datasets\n",
        "# Encode training labels\n",
        "y_train = label_encoder.transform(train_df['intent'])\n",
        "# Encode validation labels\n",
        "y_valid = label_encoder.transform(valid_df['intent'])\n",
        "# Encode test labels\n",
        "y_test = label_encoder.transform(test_df['intent'])\n"
      ]
    },
    {
      "cell_type": "code",
      "execution_count": 20,
      "metadata": {
        "colab": {
          "base_uri": "https://localhost:8080/"
        },
        "id": "vhToed7HPp91",
        "outputId": "e36ac686-cc4e-40bf-f6a5-a823cfe7181f"
      },
      "outputs": [
        {
          "name": "stdout",
          "output_type": "stream",
          "text": [
            "(4375,)\n",
            "(597,)\n",
            "(895,)\n"
          ]
        }
      ],
      "source": [
        "# Print the shapes of the training, validation and test labels\n",
        "print(y_train.shape)\n",
        "print(y_valid.shape)\n",
        "print(y_test.shape)\n"
      ]
    },
    {
      "cell_type": "code",
      "execution_count": 21,
      "metadata": {
        "colab": {
          "base_uri": "https://localhost:8080/",
          "height": 345
        },
        "id": "GSLgbZtKJHCU",
        "outputId": "e9510f8c-b940-443c-9b6f-44eba8b8c79f"
      },
      "outputs": [
        {
          "data": {
            "application/vnd.google.colaboratory.intrinsic+json": {
              "summary": "{\n  \"name\": \"train_df\",\n  \"rows\": 4375,\n  \"fields\": [\n    {\n      \"column\": \"intent\",\n      \"properties\": {\n        \"dtype\": \"category\",\n        \"num_unique_values\": 17,\n        \"samples\": [\n          \"abbreviation\",\n          \"aircraft\",\n          \"capacity\"\n        ],\n        \"semantic_type\": \"\",\n        \"description\": \"\"\n      }\n    },\n    {\n      \"column\": \"utterance\",\n      \"properties\": {\n        \"dtype\": \"string\",\n        \"num_unique_values\": 4114,\n        \"samples\": [\n          \"i 'm traveling from boston to atlanta and i 'd like to go sometime after 5 pm but i want to know what kind of airplane it 's on\",\n          \"what aircraft is used on delta flight 1222 from kansas city to salt lake city\",\n          \"show me flights from pittsburgh to los angeles thursday evening\"\n        ],\n        \"semantic_type\": \"\",\n        \"description\": \"\"\n      }\n    },\n    {\n      \"column\": \"slots\",\n      \"properties\": {\n        \"dtype\": \"string\",\n        \"num_unique_values\": 2627,\n        \"samples\": [\n          \"O O O O O B-depart_date.day_name O B-fromloc.city_name O O O B-toloc.city_name\",\n          \"O O O O O O O O O B-fromloc.airport_name I-fromloc.airport_name O O\",\n          \"O O O O O B-depart_date.today_relative B-depart_time.period_of_day O B-fromloc.city_name O B-toloc.city_name O O B-meal_description O B-depart_date.today_relative\"\n        ],\n        \"semantic_type\": \"\",\n        \"description\": \"\"\n      }\n    },\n    {\n      \"column\": \"utterance_tokens\",\n      \"properties\": {\n        \"dtype\": \"object\",\n        \"semantic_type\": \"\",\n        \"description\": \"\"\n      }\n    },\n    {\n      \"column\": \"normalized_utterance\",\n      \"properties\": {\n        \"dtype\": \"object\",\n        \"semantic_type\": \"\",\n        \"description\": \"\"\n      }\n    }\n  ]\n}",
              "type": "dataframe",
              "variable_name": "train_df"
            },
            "text/html": [
              "\n",
              "  <div id=\"df-b8d87f20-7728-4c7c-a87c-5e98d5c45900\" class=\"colab-df-container\">\n",
              "    <div>\n",
              "<style scoped>\n",
              "    .dataframe tbody tr th:only-of-type {\n",
              "        vertical-align: middle;\n",
              "    }\n",
              "\n",
              "    .dataframe tbody tr th {\n",
              "        vertical-align: top;\n",
              "    }\n",
              "\n",
              "    .dataframe thead th {\n",
              "        text-align: right;\n",
              "    }\n",
              "</style>\n",
              "<table border=\"1\" class=\"dataframe\">\n",
              "  <thead>\n",
              "    <tr style=\"text-align: right;\">\n",
              "      <th></th>\n",
              "      <th>intent</th>\n",
              "      <th>utterance</th>\n",
              "      <th>slots</th>\n",
              "      <th>utterance_tokens</th>\n",
              "      <th>normalized_utterance</th>\n",
              "    </tr>\n",
              "  </thead>\n",
              "  <tbody>\n",
              "    <tr>\n",
              "      <th>0</th>\n",
              "      <td>abbreviation</td>\n",
              "      <td>what is fare code qw</td>\n",
              "      <td>O O O O B-fare_basis_code</td>\n",
              "      <td>[what, is, fare, code, qw]</td>\n",
              "      <td>[fare, code, qw]</td>\n",
              "    </tr>\n",
              "    <tr>\n",
              "      <th>1</th>\n",
              "      <td>abbreviation</td>\n",
              "      <td>what is fare code f</td>\n",
              "      <td>O O O O B-fare_basis_code</td>\n",
              "      <td>[what, is, fare, code, f]</td>\n",
              "      <td>[fare, code, f]</td>\n",
              "    </tr>\n",
              "    <tr>\n",
              "      <th>2</th>\n",
              "      <td>abbreviation</td>\n",
              "      <td>show me what fare codes symbols stand for</td>\n",
              "      <td>O O O O O O O O</td>\n",
              "      <td>[show, me, what, fare, codes, symbols, stand, ...</td>\n",
              "      <td>[show, fare, codes, symbols, stand]</td>\n",
              "    </tr>\n",
              "    <tr>\n",
              "      <th>3</th>\n",
              "      <td>abbreviation</td>\n",
              "      <td>what is ff</td>\n",
              "      <td>O O B-airline_code</td>\n",
              "      <td>[what, is, ff]</td>\n",
              "      <td>[ff]</td>\n",
              "    </tr>\n",
              "    <tr>\n",
              "      <th>4</th>\n",
              "      <td>abbreviation</td>\n",
              "      <td>what does code y mean</td>\n",
              "      <td>O O O B-fare_basis_code O</td>\n",
              "      <td>[what, does, code, y, mean]</td>\n",
              "      <td>[code, mean]</td>\n",
              "    </tr>\n",
              "  </tbody>\n",
              "</table>\n",
              "</div>\n",
              "    <div class=\"colab-df-buttons\">\n",
              "\n",
              "  <div class=\"colab-df-container\">\n",
              "    <button class=\"colab-df-convert\" onclick=\"convertToInteractive('df-b8d87f20-7728-4c7c-a87c-5e98d5c45900')\"\n",
              "            title=\"Convert this dataframe to an interactive table.\"\n",
              "            style=\"display:none;\">\n",
              "\n",
              "  <svg xmlns=\"http://www.w3.org/2000/svg\" height=\"24px\" viewBox=\"0 -960 960 960\">\n",
              "    <path d=\"M120-120v-720h720v720H120Zm60-500h600v-160H180v160Zm220 220h160v-160H400v160Zm0 220h160v-160H400v160ZM180-400h160v-160H180v160Zm440 0h160v-160H620v160ZM180-180h160v-160H180v160Zm440 0h160v-160H620v160Z\"/>\n",
              "  </svg>\n",
              "    </button>\n",
              "\n",
              "  <style>\n",
              "    .colab-df-container {\n",
              "      display:flex;\n",
              "      gap: 12px;\n",
              "    }\n",
              "\n",
              "    .colab-df-convert {\n",
              "      background-color: #E8F0FE;\n",
              "      border: none;\n",
              "      border-radius: 50%;\n",
              "      cursor: pointer;\n",
              "      display: none;\n",
              "      fill: #1967D2;\n",
              "      height: 32px;\n",
              "      padding: 0 0 0 0;\n",
              "      width: 32px;\n",
              "    }\n",
              "\n",
              "    .colab-df-convert:hover {\n",
              "      background-color: #E2EBFA;\n",
              "      box-shadow: 0px 1px 2px rgba(60, 64, 67, 0.3), 0px 1px 3px 1px rgba(60, 64, 67, 0.15);\n",
              "      fill: #174EA6;\n",
              "    }\n",
              "\n",
              "    .colab-df-buttons div {\n",
              "      margin-bottom: 4px;\n",
              "    }\n",
              "\n",
              "    [theme=dark] .colab-df-convert {\n",
              "      background-color: #3B4455;\n",
              "      fill: #D2E3FC;\n",
              "    }\n",
              "\n",
              "    [theme=dark] .colab-df-convert:hover {\n",
              "      background-color: #434B5C;\n",
              "      box-shadow: 0px 1px 3px 1px rgba(0, 0, 0, 0.15);\n",
              "      filter: drop-shadow(0px 1px 2px rgba(0, 0, 0, 0.3));\n",
              "      fill: #FFFFFF;\n",
              "    }\n",
              "  </style>\n",
              "\n",
              "    <script>\n",
              "      const buttonEl =\n",
              "        document.querySelector('#df-b8d87f20-7728-4c7c-a87c-5e98d5c45900 button.colab-df-convert');\n",
              "      buttonEl.style.display =\n",
              "        google.colab.kernel.accessAllowed ? 'block' : 'none';\n",
              "\n",
              "      async function convertToInteractive(key) {\n",
              "        const element = document.querySelector('#df-b8d87f20-7728-4c7c-a87c-5e98d5c45900');\n",
              "        const dataTable =\n",
              "          await google.colab.kernel.invokeFunction('convertToInteractive',\n",
              "                                                    [key], {});\n",
              "        if (!dataTable) return;\n",
              "\n",
              "        const docLinkHtml = 'Like what you see? Visit the ' +\n",
              "          '<a target=\"_blank\" href=https://colab.research.google.com/notebooks/data_table.ipynb>data table notebook</a>'\n",
              "          + ' to learn more about interactive tables.';\n",
              "        element.innerHTML = '';\n",
              "        dataTable['output_type'] = 'display_data';\n",
              "        await google.colab.output.renderOutput(dataTable, element);\n",
              "        const docLink = document.createElement('div');\n",
              "        docLink.innerHTML = docLinkHtml;\n",
              "        element.appendChild(docLink);\n",
              "      }\n",
              "    </script>\n",
              "  </div>\n",
              "\n",
              "\n",
              "<div id=\"df-a1bb2c29-f9e8-4924-b36f-a88f16c5e72c\">\n",
              "  <button class=\"colab-df-quickchart\" onclick=\"quickchart('df-a1bb2c29-f9e8-4924-b36f-a88f16c5e72c')\"\n",
              "            title=\"Suggest charts\"\n",
              "            style=\"display:none;\">\n",
              "\n",
              "<svg xmlns=\"http://www.w3.org/2000/svg\" height=\"24px\"viewBox=\"0 0 24 24\"\n",
              "     width=\"24px\">\n",
              "    <g>\n",
              "        <path d=\"M19 3H5c-1.1 0-2 .9-2 2v14c0 1.1.9 2 2 2h14c1.1 0 2-.9 2-2V5c0-1.1-.9-2-2-2zM9 17H7v-7h2v7zm4 0h-2V7h2v10zm4 0h-2v-4h2v4z\"/>\n",
              "    </g>\n",
              "</svg>\n",
              "  </button>\n",
              "\n",
              "<style>\n",
              "  .colab-df-quickchart {\n",
              "      --bg-color: #E8F0FE;\n",
              "      --fill-color: #1967D2;\n",
              "      --hover-bg-color: #E2EBFA;\n",
              "      --hover-fill-color: #174EA6;\n",
              "      --disabled-fill-color: #AAA;\n",
              "      --disabled-bg-color: #DDD;\n",
              "  }\n",
              "\n",
              "  [theme=dark] .colab-df-quickchart {\n",
              "      --bg-color: #3B4455;\n",
              "      --fill-color: #D2E3FC;\n",
              "      --hover-bg-color: #434B5C;\n",
              "      --hover-fill-color: #FFFFFF;\n",
              "      --disabled-bg-color: #3B4455;\n",
              "      --disabled-fill-color: #666;\n",
              "  }\n",
              "\n",
              "  .colab-df-quickchart {\n",
              "    background-color: var(--bg-color);\n",
              "    border: none;\n",
              "    border-radius: 50%;\n",
              "    cursor: pointer;\n",
              "    display: none;\n",
              "    fill: var(--fill-color);\n",
              "    height: 32px;\n",
              "    padding: 0;\n",
              "    width: 32px;\n",
              "  }\n",
              "\n",
              "  .colab-df-quickchart:hover {\n",
              "    background-color: var(--hover-bg-color);\n",
              "    box-shadow: 0 1px 2px rgba(60, 64, 67, 0.3), 0 1px 3px 1px rgba(60, 64, 67, 0.15);\n",
              "    fill: var(--button-hover-fill-color);\n",
              "  }\n",
              "\n",
              "  .colab-df-quickchart-complete:disabled,\n",
              "  .colab-df-quickchart-complete:disabled:hover {\n",
              "    background-color: var(--disabled-bg-color);\n",
              "    fill: var(--disabled-fill-color);\n",
              "    box-shadow: none;\n",
              "  }\n",
              "\n",
              "  .colab-df-spinner {\n",
              "    border: 2px solid var(--fill-color);\n",
              "    border-color: transparent;\n",
              "    border-bottom-color: var(--fill-color);\n",
              "    animation:\n",
              "      spin 1s steps(1) infinite;\n",
              "  }\n",
              "\n",
              "  @keyframes spin {\n",
              "    0% {\n",
              "      border-color: transparent;\n",
              "      border-bottom-color: var(--fill-color);\n",
              "      border-left-color: var(--fill-color);\n",
              "    }\n",
              "    20% {\n",
              "      border-color: transparent;\n",
              "      border-left-color: var(--fill-color);\n",
              "      border-top-color: var(--fill-color);\n",
              "    }\n",
              "    30% {\n",
              "      border-color: transparent;\n",
              "      border-left-color: var(--fill-color);\n",
              "      border-top-color: var(--fill-color);\n",
              "      border-right-color: var(--fill-color);\n",
              "    }\n",
              "    40% {\n",
              "      border-color: transparent;\n",
              "      border-right-color: var(--fill-color);\n",
              "      border-top-color: var(--fill-color);\n",
              "    }\n",
              "    60% {\n",
              "      border-color: transparent;\n",
              "      border-right-color: var(--fill-color);\n",
              "    }\n",
              "    80% {\n",
              "      border-color: transparent;\n",
              "      border-right-color: var(--fill-color);\n",
              "      border-bottom-color: var(--fill-color);\n",
              "    }\n",
              "    90% {\n",
              "      border-color: transparent;\n",
              "      border-bottom-color: var(--fill-color);\n",
              "    }\n",
              "  }\n",
              "</style>\n",
              "\n",
              "  <script>\n",
              "    async function quickchart(key) {\n",
              "      const quickchartButtonEl =\n",
              "        document.querySelector('#' + key + ' button');\n",
              "      quickchartButtonEl.disabled = true;  // To prevent multiple clicks.\n",
              "      quickchartButtonEl.classList.add('colab-df-spinner');\n",
              "      try {\n",
              "        const charts = await google.colab.kernel.invokeFunction(\n",
              "            'suggestCharts', [key], {});\n",
              "      } catch (error) {\n",
              "        console.error('Error during call to suggestCharts:', error);\n",
              "      }\n",
              "      quickchartButtonEl.classList.remove('colab-df-spinner');\n",
              "      quickchartButtonEl.classList.add('colab-df-quickchart-complete');\n",
              "    }\n",
              "    (() => {\n",
              "      let quickchartButtonEl =\n",
              "        document.querySelector('#df-a1bb2c29-f9e8-4924-b36f-a88f16c5e72c button');\n",
              "      quickchartButtonEl.style.display =\n",
              "        google.colab.kernel.accessAllowed ? 'block' : 'none';\n",
              "    })();\n",
              "  </script>\n",
              "</div>\n",
              "\n",
              "    </div>\n",
              "  </div>\n"
            ],
            "text/plain": [
              "         intent                                  utterance  \\\n",
              "0  abbreviation                       what is fare code qw   \n",
              "1  abbreviation                        what is fare code f   \n",
              "2  abbreviation  show me what fare codes symbols stand for   \n",
              "3  abbreviation                                 what is ff   \n",
              "4  abbreviation                      what does code y mean   \n",
              "\n",
              "                       slots  \\\n",
              "0  O O O O B-fare_basis_code   \n",
              "1  O O O O B-fare_basis_code   \n",
              "2            O O O O O O O O   \n",
              "3         O O B-airline_code   \n",
              "4  O O O B-fare_basis_code O   \n",
              "\n",
              "                                    utterance_tokens  \\\n",
              "0                         [what, is, fare, code, qw]   \n",
              "1                          [what, is, fare, code, f]   \n",
              "2  [show, me, what, fare, codes, symbols, stand, ...   \n",
              "3                                     [what, is, ff]   \n",
              "4                        [what, does, code, y, mean]   \n",
              "\n",
              "                  normalized_utterance  \n",
              "0                     [fare, code, qw]  \n",
              "1                      [fare, code, f]  \n",
              "2  [show, fare, codes, symbols, stand]  \n",
              "3                                 [ff]  \n",
              "4                         [code, mean]  "
            ]
          },
          "execution_count": 21,
          "metadata": {},
          "output_type": "execute_result"
        }
      ],
      "source": [
        "train_df.head()\n"
      ]
    },
    {
      "cell_type": "markdown",
      "metadata": {
        "id": "-PFZmqPeI3lS"
      },
      "source": [
        "## Traditional/ Baseline Models\n",
        "## Training for Intent Classification\n"
      ]
    },
    {
      "cell_type": "markdown",
      "metadata": {
        "id": "BI7XZCxMcsOL"
      },
      "source": [
        "### Multinomial Naive Bayes"
      ]
    },
    {
      "cell_type": "markdown",
      "metadata": {
        "id": "PXdpnLQCAyYt"
      },
      "source": [
        "- The Multinomial Naive Bayes model is trained using the TF-IDF features, followed by predictions on the test set.\n",
        "- Accuracy, F1 Score and classification reports are generated, and confusion matrices are plotted.\n",
        "- A validation function evaluates predictions during the training process."
      ]
    },
    {
      "cell_type": "code",
      "execution_count": 22,
      "metadata": {
        "colab": {
          "base_uri": "https://localhost:8080/"
        },
        "id": "ehRsn-mlNNXy",
        "outputId": "5cd85ac9-2ff0-43da-bbbd-82bd5e7a4af9"
      },
      "outputs": [
        {
          "name": "stdout",
          "output_type": "stream",
          "text": [
            "Test Accuracy: 0.7978\n"
          ]
        }
      ],
      "source": [
        "# Initialize the Multinomial Naive Bayes classifier\n",
        "nb_model = MultinomialNB()\n",
        "\n",
        "# Train the model using the training data\n",
        "nb_model.fit(X_train_tfidf, y_train)\n",
        "\n",
        "# Predict on the test set\n",
        "y_test_pred = nb_model.predict(X_test_tfidf)\n",
        "\n",
        "# Test accuracy\n",
        "# Calculate accuracy by comparing predictions with actual labels\n",
        "test_accuracy = accuracy_score(y_test, y_test_pred)\n",
        "print(f\"Test Accuracy: {test_accuracy:.4f}\")\n"
      ]
    },
    {
      "cell_type": "code",
      "execution_count": 23,
      "metadata": {
        "colab": {
          "base_uri": "https://localhost:8080/"
        },
        "id": "FIynm7Y4dc4s",
        "outputId": "b5f1ec74-c28a-45c3-a908-d4e31a863cbf"
      },
      "outputs": [
        {
          "name": "stdout",
          "output_type": "stream",
          "text": [
            "                precision    recall  f1-score   support\n",
            "\n",
            "  abbreviation       1.00      0.79      0.88        33\n",
            "      aircraft       0.22      0.44      0.30         9\n",
            "       airfare       0.67      0.21      0.32        48\n",
            "       airline       1.00      0.18      0.30        39\n",
            "       airport       0.00      0.00      0.00        18\n",
            "      capacity       0.00      0.00      0.00        21\n",
            "          city       0.00      0.00      0.00         6\n",
            "      distance       0.00      0.00      0.00        10\n",
            "        flight       0.80      1.00      0.89       632\n",
            "flight+airfare       0.00      0.00      0.00        13\n",
            "     flight_no       0.00      0.00      0.00         8\n",
            "   flight_time       0.00      0.00      0.00         1\n",
            "   ground_fare       0.00      0.00      0.00         7\n",
            "ground_service       0.92      0.97      0.95        36\n",
            "          meal       0.00      0.00      0.00         6\n",
            "      quantity       0.00      0.00      0.00         3\n",
            "   restriction       0.00      0.00      0.00         5\n",
            "\n",
            "      accuracy                           0.80       895\n",
            "     macro avg       0.27      0.21      0.21       895\n",
            "  weighted avg       0.72      0.80      0.73       895\n",
            "\n"
          ]
        },
        {
          "name": "stderr",
          "output_type": "stream",
          "text": [
            "/usr/local/lib/python3.10/dist-packages/sklearn/metrics/_classification.py:1531: UndefinedMetricWarning: Precision is ill-defined and being set to 0.0 in labels with no predicted samples. Use `zero_division` parameter to control this behavior.\n",
            "  _warn_prf(average, modifier, f\"{metric.capitalize()} is\", len(result))\n",
            "/usr/local/lib/python3.10/dist-packages/sklearn/metrics/_classification.py:1531: UndefinedMetricWarning: Precision is ill-defined and being set to 0.0 in labels with no predicted samples. Use `zero_division` parameter to control this behavior.\n",
            "  _warn_prf(average, modifier, f\"{metric.capitalize()} is\", len(result))\n",
            "/usr/local/lib/python3.10/dist-packages/sklearn/metrics/_classification.py:1531: UndefinedMetricWarning: Precision is ill-defined and being set to 0.0 in labels with no predicted samples. Use `zero_division` parameter to control this behavior.\n",
            "  _warn_prf(average, modifier, f\"{metric.capitalize()} is\", len(result))\n"
          ]
        }
      ],
      "source": [
        "# Test classification report: Outputs with precision, recall, and F1-score\n",
        "print(classification_report(y_test, y_test_pred, target_names=label_encoder.classes_))\n"
      ]
    },
    {
      "cell_type": "code",
      "execution_count": 24,
      "metadata": {
        "colab": {
          "base_uri": "https://localhost:8080/"
        },
        "id": "kyFme5UnzvLy",
        "outputId": "7b65d5eb-ae75-4ed3-f78e-50c4e42556f6"
      },
      "outputs": [
        {
          "name": "stdout",
          "output_type": "stream",
          "text": [
            "Predicted 3790 correctly out of 4375 training examples\n",
            "Predicted 714 correctly out of 895 training examples\n"
          ]
        }
      ],
      "source": [
        "# Validation Step\n",
        "\n",
        "def nbModel_validation(nb_model, X_train_tfidf, y_train):\n",
        "    \"\"\"\n",
        "    Validate the Naive Bayes model by predicting labels and counting correct predictions.\n",
        "\n",
        "    Parameters:\n",
        "    nb_model (sklearn.naive_bayes.MultinomialNB): Trained Naive Bayes model.\n",
        "    X_train_tfidf (scipy.sparse.csr.csr_matrix): TF-IDF transformed feature set.\n",
        "    y_train (numpy.ndarray): True labels for the dataset.\n",
        "    \"\"\"\n",
        "    # Predict the labels of the training set\n",
        "    y_pred = nb_model.predict(X_train_tfidf)  # Get predicted labels for the training data\n",
        "\n",
        "    # Count the number of correct predictions\n",
        "    n_correct = 0  # Initialize counter for correct predictions\n",
        "    for i in range(len(y_train)):\n",
        "        if y_pred[i] == y_train[i]:  # Check if the predicted label matches the actual label\n",
        "            n_correct += 1  # Increment counter if the prediction is correct\n",
        "\n",
        "    # Output the number of correct predictions\n",
        "    print(\"Predicted {0} correctly out of {1} training examples\".format(n_correct, len(y_train)))\n",
        "\n",
        "# Validate the model on training and test sets\n",
        "nbModel_validation(nb_model, X_train_tfidf, y_train)  # Validation on training data\n",
        "nbModel_validation(nb_model, X_test_tfidf, y_test)  # Validation on test data\n"
      ]
    },
    {
      "cell_type": "code",
      "execution_count": 25,
      "metadata": {
        "colab": {
          "base_uri": "https://localhost:8080/"
        },
        "id": "Ibd1ELTAh2Ob",
        "outputId": "abcfcd4d-d865-40ee-dffb-c77f757a2c06"
      },
      "outputs": [
        {
          "name": "stdout",
          "output_type": "stream",
          "text": [
            "Utterance: determine the type of aircraft used on a flight from cleveland to dallas that leaves before noon\n",
            "Predicted Class: flight\n",
            "Actual Class: aircraft\n"
          ]
        }
      ],
      "source": [
        "# Function to predict and compare the class for an input from the preprocessed test set\n",
        "def predict_and_compare_from_test(nb_model, X_test, y_test, test_df, label_encoder, index):\n",
        "    \"\"\"\n",
        "    Predict the class for a specific input from the test set and compare it with the actual class.\n",
        "\n",
        "    Parameters:\n",
        "    nb_model (sklearn.naive_bayes.MultinomialNB): Trained Naive Bayes model.\n",
        "    X_test (scipy.sparse.csr.csr_matrix): TF-IDF transformed feature set for the test data.\n",
        "    y_test (numpy.ndarray): True labels for the test set.\n",
        "    test_df (pandas.DataFrame): DataFrame containing the raw test data with 'utterance' column.\n",
        "    label_encoder (sklearn.preprocessing.LabelEncoder): LabelEncoder to convert labels back to class names.\n",
        "    index (int): Index of the input sample to predict and compare.\n",
        "    \"\"\"\n",
        "    # Extract the raw utterance, input vectorized, and the actual label from the test set\n",
        "    utterance = test_df['utterance'].iloc[index]  # Get the raw input utterance\n",
        "    input_vectorized = X_test[index]  # Get the vectorized representation of the input\n",
        "    actual_label_index = y_test[index]  # Get the actual class label index for the sample\n",
        "\n",
        "    # Predict the class for the input using the trained Naive Bayes model\n",
        "    predicted_class_index = nb_model.predict(input_vectorized)[0]  # Get the predicted class index\n",
        "    predicted_class = label_encoder.inverse_transform([predicted_class_index])[0]  # Convert index to class name\n",
        "    actual_class = label_encoder.inverse_transform([actual_label_index])[0]  # Convert actual label index to class name\n",
        "\n",
        "    # Print the results: utterance, predicted class, and actual class\n",
        "    print(f\"Utterance: {utterance}\")\n",
        "    print(f\"Predicted Class: {predicted_class}\")\n",
        "    print(f\"Actual Class: {actual_class}\")\n",
        "\n",
        "# Example usage: Select an index from the preprocessed test set\n",
        "example_index = 34  # Choose an index from the test data\n",
        "\n",
        "# Call the function to predict and compare the class\n",
        "predict_and_compare_from_test(\n",
        "    nb_model=nb_model,\n",
        "    X_test=X_test_tfidf,\n",
        "    y_test=y_test,\n",
        "    test_df=test_df,\n",
        "    label_encoder=label_encoder,\n",
        "    index=example_index\n",
        ")\n"
      ]
    },
    {
      "cell_type": "code",
      "execution_count": 26,
      "metadata": {
        "colab": {
          "base_uri": "https://localhost:8080/"
        },
        "id": "lon0g7IsfeTi",
        "outputId": "aafe4bd0-d740-4e70-d8a0-0c4de0f54ea2"
      },
      "outputs": [
        {
          "name": "stdout",
          "output_type": "stream",
          "text": [
            "Input: how far is toronto international from downtown\n",
            "Predicted Class: flight\n"
          ]
        }
      ],
      "source": [
        "# Function to predict and compare the input's predicted and actual class\n",
        "def predict_and_compare(nb_model, input_text, label_encoder, vectorizer, actual_label=None):\n",
        "    \"\"\"\n",
        "    Predicts the class for the input text and compares it with the actual class if provided.\n",
        "\n",
        "    Parameters:\n",
        "    nb_model (sklearn.naive_bayes.MultinomialNB): Trained Naive Bayes model.\n",
        "    input_text (str): The text input to predict the class for.\n",
        "    label_encoder (sklearn.preprocessing.LabelEncoder): LabelEncoder to decode predicted class index into class name.\n",
        "    vectorizer (sklearn.feature_extraction.text.TfidfVectorizer): The vectorizer used to transform the text.\n",
        "    \"\"\"\n",
        "\n",
        "    # Transform the input text using the same vectorizer used during training\n",
        "    input_vectorized = vectorizer.transform([input_text])\n",
        "\n",
        "    # Predict the class for the input\n",
        "    predicted_class_index = nb_model.predict(input_vectorized)[0]\n",
        "    predicted_class = label_encoder.inverse_transform([predicted_class_index])[0]\n",
        "\n",
        "    # Print the input and predicted class\n",
        "    print(f\"Input: {input_text}\")  # Display the input text provided by the user\n",
        "    print(f\"Predicted Class: {predicted_class}\")  # Display the predicted class\n",
        "\n",
        "# Assuming the test set's first sample and its actual label:\n",
        "example_input = \"how far is toronto international from downtown\"\n",
        "example_label = y_test[0]\n",
        "\n",
        "predict_and_compare(\n",
        "    nb_model=nb_model,\n",
        "    input_text=example_input,\n",
        "    label_encoder=label_encoder,\n",
        "    vectorizer=tfidf,\n",
        "    actual_label=example_label\n",
        ")\n"
      ]
    },
    {
      "cell_type": "code",
      "execution_count": 30,
      "metadata": {
        "colab": {
          "base_uri": "https://localhost:8080/",
          "height": 487
        },
        "id": "mrZE5yWbLdYP",
        "outputId": "0fc0de72-2be4-4394-d673-3d48ef171a8f"
      },
      "outputs": [
        {
          "data": {
            "image/png": "[encoded data removed]",
            "text/plain": [
              "<Figure size 640x480 with 2 Axes>"
            ]
          },
          "metadata": {},
          "output_type": "display_data"
        }
      ],
      "source": [
        "# Generate the confusion matrix\n",
        "# Compare true labels and predicted labels for the test set\n",
        "conf_matrix_nb = confusion_matrix(y_test, y_test_pred)\n",
        "# Displays the confusion matrix in a visual format\n",
        "disp = ConfusionMatrixDisplay(confusion_matrix=conf_matrix_nb, display_labels=label_encoder.classes_)\n",
        "disp.plot(cmap='viridis')\n",
        "\n",
        "# Rotate the x-axis labels\n",
        "plt.xticks(rotation=45, ha='right')  # Rotate labels and align to the right\n",
        "plt.tight_layout()  # Adjust layout to fit rotated labels\n",
        "plt.show()\n"
      ]
    },
    {
      "cell_type": "markdown",
      "metadata": {
        "id": "HIGYKToFcmJH"
      },
      "source": [
        "### Logistic Regression"
      ]
    },
    {
      "cell_type": "markdown",
      "metadata": {
        "id": "QpvvPyW8BCFB"
      },
      "source": [
        "- Similar to the Naive Bayes model, Logistic Regression is trained, and performance metrics like accuracy score and F1 score are displayed.\n",
        "- A validation step is also included."
      ]
    },
    {
      "cell_type": "code",
      "execution_count": 31,
      "metadata": {
        "id": "isrl82_CNNPa"
      },
      "outputs": [],
      "source": [
        "# Logistic Regression Model\n",
        "# Initialize Logistic Regression with 1000 iterations for convergence\n",
        "logreg_model = LogisticRegression(max_iter=1000)\n",
        "\n",
        "# Train the model on the training data\n",
        "logreg_model.fit(X_train_tfidf, y_train)\n",
        "\n",
        "# Make predictions on the test set\n",
        "y_pred_logreg = logreg_model.predict(X_test_tfidf)\n"
      ]
    },
    {
      "cell_type": "code",
      "execution_count": 32,
      "metadata": {
        "colab": {
          "base_uri": "https://localhost:8080/"
        },
        "id": "fdKocSKbdZ68",
        "outputId": "a98f789c-a41c-490d-addf-a0371a5f9d84"
      },
      "outputs": [
        {
          "name": "stdout",
          "output_type": "stream",
          "text": [
            "Logistic Regression Classification Report:\n",
            "              precision    recall  f1-score   support\n",
            "\n",
            "           0       1.00      0.79      0.88        33\n",
            "           1       0.47      1.00      0.64         9\n",
            "           2       0.88      0.88      0.88        48\n",
            "           3       1.00      0.77      0.87        39\n",
            "           4       1.00      0.11      0.20        18\n",
            "           5       0.00      0.00      0.00        21\n",
            "           6       0.00      0.00      0.00         6\n",
            "           7       1.00      0.10      0.18        10\n",
            "           8       0.87      0.99      0.93       632\n",
            "           9       0.00      0.00      0.00        13\n",
            "          10       0.00      0.00      0.00         8\n",
            "          11       0.00      0.00      0.00         1\n",
            "          12       1.00      0.57      0.73         7\n",
            "          13       0.97      0.97      0.97        36\n",
            "          14       0.00      0.00      0.00         6\n",
            "          15       0.50      1.00      0.67         3\n",
            "          16       0.00      0.00      0.00         5\n",
            "\n",
            "    accuracy                           0.87       895\n",
            "   macro avg       0.51      0.42      0.41       895\n",
            "weighted avg       0.83      0.87      0.83       895\n",
            "\n"
          ]
        },
        {
          "name": "stderr",
          "output_type": "stream",
          "text": [
            "/usr/local/lib/python3.10/dist-packages/sklearn/metrics/_classification.py:1531: UndefinedMetricWarning: Precision is ill-defined and being set to 0.0 in labels with no predicted samples. Use `zero_division` parameter to control this behavior.\n",
            "  _warn_prf(average, modifier, f\"{metric.capitalize()} is\", len(result))\n",
            "/usr/local/lib/python3.10/dist-packages/sklearn/metrics/_classification.py:1531: UndefinedMetricWarning: Precision is ill-defined and being set to 0.0 in labels with no predicted samples. Use `zero_division` parameter to control this behavior.\n",
            "  _warn_prf(average, modifier, f\"{metric.capitalize()} is\", len(result))\n",
            "/usr/local/lib/python3.10/dist-packages/sklearn/metrics/_classification.py:1531: UndefinedMetricWarning: Precision is ill-defined and being set to 0.0 in labels with no predicted samples. Use `zero_division` parameter to control this behavior.\n",
            "  _warn_prf(average, modifier, f\"{metric.capitalize()} is\", len(result))\n"
          ]
        }
      ],
      "source": [
        "# Print the classification report for the Logistic Regression model\n",
        "print(\"Logistic Regression Classification Report:\")\n",
        "print(classification_report(y_test, y_pred_logreg))\n"
      ]
    },
    {
      "cell_type": "code",
      "execution_count": 33,
      "metadata": {
        "colab": {
          "base_uri": "https://localhost:8080/"
        },
        "id": "vze-JPkN0Jai",
        "outputId": "56056715-4044-48f6-bdce-7d3838d171e4"
      },
      "outputs": [
        {
          "name": "stdout",
          "output_type": "stream",
          "text": [
            "Predicted 4123 correctly out of 4375 training examples\n",
            "Predicted 780 correctly out of 895 training examples\n"
          ]
        }
      ],
      "source": [
        "# Validation Step for Logistic Regression Model\n",
        "def logregModel_validation(logreg_model, X_train_tfidf, y_train):\n",
        "    \"\"\"\n",
        "    Validate the Logistic Regression model by predicting the labels on the given data and counting correct predictions.\n",
        "\n",
        "    Parameters:\n",
        "    logreg_model: Trained Logistic Regression model.\n",
        "    X_train_tfidf: Feature matrix (TF-IDF transformed) for the training data.\n",
        "    y_train: True labels for the training data.\n",
        "    \"\"\"\n",
        "\n",
        "    # Predict the labels for the training data\n",
        "    y_pred_logreg = logreg_model.predict(X_train_tfidf)\n",
        "\n",
        "    # Initialize counter for correct predictions\n",
        "    n_correct = 0\n",
        "    for i in range(len(y_train)):\n",
        "        if y_pred_logreg[i] == y_train[i]:\n",
        "            n_correct += 1\n",
        "\n",
        "    # Output the number of correct predictions\n",
        "    print(\"Predicted {0} correctly out of {1} training examples\".format(n_correct, len(y_train)))\n",
        "\n",
        "# Validate the model on both training and test datasets\n",
        "# Training set validation\n",
        "logregModel_validation(logreg_model, X_train_tfidf, y_train)\n",
        "# Test set validation\n",
        "logregModel_validation(logreg_model, X_test_tfidf, y_test)\n"
      ]
    },
    {
      "cell_type": "code",
      "execution_count": 34,
      "metadata": {
        "colab": {
          "base_uri": "https://localhost:8080/"
        },
        "id": "UsAIT8p1n2dT",
        "outputId": "ed9e38b4-9f76-434d-9dc0-faeb9ef20335"
      },
      "outputs": [
        {
          "name": "stdout",
          "output_type": "stream",
          "text": [
            "Utterance: determine the type of aircraft used on a flight from cleveland to dallas that leaves before noon\n",
            "Predicted Class: aircraft\n",
            "Actual Class: aircraft\n"
          ]
        }
      ],
      "source": [
        "# Function to predict and compare the class for an input from the preprocessed test set\n",
        "def predict_and_compare_from_test(model, X_test, y_test, test_df, label_encoder, index):\n",
        "    \"\"\"\n",
        "    Predict the class for a specific input from the test set and compare it with the actual class.\n",
        "\n",
        "    Args:\n",
        "        model: The trained classification model (Logistic Regression).\n",
        "        X_test: The test set features (vectorized input data).\n",
        "        y_test: The true labels for the test set.\n",
        "        test_df: The DataFrame containing the raw test set data.\n",
        "        label_encoder: The LabelEncoder object used to encode labels.\n",
        "        index: The index of the input to predict and compare.\n",
        "\n",
        "    Returns:\n",
        "        None\n",
        "    \"\"\"\n",
        "    # Extract the raw utterance from the test DataFrame using the provided index\n",
        "    utterance = test_df['utterance'].iloc[index]\n",
        "\n",
        "    # Get the vectorized input corresponding to the given index\n",
        "    input_vectorized = X_test[index]\n",
        "\n",
        "    # Get the actual label index from the test set labels\n",
        "    actual_label_index = y_test[index]\n",
        "\n",
        "    # Predict the class for the input using the model\n",
        "    predicted_class_index = model.predict(input_vectorized)[0]\n",
        "\n",
        "    # Convert the predicted label index back to its original class label\n",
        "    predicted_class = label_encoder.inverse_transform([predicted_class_index])[0]\n",
        "\n",
        "    # Convert the actual label index to its original class label\n",
        "    actual_class = label_encoder.inverse_transform([actual_label_index])[0]\n",
        "\n",
        "    # Print the results: the input utterance, predicted class, and actual class\n",
        "    print(f\"Utterance: {utterance}\")\n",
        "    print(f\"Predicted Class: {predicted_class}\")\n",
        "    print(f\"Actual Class: {actual_class}\")\n",
        "\n",
        "# Example usage: Select an index from the preprocessed test set\n",
        "example_index = 34\n",
        "\n",
        "# Call the function to predict and compare for the selected test example\n",
        "predict_and_compare_from_test(\n",
        "    model=logreg_model,\n",
        "    X_test=X_test_tfidf,\n",
        "    y_test=y_test,\n",
        "    test_df=test_df,\n",
        "    label_encoder=label_encoder,\n",
        "    index=example_index\n",
        ")\n"
      ]
    },
    {
      "cell_type": "code",
      "execution_count": 35,
      "metadata": {
        "colab": {
          "base_uri": "https://localhost:8080/"
        },
        "id": "rTZmiLUidER9",
        "outputId": "53518bee-33ec-4ead-9919-bc959c9519e4"
      },
      "outputs": [
        {
          "name": "stdout",
          "output_type": "stream",
          "text": [
            "Input: how far is toronto international from downtown\n",
            "Predicted Class: flight\n"
          ]
        }
      ],
      "source": [
        "# Function to predict and compare the input's predicted and actual class\n",
        "def predict_and_compare(logreg_model, input_text, label_encoder, vectorizer, actual_label=None):\n",
        "    \"\"\"\n",
        "    Predicts the class for the input text and compares it with the actual class if provided.\n",
        "\n",
        "    Parameters:\n",
        "    model: Trained Logistic Regression model.\n",
        "    input_text (str): The text input to predict the class for.\n",
        "    label_encoder (sklearn.preprocessing.LabelEncoder): LabelEncoder to decode predicted class index into class name.\n",
        "    vectorizer (sklearn.feature_extraction.text.TfidfVectorizer): The vectorizer used to transform the text.\n",
        "    \"\"\"\n",
        "\n",
        "    # Transform the input text using the same vectorizer used during training\n",
        "    input_vectorized = vectorizer.transform([input_text])\n",
        "\n",
        "    # Predict the class for the input\n",
        "    predicted_class_index = logreg_model.predict(input_vectorized)[0]\n",
        "    predicted_class = label_encoder.inverse_transform([predicted_class_index])[0]\n",
        "\n",
        "    # Print the input and predicted class\n",
        "    print(f\"Input: {input_text}\")  # Display the input text provided by the user\n",
        "    print(f\"Predicted Class: {predicted_class}\")  # Display the predicted class\n",
        "\n",
        "# Assuming the test set's first sample and its actual label:\n",
        "example_input = \"how far is toronto international from downtown\"\n",
        "example_label = y_test[0]\n",
        "\n",
        "predict_and_compare(\n",
        "    logreg_model=logreg_model,\n",
        "    input_text=example_input,\n",
        "    label_encoder=label_encoder,\n",
        "    vectorizer=tfidf,\n",
        "    actual_label=example_label\n",
        ")\n"
      ]
    },
    {
      "cell_type": "code",
      "execution_count": 36,
      "metadata": {
        "colab": {
          "base_uri": "https://localhost:8080/",
          "height": 487
        },
        "id": "qrOnQDIsp-fz",
        "outputId": "4e615116-0f56-45c3-e949-5703cc2a7a6a"
      },
      "outputs": [
        {
          "data": {
            "image/png": "[encoded data removed]",
            "text/plain": [
              "<Figure size 640x480 with 2 Axes>"
            ]
          },
          "metadata": {},
          "output_type": "display_data"
        }
      ],
      "source": [
        "# Generate the confusion matrix\n",
        "# Compare true labels and predicted labels for the test set\n",
        "conf_matrix_logreg = confusion_matrix(y_test, y_pred_logreg)\n",
        "# Displays the confusion matrix in a visual format\n",
        "disp_logreg = ConfusionMatrixDisplay(confusion_matrix=conf_matrix_logreg, display_labels=label_encoder.classes_)\n",
        "disp_logreg.plot(cmap='viridis')\n",
        "\n",
        "# Rotate the x-axis labels\n",
        "plt.xticks(rotation=45, ha='right')  # Rotate labels and align to the right\n",
        "plt.tight_layout()  # Adjust layout to fit rotated labels\n",
        "plt.show()\n"
      ]
    },
    {
      "cell_type": "markdown",
      "metadata": {
        "id": "4Evazr8mEUIt"
      },
      "source": [
        "# CNN for Intent Classification"
      ]
    },
    {
      "cell_type": "markdown",
      "metadata": {
        "id": "qHbGcGwO2TZj"
      },
      "source": [
        "## Preprocessing for CNN"
      ]
    },
    {
      "cell_type": "markdown",
      "metadata": {
        "id": "zHfo9bPWBOxU"
      },
      "source": [
        "**Text Preprocessing for CNN:**\n",
        "- Text is tokenized and converted to sequences.\n",
        "- Word embeddings (GloVe 300-dimensional vectors) are used to padded the sequences to a consistent length."
      ]
    },
    {
      "cell_type": "code",
      "execution_count": 37,
      "metadata": {
        "id": "ucO76ylq1YMS"
      },
      "outputs": [],
      "source": [
        "# Tokenize the text data using Tokenizer\n",
        "tok = Tokenizer()\n",
        "# Fit the tokenizer on the training data\n",
        "tok.fit_on_texts(train_df['normalized_utterance'])\n",
        "# Get the word index mapping for all tokens in the training set\n",
        "word_index = tok.word_index\n"
      ]
    },
    {
      "cell_type": "code",
      "execution_count": 38,
      "metadata": {
        "colab": {
          "base_uri": "https://localhost:8080/"
        },
        "id": "S3Qg1pt2LsnE",
        "outputId": "0bc4a0dd-e7cf-4def-c6eb-9ad7ec4e1379"
      },
      "outputs": [
        {
          "name": "stdout",
          "output_type": "stream",
          "text": [
            "769\n"
          ]
        }
      ],
      "source": [
        "# Define max_vocab_size and input_length\n",
        "# Set the vocabulary size based on the word index size\n",
        "max_vocab_size = len(word_index) + 1\n",
        "print(max_vocab_size)\n",
        "# The maximum sequence length for input\n",
        "input_length = 30\n"
      ]
    },
    {
      "cell_type": "code",
      "execution_count": 39,
      "metadata": {
        "id": "SkcaMVNhLwy4"
      },
      "outputs": [],
      "source": [
        "# Convert train, validation and test utterances to token sequences\n",
        "train_data_tokens = tok.texts_to_sequences(train_df['normalized_utterance'])\n",
        "valid_data_tokens = tok.texts_to_sequences(valid_df['normalized_utterance'])\n",
        "test_data_tokens = tok.texts_to_sequences(test_df['normalized_utterance'])\n"
      ]
    },
    {
      "cell_type": "code",
      "execution_count": 40,
      "metadata": {
        "colab": {
          "base_uri": "https://localhost:8080/"
        },
        "id": "7_ypCEeBLwvR",
        "outputId": "d50a3de9-ff4f-4895-f9fa-9a8e97f1a1b6"
      },
      "outputs": [
        {
          "name": "stdout",
          "output_type": "stream",
          "text": [
            "[[  0   0   0 ...  23  99 321]\n",
            " [  0   0   0 ...  23  99 266]\n",
            " [  0   0   0 ... 292 526 225]\n",
            " ...\n",
            " [  0   0   0 ... 227 768 129]\n",
            " [  0   0   0 ...   0 214 389]\n",
            " [  0   0   0 ...  23   4  25]]\n",
            "[[  0   0   0 ...  99 347 130]\n",
            " [  0   0   0 ... 250 296 130]\n",
            " [  0   0   0 ...  23  99 266]\n",
            " ...\n",
            " [  0   0   0 ...  93 429  33]\n",
            " [  0   0   0 ...  17 192 244]\n",
            " [  0   0   0 ...   0  70 214]]\n",
            "[[  0   0   0 ...   0 161  99]\n",
            " [  0   0   0 ...   0  23  99]\n",
            " [  0   0   0 ...  23  99 266]\n",
            " ...\n",
            " [  0   0   0 ...   0 525 283]\n",
            " [  0   0   0 ...   0 525   1]\n",
            " [  0   0   0 ...   1  41  46]]\n"
          ]
        }
      ],
      "source": [
        "# Pad sequences to ensure consistent input size\n",
        "# Pad training sequences to the fixed length\n",
        "train_input = pad_sequences(train_data_tokens, maxlen=input_length)\n",
        "print(train_input)\n",
        "# Pad validation sequences\n",
        "valid_input = pad_sequences(valid_data_tokens, maxlen=input_length)\n",
        "print(valid_input)\n",
        "# Pad test sequences\n",
        "test_input = pad_sequences(test_data_tokens, maxlen=input_length)\n",
        "print(test_input)\n"
      ]
    },
    {
      "cell_type": "code",
      "execution_count": 41,
      "metadata": {
        "colab": {
          "base_uri": "https://localhost:8080/"
        },
        "id": "9Xget_ONONrH",
        "outputId": "9559bba0-7066-4a5d-89b3-976e1a3c2839"
      },
      "outputs": [
        {
          "name": "stdout",
          "output_type": "stream",
          "text": [
            "(4375, 30)\n",
            "(597, 30)\n",
            "(895, 30)\n"
          ]
        }
      ],
      "source": [
        "# Print the shape of the padded training,validation and testing input\n",
        "print(train_input.shape)\n",
        "print(valid_input.shape)\n",
        "print(test_input.shape)\n"
      ]
    },
    {
      "cell_type": "code",
      "execution_count": 42,
      "metadata": {
        "id": "hEO69pptLws3"
      },
      "outputs": [],
      "source": [
        "# One-hot encode the training, validation and testing labels\n",
        "y_train = to_categorical(y_train)\n",
        "y_valid = to_categorical(y_valid)\n",
        "y_test = to_categorical(y_test)\n"
      ]
    },
    {
      "cell_type": "code",
      "execution_count": 43,
      "metadata": {
        "colab": {
          "base_uri": "https://localhost:8080/"
        },
        "id": "JqhAdDG3OTnf",
        "outputId": "d8d42fec-2478-4f76-8009-617d604bd54a"
      },
      "outputs": [
        {
          "name": "stdout",
          "output_type": "stream",
          "text": [
            "(4375, 17)\n",
            "(597, 17)\n",
            "(895, 17)\n"
          ]
        }
      ],
      "source": [
        "# Print the shape of the one-hot encoded training, validation and testing labels labels\n",
        "print(y_train.shape)\n",
        "print(y_valid.shape)\n",
        "print(y_test.shape)\n"
      ]
    },
    {
      "cell_type": "code",
      "execution_count": 44,
      "metadata": {
        "colab": {
          "base_uri": "https://localhost:8080/"
        },
        "id": "021Dl34fLwnz",
        "outputId": "d02b8aeb-f749-43df-8edb-b2ad3f56d756"
      },
      "outputs": [
        {
          "name": "stdout",
          "output_type": "stream",
          "text": [
            "Loaded 400000 word vectors.\n"
          ]
        }
      ],
      "source": [
        "# Load GloVe embeddings (300-dimensional)\n",
        "embedding_dim = 300  # The dimensionality of the GloVe embeddings\n",
        "embedding_index = {}  # Initialize an empty dictionary to store word embeddings\n",
        "\n",
        "# Load the GloVe embeddings from the file and store them in the embedding index\n",
        "with open(\"glove.6B.300d.txt\", 'r', encoding='utf-8') as f:\n",
        "    for line in f:\n",
        "        values = line.split()  # Split the line into words and corresponding values\n",
        "        word = values[0]  # The word is the first element in the line\n",
        "        coefs = np.asarray(values[1:], dtype='float32')  # The remaining elements are the word's embedding\n",
        "        embedding_index[word] = coefs  # Store the word and its embedding in the index\n",
        "\n",
        "# Print the total number of word vectors loaded\n",
        "print(f\"Loaded {len(embedding_index)} word vectors.\")\n"
      ]
    },
    {
      "cell_type": "code",
      "execution_count": 45,
      "metadata": {
        "id": "x6o_yMwXLwlD"
      },
      "outputs": [],
      "source": [
        "# Prepare the embedding matrix\n",
        "vocab_size = len(word_index) + 1  # +1 for the padding token\n",
        "embedding_matrix = np.zeros((vocab_size, embedding_dim))  # Initialize with zeros\n",
        "\n",
        "for word, i in word_index.items():\n",
        "    # If the word has a GloVe vector and the index is within the vocabulary size\n",
        "    if i < vocab_size and word in embedding_index:\n",
        "        embedding_matrix[i] = embedding_index[word]  # Assign the GloVe vector\n"
      ]
    },
    {
      "cell_type": "markdown",
      "metadata": {
        "id": "yiJuIO5d2Yyx"
      },
      "source": [
        "## Model Training for CNN"
      ]
    },
    {
      "cell_type": "markdown",
      "metadata": {
        "id": "XNacDDN2BqnS"
      },
      "source": [
        "**CNN Model:**\n",
        "- The CNN model is built with an embedding layer, convolutional and pooling layers, and fully connected layers.\n",
        "- The model is trained and evaluated on the test set.\n",
        "- Performance is measured using accuracy, F1 Score and confusion matrices."
      ]
    },
    {
      "cell_type": "code",
      "execution_count": 46,
      "metadata": {
        "colab": {
          "base_uri": "https://localhost:8080/",
          "height": 376
        },
        "id": "k6Dv3QDALwiE",
        "outputId": "5901d601-38f6-4bdd-e1dc-ae97e0197aca"
      },
      "outputs": [
        {
          "name": "stderr",
          "output_type": "stream",
          "text": [
            "/usr/local/lib/python3.10/dist-packages/keras/src/layers/core/embedding.py:90: UserWarning: Argument `input_length` is deprecated. Just remove it.\n",
            "  warnings.warn(\n"
          ]
        },
        {
          "data": {
            "text/html": [
              "<pre style=\"white-space:pre;overflow-x:auto;line-height:normal;font-family:Menlo,'DejaVu Sans Mono',consolas,'Courier New',monospace\"><span style=\"font-weight: bold\">Model: \"sequential\"</span>\n",
              "</pre>\n"
            ],
            "text/plain": [
              "\u001b[1mModel: \"sequential\"\u001b[0m\n"
            ]
          },
          "metadata": {},
          "output_type": "display_data"
        },
        {
          "data": {
            "text/html": [
              "<pre style=\"white-space:pre;overflow-x:auto;line-height:normal;font-family:Menlo,'DejaVu Sans Mono',consolas,'Courier New',monospace\">┏━━━━━━━━━━━━━━━━━━━━━━━━━━━━━━━━━━━━━━┳━━━━━━━━━━━━━━━━━━━━━━━━━━━━━┳━━━━━━━━━━━━━━━━━┓\n",
              "┃<span style=\"font-weight: bold\"> Layer (type)                         </span>┃<span style=\"font-weight: bold\"> Output Shape                </span>┃<span style=\"font-weight: bold\">         Param # </span>┃\n",
              "┡━━━━━━━━━━━━━━━━━━━━━━━━━━━━━━━━━━━━━━╇━━━━━━━━━━━━━━━━━━━━━━━━━━━━━╇━━━━━━━━━━━━━━━━━┩\n",
              "│ embedding (<span style=\"color: #0087ff; text-decoration-color: #0087ff\">Embedding</span>)                │ ?                           │         <span style=\"color: #00af00; text-decoration-color: #00af00\">230,700</span> │\n",
              "├──────────────────────────────────────┼─────────────────────────────┼─────────────────┤\n",
              "│ conv1d (<span style=\"color: #0087ff; text-decoration-color: #0087ff\">Conv1D</span>)                      │ ?                           │     <span style=\"color: #00af00; text-decoration-color: #00af00\">0</span> (unbuilt) │\n",
              "├──────────────────────────────────────┼─────────────────────────────┼─────────────────┤\n",
              "│ max_pooling1d (<span style=\"color: #0087ff; text-decoration-color: #0087ff\">MaxPooling1D</span>)         │ ?                           │     <span style=\"color: #00af00; text-decoration-color: #00af00\">0</span> (unbuilt) │\n",
              "├──────────────────────────────────────┼─────────────────────────────┼─────────────────┤\n",
              "│ flatten (<span style=\"color: #0087ff; text-decoration-color: #0087ff\">Flatten</span>)                    │ ?                           │     <span style=\"color: #00af00; text-decoration-color: #00af00\">0</span> (unbuilt) │\n",
              "├──────────────────────────────────────┼─────────────────────────────┼─────────────────┤\n",
              "│ dense (<span style=\"color: #0087ff; text-decoration-color: #0087ff\">Dense</span>)                        │ ?                           │     <span style=\"color: #00af00; text-decoration-color: #00af00\">0</span> (unbuilt) │\n",
              "├──────────────────────────────────────┼─────────────────────────────┼─────────────────┤\n",
              "│ dense_1 (<span style=\"color: #0087ff; text-decoration-color: #0087ff\">Dense</span>)                      │ ?                           │     <span style=\"color: #00af00; text-decoration-color: #00af00\">0</span> (unbuilt) │\n",
              "└──────────────────────────────────────┴─────────────────────────────┴─────────────────┘\n",
              "</pre>\n"
            ],
            "text/plain": [
              "┏━━━━━━━━━━━━━━━━━━━━━━━━━━━━━━━━━━━━━━┳━━━━━━━━━━━━━━━━━━━━━━━━━━━━━┳━━━━━━━━━━━━━━━━━┓\n",
              "┃\u001b[1m \u001b[0m\u001b[1mLayer (type)                        \u001b[0m\u001b[1m \u001b[0m┃\u001b[1m \u001b[0m\u001b[1mOutput Shape               \u001b[0m\u001b[1m \u001b[0m┃\u001b[1m \u001b[0m\u001b[1m        Param #\u001b[0m\u001b[1m \u001b[0m┃\n",
              "┡━━━━━━━━━━━━━━━━━━━━━━━━━━━━━━━━━━━━━━╇━━━━━━━━━━━━━━━━━━━━━━━━━━━━━╇━━━━━━━━━━━━━━━━━┩\n",
              "│ embedding (\u001b[38;5;33mEmbedding\u001b[0m)                │ ?                           │         \u001b[38;5;34m230,700\u001b[0m │\n",
              "├──────────────────────────────────────┼─────────────────────────────┼─────────────────┤\n",
              "│ conv1d (\u001b[38;5;33mConv1D\u001b[0m)                      │ ?                           │     \u001b[38;5;34m0\u001b[0m (unbuilt) │\n",
              "├──────────────────────────────────────┼─────────────────────────────┼─────────────────┤\n",
              "│ max_pooling1d (\u001b[38;5;33mMaxPooling1D\u001b[0m)         │ ?                           │     \u001b[38;5;34m0\u001b[0m (unbuilt) │\n",
              "├──────────────────────────────────────┼─────────────────────────────┼─────────────────┤\n",
              "│ flatten (\u001b[38;5;33mFlatten\u001b[0m)                    │ ?                           │     \u001b[38;5;34m0\u001b[0m (unbuilt) │\n",
              "├──────────────────────────────────────┼─────────────────────────────┼─────────────────┤\n",
              "│ dense (\u001b[38;5;33mDense\u001b[0m)                        │ ?                           │     \u001b[38;5;34m0\u001b[0m (unbuilt) │\n",
              "├──────────────────────────────────────┼─────────────────────────────┼─────────────────┤\n",
              "│ dense_1 (\u001b[38;5;33mDense\u001b[0m)                      │ ?                           │     \u001b[38;5;34m0\u001b[0m (unbuilt) │\n",
              "└──────────────────────────────────────┴─────────────────────────────┴─────────────────┘\n"
            ]
          },
          "metadata": {},
          "output_type": "display_data"
        },
        {
          "data": {
            "text/html": [
              "<pre style=\"white-space:pre;overflow-x:auto;line-height:normal;font-family:Menlo,'DejaVu Sans Mono',consolas,'Courier New',monospace\"><span style=\"font-weight: bold\"> Total params: </span><span style=\"color: #00af00; text-decoration-color: #00af00\">230,700</span> (901.17 KB)\n",
              "</pre>\n"
            ],
            "text/plain": [
              "\u001b[1m Total params: \u001b[0m\u001b[38;5;34m230,700\u001b[0m (901.17 KB)\n"
            ]
          },
          "metadata": {},
          "output_type": "display_data"
        },
        {
          "data": {
            "text/html": [
              "<pre style=\"white-space:pre;overflow-x:auto;line-height:normal;font-family:Menlo,'DejaVu Sans Mono',consolas,'Courier New',monospace\"><span style=\"font-weight: bold\"> Trainable params: </span><span style=\"color: #00af00; text-decoration-color: #00af00\">0</span> (0.00 B)\n",
              "</pre>\n"
            ],
            "text/plain": [
              "\u001b[1m Trainable params: \u001b[0m\u001b[38;5;34m0\u001b[0m (0.00 B)\n"
            ]
          },
          "metadata": {},
          "output_type": "display_data"
        },
        {
          "data": {
            "text/html": [
              "<pre style=\"white-space:pre;overflow-x:auto;line-height:normal;font-family:Menlo,'DejaVu Sans Mono',consolas,'Courier New',monospace\"><span style=\"font-weight: bold\"> Non-trainable params: </span><span style=\"color: #00af00; text-decoration-color: #00af00\">230,700</span> (901.17 KB)\n",
              "</pre>\n"
            ],
            "text/plain": [
              "\u001b[1m Non-trainable params: \u001b[0m\u001b[38;5;34m230,700\u001b[0m (901.17 KB)\n"
            ]
          },
          "metadata": {},
          "output_type": "display_data"
        }
      ],
      "source": [
        "# Define the CNN model\n",
        "model = Sequential()\n",
        "# Embedding layer: Maps input indices to pre-trained GloVe embeddings\n",
        "model.add(Embedding(input_dim=vocab_size,\n",
        "                    output_dim=embedding_dim,\n",
        "                    weights=[embedding_matrix],  # Pre-trained embeddings\n",
        "                    input_length=input_length,   # Maximum sequence length\n",
        "                    trainable=False))  # Freeze the embedding layer\n",
        "# 1D Convolutional layer: Extracts features using convolutional filters\n",
        "model.add(Conv1D(filters=32, kernel_size=8, activation='relu'))\n",
        "# Max pooling layer: Downsamples the feature maps\n",
        "model.add(MaxPooling1D(pool_size=2))\n",
        "# Flatten layer: Flattens the feature maps into a 1D vector\n",
        "model.add(Flatten())\n",
        "# Fully connected (dense) layer: Hidden layer for learning complex representations\n",
        "model.add(Dense(10, activation='relu'))\n",
        "# Output layer: Softmax activation for multi-class classification\n",
        "model.add(Dense(y_train.shape[1], activation='softmax'))\n",
        "\n",
        "model.summary()\n"
      ]
    },
    {
      "cell_type": "code",
      "execution_count": 47,
      "metadata": {
        "id": "_VC-4zsVLwVM"
      },
      "outputs": [],
      "source": [
        "# Compile the model\n",
        "model.compile(optimizer='adam', loss='categorical_crossentropy', metrics=['accuracy'])\n"
      ]
    },
    {
      "cell_type": "code",
      "execution_count": 48,
      "metadata": {
        "colab": {
          "base_uri": "https://localhost:8080/"
        },
        "id": "pwej7yB-MA9g",
        "outputId": "228fdf00-e257-4bf9-80ab-cc364ad538f1"
      },
      "outputs": [
        {
          "name": "stdout",
          "output_type": "stream",
          "text": [
            "Epoch 1/10\n",
            "\u001b[1m137/137\u001b[0m \u001b[32m━━━━━━━━━━━━━━━━━━━━\u001b[0m\u001b[37m\u001b[0m \u001b[1m11s\u001b[0m 31ms/step - accuracy: 0.6605 - loss: 1.5431 - val_accuracy: 0.8543 - val_loss: 0.5903\n",
            "Epoch 2/10\n",
            "\u001b[1m137/137\u001b[0m \u001b[32m━━━━━━━━━━━━━━━━━━━━\u001b[0m\u001b[37m\u001b[0m \u001b[1m2s\u001b[0m 3ms/step - accuracy: 0.8702 - loss: 0.5014 - val_accuracy: 0.8928 - val_loss: 0.4480\n",
            "Epoch 3/10\n",
            "\u001b[1m137/137\u001b[0m \u001b[32m━━━━━━━━━━━━━━━━━━━━\u001b[0m\u001b[37m\u001b[0m \u001b[1m1s\u001b[0m 3ms/step - accuracy: 0.9035 - loss: 0.3673 - val_accuracy: 0.9280 - val_loss: 0.3414\n",
            "Epoch 4/10\n",
            "\u001b[1m137/137\u001b[0m \u001b[32m━━━━━━━━━━━━━━━━━━━━\u001b[0m\u001b[37m\u001b[0m \u001b[1m1s\u001b[0m 3ms/step - accuracy: 0.9492 - loss: 0.2183 - val_accuracy: 0.9363 - val_loss: 0.2862\n",
            "Epoch 5/10\n",
            "\u001b[1m137/137\u001b[0m \u001b[32m━━━━━━━━━━━━━━━━━━━━\u001b[0m\u001b[37m\u001b[0m \u001b[1m1s\u001b[0m 3ms/step - accuracy: 0.9657 - loss: 0.1403 - val_accuracy: 0.9347 - val_loss: 0.2657\n",
            "Epoch 6/10\n",
            "\u001b[1m137/137\u001b[0m \u001b[32m━━━━━━━━━━━━━━━━━━━━\u001b[0m\u001b[37m\u001b[0m \u001b[1m0s\u001b[0m 3ms/step - accuracy: 0.9747 - loss: 0.1070 - val_accuracy: 0.9414 - val_loss: 0.2416\n",
            "Epoch 7/10\n",
            "\u001b[1m137/137\u001b[0m \u001b[32m━━━━━━━━━━━━━━━━━━━━\u001b[0m\u001b[37m\u001b[0m \u001b[1m0s\u001b[0m 3ms/step - accuracy: 0.9804 - loss: 0.0783 - val_accuracy: 0.9363 - val_loss: 0.2789\n",
            "Epoch 8/10\n",
            "\u001b[1m137/137\u001b[0m \u001b[32m━━━━━━━━━━━━━━━━━━━━\u001b[0m\u001b[37m\u001b[0m \u001b[1m0s\u001b[0m 3ms/step - accuracy: 0.9858 - loss: 0.0578 - val_accuracy: 0.9531 - val_loss: 0.2304\n",
            "Epoch 9/10\n",
            "\u001b[1m137/137\u001b[0m \u001b[32m━━━━━━━━━━━━━━━━━━━━\u001b[0m\u001b[37m\u001b[0m \u001b[1m0s\u001b[0m 3ms/step - accuracy: 0.9916 - loss: 0.0390 - val_accuracy: 0.9464 - val_loss: 0.2626\n",
            "Epoch 10/10\n",
            "\u001b[1m137/137\u001b[0m \u001b[32m━━━━━━━━━━━━━━━━━━━━\u001b[0m\u001b[37m\u001b[0m \u001b[1m1s\u001b[0m 3ms/step - accuracy: 0.9919 - loss: 0.0368 - val_accuracy: 0.9481 - val_loss: 0.2433\n"
          ]
        },
        {
          "data": {
            "text/plain": [
              "<keras.src.callbacks.history.History at 0x7c5c723b3880>"
            ]
          },
          "execution_count": 48,
          "metadata": {},
          "output_type": "execute_result"
        }
      ],
      "source": [
        "# Train the model\n",
        "model.fit(train_input, y_train, validation_data=(valid_input, y_valid), epochs=10, batch_size=32)\n"
      ]
    },
    {
      "cell_type": "code",
      "execution_count": 49,
      "metadata": {
        "colab": {
          "base_uri": "https://localhost:8080/"
        },
        "id": "mowBhSg_MDgW",
        "outputId": "19ce825d-c0d5-45b7-e4d2-9f67a9040202"
      },
      "outputs": [
        {
          "name": "stdout",
          "output_type": "stream",
          "text": [
            "\u001b[1m28/28\u001b[0m \u001b[32m━━━━━━━━━━━━━━━━━━━━\u001b[0m\u001b[37m\u001b[0m \u001b[1m1s\u001b[0m 20ms/step - accuracy: 0.9058 - loss: 0.4861\n"
          ]
        },
        {
          "data": {
            "text/plain": [
              "[0.450644314289093, 0.9072625637054443]"
            ]
          },
          "execution_count": 49,
          "metadata": {},
          "output_type": "execute_result"
        }
      ],
      "source": [
        "#  Evaluate on the test set:\n",
        "model.evaluate(test_input, y_test)\n"
      ]
    },
    {
      "cell_type": "code",
      "execution_count": 50,
      "metadata": {
        "colab": {
          "base_uri": "https://localhost:8080/"
        },
        "id": "X7yQrzdVZJgF",
        "outputId": "c185e847-7893-4680-c872-1ee9d7c0aef9"
      },
      "outputs": [
        {
          "name": "stdout",
          "output_type": "stream",
          "text": [
            "\u001b[1m137/137\u001b[0m \u001b[32m━━━━━━━━━━━━━━━━━━━━\u001b[0m\u001b[37m\u001b[0m \u001b[1m1s\u001b[0m 4ms/step - accuracy: 0.9940 - loss: 0.0420\n"
          ]
        },
        {
          "data": {
            "text/plain": [
              "[0.030114054679870605, 0.9938285946846008]"
            ]
          },
          "execution_count": 50,
          "metadata": {},
          "output_type": "execute_result"
        }
      ],
      "source": [
        "#  Evaluate on the train set:\n",
        "model.evaluate(train_input, y_train)\n"
      ]
    },
    {
      "cell_type": "code",
      "execution_count": 51,
      "metadata": {
        "colab": {
          "base_uri": "https://localhost:8080/"
        },
        "id": "X54dNCjEZdKz",
        "outputId": "e72770cd-4aad-4975-baf9-ff62a0241ebe"
      },
      "outputs": [
        {
          "name": "stdout",
          "output_type": "stream",
          "text": [
            "\u001b[1m19/19\u001b[0m \u001b[32m━━━━━━━━━━━━━━━━━━━━\u001b[0m\u001b[37m\u001b[0m \u001b[1m0s\u001b[0m 2ms/step - accuracy: 0.9217 - loss: 0.3711 \n"
          ]
        },
        {
          "data": {
            "text/plain": [
              "[0.24329441785812378, 0.94807368516922]"
            ]
          },
          "execution_count": 51,
          "metadata": {},
          "output_type": "execute_result"
        }
      ],
      "source": [
        "#  Evaluate on the validation set:\n",
        "model.evaluate(valid_input, y_valid)\n"
      ]
    },
    {
      "cell_type": "code",
      "execution_count": 52,
      "metadata": {
        "id": "efszec3oY2h_"
      },
      "outputs": [],
      "source": [
        "# Function to calculate accuracy of predictions\n",
        "def acc(y_true, y_pred_cnn):\n",
        "    \"\"\"\n",
        "    Calculate the accuracy of predictions by comparing true and predicted class labels.\n",
        "\n",
        "    Args:\n",
        "        y_true (np.ndarray): True labels in one-hot encoding format.\n",
        "        y_pred_cnn (np.ndarray): Predicted probabilities in one-hot encoding format.\n",
        "\n",
        "    Returns:\n",
        "        float: Accuracy as the mean of correct predictions.\n",
        "    \"\"\"\n",
        "    return np.equal(np.argmax(y_true, axis=-1), np.argmax(y_pred_cnn, axis=-1)).mean()\n"
      ]
    },
    {
      "cell_type": "code",
      "execution_count": 53,
      "metadata": {
        "colab": {
          "base_uri": "https://localhost:8080/"
        },
        "id": "59qooJWBY6pY",
        "outputId": "d03383ad-1bcf-4fd2-86ae-5c755931e9fd"
      },
      "outputs": [
        {
          "name": "stdout",
          "output_type": "stream",
          "text": [
            "\u001b[1m28/28\u001b[0m \u001b[32m━━━━━━━━━━━━━━━━━━━━\u001b[0m\u001b[37m\u001b[0m \u001b[1m1s\u001b[0m 15ms/step\n",
            "0.9072625698324023\n"
          ]
        }
      ],
      "source": [
        "# Make predictions on the test set\n",
        "predictions = model.predict(test_input)\n",
        "\n",
        "# Compute and print accuracy\n",
        "print(acc(y_test, predictions))\n"
      ]
    },
    {
      "cell_type": "code",
      "execution_count": 54,
      "metadata": {
        "colab": {
          "base_uri": "https://localhost:8080/"
        },
        "id": "CK474DvJyugV",
        "outputId": "163ccca6-6838-4b21-fcd7-715d8c225652"
      },
      "outputs": [
        {
          "name": "stdout",
          "output_type": "stream",
          "text": [
            "Classification Report for CNN Model:\n",
            "                precision    recall  f1-score   support\n",
            "\n",
            "  abbreviation       0.65      1.00      0.79        33\n",
            "      aircraft       0.75      0.67      0.71         9\n",
            "       airfare       0.90      0.98      0.94        48\n",
            "       airline       0.88      0.72      0.79        39\n",
            "       airport       0.88      0.39      0.54        18\n",
            "      capacity       0.95      0.86      0.90        21\n",
            "          city       0.60      0.50      0.55         6\n",
            "      distance       0.67      0.20      0.31        10\n",
            "        flight       0.94      0.98      0.96       632\n",
            "flight+airfare       1.00      0.08      0.14        13\n",
            "     flight_no       0.00      0.00      0.00         8\n",
            "   flight_time       1.00      1.00      1.00         1\n",
            "   ground_fare       1.00      0.71      0.83         7\n",
            "ground_service       0.92      1.00      0.96        36\n",
            "          meal       0.00      0.00      0.00         6\n",
            "      quantity       0.33      1.00      0.50         3\n",
            "   restriction       0.00      0.00      0.00         5\n",
            "\n",
            "      accuracy                           0.91       895\n",
            "     macro avg       0.67      0.59      0.58       895\n",
            "  weighted avg       0.89      0.91      0.89       895\n",
            "\n"
          ]
        },
        {
          "name": "stderr",
          "output_type": "stream",
          "text": [
            "/usr/local/lib/python3.10/dist-packages/sklearn/metrics/_classification.py:1531: UndefinedMetricWarning: Precision is ill-defined and being set to 0.0 in labels with no predicted samples. Use `zero_division` parameter to control this behavior.\n",
            "  _warn_prf(average, modifier, f\"{metric.capitalize()} is\", len(result))\n",
            "/usr/local/lib/python3.10/dist-packages/sklearn/metrics/_classification.py:1531: UndefinedMetricWarning: Precision is ill-defined and being set to 0.0 in labels with no predicted samples. Use `zero_division` parameter to control this behavior.\n",
            "  _warn_prf(average, modifier, f\"{metric.capitalize()} is\", len(result))\n",
            "/usr/local/lib/python3.10/dist-packages/sklearn/metrics/_classification.py:1531: UndefinedMetricWarning: Precision is ill-defined and being set to 0.0 in labels with no predicted samples. Use `zero_division` parameter to control this behavior.\n",
            "  _warn_prf(average, modifier, f\"{metric.capitalize()} is\", len(result))\n"
          ]
        }
      ],
      "source": [
        "# Convert predictions to class labels\n",
        "y_pred_cnn = np.argmax(predictions, axis=-1)  # Predicted class labels\n",
        "y_test_class = np.argmax(y_test, axis=-1)  # True class labels\n",
        "\n",
        "# Print the classification report\n",
        "print(\"Classification Report for CNN Model:\")\n",
        "print(classification_report(y_test_class, y_pred_cnn, target_names=label_encoder.classes_))\n"
      ]
    },
    {
      "cell_type": "code",
      "execution_count": 55,
      "metadata": {
        "colab": {
          "base_uri": "https://localhost:8080/",
          "height": 799
        },
        "id": "zlbB6NVvxV8S",
        "outputId": "75f989fd-70ee-4f12-94e8-a3637797eecd"
      },
      "outputs": [
        {
          "name": "stdout",
          "output_type": "stream",
          "text": [
            "Confusion Matrix for CNN Model:\n",
            "[[ 33   0   0   0   0   0   0   0   0   0   0   0   0   0   0   0   0]\n",
            " [  2   6   0   0   0   0   0   0   0   0   0   0   0   0   0   1   0]\n",
            " [  0   0  47   0   0   0   0   0   1   0   0   0   0   0   0   0   0]\n",
            " [  8   0   0  28   0   0   0   0   3   0   0   0   0   0   0   0   0]\n",
            " [  2   0   0   0   7   0   0   1   7   0   0   0   0   1   0   0   0]\n",
            " [  1   1   0   0   0  18   0   0   1   0   0   0   0   0   0   0   0]\n",
            " [  2   0   0   0   0   0   3   0   1   0   0   0   0   0   0   0   0]\n",
            " [  0   0   1   0   1   0   1   2   5   0   0   0   0   0   0   0   0]\n",
            " [  0   1   0   4   0   0   0   0 622   0   0   0   0   1   0   4   0]\n",
            " [  0   0   2   0   0   0   0   0  10   1   0   0   0   0   0   0   0]\n",
            " [  0   0   0   0   0   0   0   0   7   0   0   0   0   0   0   1   0]\n",
            " [  0   0   0   0   0   0   0   0   0   0   0   1   0   0   0   0   0]\n",
            " [  0   0   1   0   0   0   0   0   0   0   0   0   5   1   0   0   0]\n",
            " [  0   0   0   0   0   0   0   0   0   0   0   0   0  36   0   0   0]\n",
            " [  0   0   1   0   0   0   1   0   4   0   0   0   0   0   0   0   0]\n",
            " [  0   0   0   0   0   0   0   0   0   0   0   0   0   0   0   3   0]\n",
            " [  3   0   0   0   0   1   0   0   1   0   0   0   0   0   0   0   0]]\n"
          ]
        },
        {
          "data": {
            "image/png": "[encoded data removed]",
            "text/plain": [
              "<Figure size 640x480 with 2 Axes>"
            ]
          },
          "metadata": {},
          "output_type": "display_data"
        }
      ],
      "source": [
        "# Compute the confusion matrix\n",
        "conf_matrix_cnn = confusion_matrix(y_test_class, y_pred_cnn)\n",
        "\n",
        "# Print the confusion matrix\n",
        "print(\"Confusion Matrix for CNN Model:\")\n",
        "print(conf_matrix_cnn)\n",
        "\n",
        "# Visualize the confusion matrix\n",
        "disp_cnn = ConfusionMatrixDisplay(confusion_matrix=conf_matrix_cnn, display_labels=label_encoder.classes_)\n",
        "disp_cnn.plot(cmap='viridis')\n",
        "\n",
        "# Rotate the x-axis labels\n",
        "plt.xticks(rotation=45, ha='right')  # Rotate labels and align to the right\n",
        "plt.tight_layout()  # Adjust layout to fit rotated labels\n",
        "plt.show()\n"
      ]
    },
    {
      "cell_type": "code",
      "execution_count": 56,
      "metadata": {
        "colab": {
          "base_uri": "https://localhost:8080/"
        },
        "id": "4VChQjVCyiD4",
        "outputId": "4bb64124-085d-4df1-8c78-bcfc83886a3e"
      },
      "outputs": [
        {
          "name": "stdout",
          "output_type": "stream",
          "text": [
            "\u001b[1m1/1\u001b[0m \u001b[32m━━━━━━━━━━━━━━━━━━━━\u001b[0m\u001b[37m\u001b[0m \u001b[1m0s\u001b[0m 448ms/step\n",
            "Utterance: what is airline wn\n",
            "Predicted Class: abbreviation\n",
            "Actual Class: airline\n"
          ]
        }
      ],
      "source": [
        "# Function to predict and compare an input sample's predicted and actual class\n",
        "def predict_and_compare_from_test_cnn(model, X_test, y_test, test_df, label_encoder, index):\n",
        "    \"\"\"\n",
        "    Predict and compare the class for a single input sample from the test set.\n",
        "\n",
        "    Args:\n",
        "        model (keras.Model): Trained CNN model for predictions.\n",
        "        X_test (np.ndarray): Preprocessed test input data.\n",
        "        y_test (np.ndarray): True labels in one-hot encoding format.\n",
        "        test_df (pd.DataFrame): Original test dataframe containing raw text data.\n",
        "        label_encoder (LabelEncoder): Encoder to map class indices to labels.\n",
        "        index (int): Index of the input sample in the test set.\n",
        "\n",
        "    Returns:\n",
        "        None: Prints the utterance, predicted class, and actual class.\n",
        "    \"\"\"\n",
        "    # Extract the raw utterance, vectorized input, and true label\n",
        "    utterance = test_df['utterance'].iloc[index]\n",
        "    input_vectorized = X_test[index]\n",
        "    actual_label_index = y_test[index]\n",
        "\n",
        "    # Predict the class probabilities for the input\n",
        "    prediction_probs = model.predict(np.expand_dims(input_vectorized, axis=0))  # Expand dims to simulate batch input\n",
        "    predicted_class_index = np.argmax(prediction_probs, axis=-1)[0]  # Get the predicted class index\n",
        "\n",
        "    # Decode predicted and actual class indices to labels\n",
        "    predicted_class = label_encoder.inverse_transform([predicted_class_index])[0]\n",
        "    actual_class = label_encoder.inverse_transform([np.argmax(actual_label_index)])[0]\n",
        "\n",
        "    # Print details of the prediction\n",
        "    print(f\"Utterance: {utterance}\")\n",
        "    print(f\"Predicted Class: {predicted_class}\")\n",
        "    print(f\"Actual Class: {actual_class}\")\n",
        "\n",
        "# Example usage: Select a sample from the test set\n",
        "example_index = 100  # Replace with a specific index as needed\n",
        "\n",
        "# Predict and compare the sample\n",
        "predict_and_compare_from_test_cnn(\n",
        "    model=model,\n",
        "    X_test=test_input,\n",
        "    y_test=y_test,\n",
        "    test_df=test_df,\n",
        "    label_encoder=label_encoder,\n",
        "    index=example_index\n",
        ")\n"
      ]
    },
    {
      "cell_type": "code",
      "execution_count": 57,
      "metadata": {
        "colab": {
          "base_uri": "https://localhost:8080/"
        },
        "id": "m31l9xuclFEL",
        "outputId": "4057dc9f-8395-4c8f-803c-69bdf8c481a9"
      },
      "outputs": [
        {
          "name": "stdout",
          "output_type": "stream",
          "text": [
            "\u001b[1m1/1\u001b[0m \u001b[32m━━━━━━━━━━━━━━━━━━━━\u001b[0m\u001b[37m\u001b[0m \u001b[1m0s\u001b[0m 30ms/step\n",
            "Input: are there any restrictions for children traveling alone on united airlines\n",
            "Predicted Class: capacity\n"
          ]
        }
      ],
      "source": [
        "def predict_and_compare_cnn(model, input_text, label_encoder, tokenizer, max_sequence_length, actual_label=None):\n",
        "    \"\"\"\n",
        "    Predicts the class for the input text using a CNN model and compares it with the actual class if provided.\n",
        "\n",
        "    Parameters:\n",
        "    model (keras.Model): Trained CNN model.\n",
        "    input_text (str): The text input to predict the class for.\n",
        "    label_encoder (sklearn.preprocessing.LabelEncoder): LabelEncoder to decode predicted class index into class name.\n",
        "    tokenizer (keras.preprocessing.text.Tokenizer): Tokenizer used to preprocess the text.\n",
        "    max_sequence_length (int): Maximum sequence length for input padding.\n",
        "    actual_label (int, optional): The actual class label index for comparison.\n",
        "\n",
        "    Returns:\n",
        "    None: Prints the input text, predicted class, and actual class (if provided).\n",
        "    \"\"\"\n",
        "    # Transform the input text into tokens and pad sequences\n",
        "    input_tokens = tokenizer.texts_to_sequences([input_text])\n",
        "    input_padded = pad_sequences(input_tokens, maxlen=max_sequence_length)\n",
        "\n",
        "    # Predict the class probabilities for the input\n",
        "    prediction_probs = model.predict(input_padded)\n",
        "    predicted_class_index = np.argmax(prediction_probs, axis=-1)[0]  # Get the predicted class index\n",
        "    predicted_class = label_encoder.inverse_transform([predicted_class_index])[0]  # Decode predicted class index\n",
        "\n",
        "    # Print the input text and predicted class\n",
        "    print(f\"Input: {input_text}\")\n",
        "    print(f\"Predicted Class: {predicted_class}\")\n",
        "\n",
        "# Example usage\n",
        "example_input = \"are there any restrictions for children traveling alone on united airlines\"\n",
        "\n",
        "predict_and_compare_cnn(\n",
        "    model=model,  # The trained CNN model\n",
        "    input_text=example_input,\n",
        "    label_encoder=label_encoder,\n",
        "    tokenizer=tok,  # The tokenizer used for preprocessing\n",
        "    max_sequence_length=input_length,  # The maximum sequence length used during training\n",
        ")\n"
      ]
    },
    {
      "cell_type": "markdown",
      "metadata": {
        "id": "miwFXQjV1goU"
      },
      "source": [
        "# BERT for Intent Classification\n"
      ]
    },
    {
      "cell_type": "markdown",
      "metadata": {
        "id": "U08NmmM8CMUr"
      },
      "source": [
        "- BERT (Bidirectional Encoder Representations from Transformers) is used for intent classification.\n",
        "- The data is tokenized using BERT’s tokenizer and padded/truncated to a fixed length.\n",
        "- The model is fine-tuned using the pre-trained BERT model for classification, with the optimizer and scheduler set up for training.\n",
        "- The training loop for models like BERT includes optimization using AdamW and learning rate scheduling.\n",
        "- The evaluation is performed after training to check the model's performance on both the validation and test sets."
      ]
    },
    {
      "cell_type": "markdown",
      "metadata": {
        "id": "n1-sTiPspN8j"
      },
      "source": [
        "## Pre-Trained BERT Model"
      ]
    },
    {
      "cell_type": "code",
      "execution_count": 58,
      "metadata": {
        "colab": {
          "base_uri": "https://localhost:8080/",
          "height": 336,
          "referenced_widgets": [
            "32c559d5ce57413895f6a852baf567f2",
            "d98cd9790fa14c2ebe707ff9f9c6b758",
            "e8291ea573c941fb872ed2f3a4e4ade6",
            "01ebfa5264cd4170b5d3fe3327d67fec",
            "0a885b628c434bdc83b6991ab6a3e76e",
            "333b1d1b35eb447b957776a9678fa5aa",
            "7b580209f91e4c3eb01cf3e4c8d551ed",
            "2827d596dd8d4a61b9fe158a38c87ce6",
            "2bd909392d9b455a88cc8e1d2b1d4f0d",
            "4330e1c36cc34af6960f4b5bcda982bb",
            "12e9a2806e5b472ebfc47a7d4e5760c6",
            "0e77947018a149bf9e958bf254bd152e",
            "61741a785a704e3b9f230ddb91e711d4",
            "09c6b931828847f991bcb03606396406",
            "62e12f2d21cc4b6196b091bbe7df53d3",
            "2477e321d59e4d99805ccb138ee368df",
            "a684e454f47340639854921e809b8999",
            "14f335c4329c47918b16454dbacdb15d",
            "c7011f3c3b0f48c4900a7a38c57cac4d",
            "4440d1e39b9640f2859ea7bafc53c91d",
            "fd58a39cca1144e1b7fa716decb36a48",
            "5f41044b1df94024819232b2187fc30e",
            "efbea8c9e4074629adae3fec380521a5",
            "c60d2ac156b041a78a6e9581d8122922",
            "89e62bf2ec3343d9b825855ced85342d",
            "164589db70294c4db774961f20c5f230",
            "1c90ac1e69894715b477170a4fa96092",
            "997fdc30f4e545bd93455b164ec47a92",
            "5281355a13e44e09874b09abb20e2a9d",
            "bf0926295ead45e089c3bc8c786bb9cd",
            "bea437e3acf1466890305d06d573a503",
            "be1e1fd3c7804513bff0ef517d40d728",
            "10570c962d60439ea9c64f7d27efb93a",
            "28f8463467b349d7b6a87a76090d7bde",
            "565d54c52c7f40ddb3d990c7083ae65e",
            "2b8dc4000bad43a2888879714b95fb95",
            "9306d444d86e489f9828a0e617879eab",
            "5c4ecfa94b56468e8324dfcfb6a6a24c",
            "422448c4389045c3b56cd0cc7ce4e977",
            "81d5b0f605e6484e8d7bdc098f02583c",
            "467a3a55def045a794e8e70d4aae2a51",
            "9606dd250c8b4f54a2fb08b07761acac",
            "554cf5ca5c1a46e6ba4c3a17fc11d956",
            "5feb228fc972489eb09f34432cd75eea",
            "676d29921d2341e48ac407d537fcfaf5",
            "1ec1824149b04bea955c86d60d913815",
            "6f10a2ce606347838ad8866c2eaf093c",
            "c7896fd869c941b08ae71bbb25ce2e51",
            "80fa7d5429b446db9df23df3ec20dca1",
            "292b69dca525497695b1e414410c59bc",
            "52e3efe617bd49d9b85beb42ff72c311",
            "75f6ae3cdbed4b00b4c3f2d249d5a652",
            "72c91ccd047e45d5b787b27f8fb2cb77",
            "2ee6a861dfed43f893e3f2fe7817c866",
            "2639d5291e7741fb9fc106deb7676b2c"
          ]
        },
        "id": "a41K-RdBK9YA",
        "outputId": "2c4a89a9-ba7a-4a0e-85f9-d2f71a990e5e"
      },
      "outputs": [
        {
          "name": "stderr",
          "output_type": "stream",
          "text": [
            "/usr/local/lib/python3.10/dist-packages/huggingface_hub/utils/_auth.py:94: UserWarning: \n",
            "The secret `HF_TOKEN` does not exist in your Colab secrets.\n",
            "To authenticate with the Hugging Face Hub, create a token in your settings tab (https://huggingface.co/settings/tokens), set it as secret in your Google Colab and restart your session.\n",
            "You will be able to reuse this secret in all of your notebooks.\n",
            "Please note that authentication is recommended but still optional to access public models or datasets.\n",
            "  warnings.warn(\n"
          ]
        },
        {
          "data": {
            "application/vnd.jupyter.widget-view+json": {
              "model_id": "32c559d5ce57413895f6a852baf567f2",
              "version_major": 2,
              "version_minor": 0
            },
            "text/plain": [
              "tokenizer_config.json:   0%|          | 0.00/49.0 [00:00<?, ?B/s]"
            ]
          },
          "metadata": {},
          "output_type": "display_data"
        },
        {
          "data": {
            "application/vnd.jupyter.widget-view+json": {
              "model_id": "0e77947018a149bf9e958bf254bd152e",
              "version_major": 2,
              "version_minor": 0
            },
            "text/plain": [
              "vocab.txt:   0%|          | 0.00/213k [00:00<?, ?B/s]"
            ]
          },
          "metadata": {},
          "output_type": "display_data"
        },
        {
          "data": {
            "application/vnd.jupyter.widget-view+json": {
              "model_id": "efbea8c9e4074629adae3fec380521a5",
              "version_major": 2,
              "version_minor": 0
            },
            "text/plain": [
              "tokenizer.json:   0%|          | 0.00/436k [00:00<?, ?B/s]"
            ]
          },
          "metadata": {},
          "output_type": "display_data"
        },
        {
          "data": {
            "application/vnd.jupyter.widget-view+json": {
              "model_id": "28f8463467b349d7b6a87a76090d7bde",
              "version_major": 2,
              "version_minor": 0
            },
            "text/plain": [
              "config.json:   0%|          | 0.00/570 [00:00<?, ?B/s]"
            ]
          },
          "metadata": {},
          "output_type": "display_data"
        },
        {
          "data": {
            "application/vnd.jupyter.widget-view+json": {
              "model_id": "676d29921d2341e48ac407d537fcfaf5",
              "version_major": 2,
              "version_minor": 0
            },
            "text/plain": [
              "model.safetensors:   0%|          | 0.00/436M [00:00<?, ?B/s]"
            ]
          },
          "metadata": {},
          "output_type": "display_data"
        },
        {
          "name": "stderr",
          "output_type": "stream",
          "text": [
            "Some weights of BertForSequenceClassification were not initialized from the model checkpoint at bert-base-cased and are newly initialized: ['classifier.bias', 'classifier.weight']\n",
            "You should probably TRAIN this model on a down-stream task to be able to use it for predictions and inference.\n"
          ]
        }
      ],
      "source": [
        "# Load pre-trained BERT tokenizer and model\n",
        "tokenizer = BertTokenizer.from_pretrained('bert-base-cased')\n",
        "model = BertForSequenceClassification.from_pretrained('bert-base-cased', num_labels=len(label_encoder.classes_))\n"
      ]
    },
    {
      "cell_type": "code",
      "execution_count": 59,
      "metadata": {
        "id": "QNXHUT5OK9Uj"
      },
      "outputs": [],
      "source": [
        "def encode_data(texts, tokenizer, max_length=30):\n",
        "    \"\"\"\n",
        "    Encodes a list of text inputs using a BERT tokenizer.\n",
        "\n",
        "    Parameters:\n",
        "    texts (list of str): List of text inputs to tokenize.\n",
        "    tokenizer (transformers.PreTrainedTokenizer): BERT tokenizer for encoding the text.\n",
        "    max_length (int): Maximum sequence length for padding/truncation. Default is 30.\n",
        "\n",
        "    Returns:\n",
        "    dict: Encoded text as PyTorch tensors with input IDs, attention masks, and token types.\n",
        "    \"\"\"\n",
        "    # Tokenize and pad the sequences to a consistent length\n",
        "    return tokenizer(\n",
        "        texts,\n",
        "        padding=True,              # Add padding to make sequences uniform\n",
        "        truncation=True,           # Truncate sequences longer than max_length\n",
        "        max_length=max_length,     # Set the maximum sequence length\n",
        "        return_tensors='pt'        # Return data as PyTorch tensors\n",
        "    )\n",
        "\n",
        "# Encode the training data\n",
        "train_encodings = encode_data(train_df['utterance'].tolist(), tokenizer)\n",
        "# Encode the validation data\n",
        "valid_encodings = encode_data(valid_df['utterance'].tolist(), tokenizer)\n",
        "# Encode the test data\n",
        "test_encodings = encode_data(test_df['utterance'].tolist(), tokenizer)\n"
      ]
    },
    {
      "cell_type": "code",
      "execution_count": 60,
      "metadata": {
        "id": "lif9QNc1K9SJ"
      },
      "outputs": [],
      "source": [
        "# Prepare the labels\n",
        "y_train_tensor = torch.tensor(y_train)\n",
        "y_valid_tensor = torch.tensor(y_valid)\n",
        "y_test_tensor = torch.tensor(y_test)\n"
      ]
    },
    {
      "cell_type": "code",
      "execution_count": 61,
      "metadata": {
        "id": "eG9GYTH5K9PM"
      },
      "outputs": [],
      "source": [
        "# Create DataLoader for batching\n",
        "train_dataset = TensorDataset(train_encodings['input_ids'], train_encodings['attention_mask'], y_train_tensor)\n",
        "valid_dataset = TensorDataset(valid_encodings['input_ids'], valid_encodings['attention_mask'], y_valid_tensor)\n",
        "test_dataset = TensorDataset(test_encodings['input_ids'], test_encodings['attention_mask'], y_test_tensor)\n",
        "\n",
        "# Create DataLoader for train, validation, and test sets\n",
        "train_dataloader = DataLoader(train_dataset, batch_size=16, shuffle=True)\n",
        "valid_dataloader = DataLoader(valid_dataset, batch_size=16)\n",
        "test_dataloader = DataLoader(test_dataset, batch_size=16)\n"
      ]
    },
    {
      "cell_type": "code",
      "execution_count": 62,
      "metadata": {
        "colab": {
          "base_uri": "https://localhost:8080/"
        },
        "id": "Mj0KeIYeK9MH",
        "outputId": "e8ecfdbf-1a06-4c35-8b35-f8a8006a8759"
      },
      "outputs": [
        {
          "name": "stderr",
          "output_type": "stream",
          "text": [
            "/usr/local/lib/python3.10/dist-packages/transformers/optimization.py:591: FutureWarning: This implementation of AdamW is deprecated and will be removed in a future version. Use the PyTorch implementation torch.optim.AdamW instead, or set `no_deprecation_warning=True` to disable this warning\n",
            "  warnings.warn(\n"
          ]
        }
      ],
      "source": [
        "# Define optimizer and learning rate scheduler\n",
        "optimizer = AdamW(model.parameters(), lr=1e-5)\n"
      ]
    },
    {
      "cell_type": "code",
      "execution_count": 63,
      "metadata": {
        "colab": {
          "base_uri": "https://localhost:8080/"
        },
        "id": "jc_Nud0mK9If",
        "outputId": "6a165831-2037-46c6-e68a-e4c0489c3efe"
      },
      "outputs": [
        {
          "name": "stdout",
          "output_type": "stream",
          "text": [
            "Epoch 1/6, Loss: 0.23763034132216274\n",
            "Epoch 2/6, Loss: 0.08649442498257491\n",
            "Epoch 3/6, Loss: 0.05378312653006044\n",
            "Epoch 4/6, Loss: 0.03887375785519944\n",
            "Epoch 5/6, Loss: 0.029331236148427343\n",
            "Epoch 6/6, Loss: 0.02347012597897397\n"
          ]
        }
      ],
      "source": [
        "# Set the device to GPU if available\n",
        "device = torch.device('cuda' if torch.cuda.is_available() else 'cpu')\n",
        "model.to(device)\n",
        "\n",
        "def train_model(model, train_dataloader, optimizer, device, epochs=6):\n",
        "    \"\"\"\n",
        "    Train the model for a specified number of epochs.\n",
        "\n",
        "    Parameters:\n",
        "    model (transformers.PreTrainedModel): BERT model to be trained.\n",
        "    train_dataloader (DataLoader): DataLoader for the training set.\n",
        "    optimizer (torch.optim.Optimizer): Optimizer to update the model weights.\n",
        "    device (torch.device): Device (CPU/GPU) for model training.\n",
        "    epochs (int): Number of epochs for training.\n",
        "    \"\"\"\n",
        "    model.train()  # Set model to training mode\n",
        "    for epoch in range(epochs):\n",
        "        total_loss = 0  # Initialize loss for the current epoch\n",
        "        for batch in train_dataloader:\n",
        "            input_ids, attention_mask, labels = [item.to(device) for item in batch]\n",
        "\n",
        "            optimizer.zero_grad()  # Clear gradients from previous step\n",
        "\n",
        "            # Forward pass\n",
        "            outputs = model(input_ids, attention_mask=attention_mask, labels=labels)\n",
        "            loss = outputs.loss  # Extract loss from output\n",
        "            total_loss += loss.item()  # Accumulate loss\n",
        "\n",
        "            loss.backward()  # Backpropagation\n",
        "            optimizer.step()  # Update weights\n",
        "\n",
        "        # Print average loss per epoch\n",
        "        print(f\"Epoch {epoch+1}/{epochs}, Loss: {total_loss / len(train_dataloader)}\")\n",
        "\n",
        "# Train the model\n",
        "train_model(model, train_dataloader, optimizer, device)\n"
      ]
    },
    {
      "cell_type": "code",
      "execution_count": 64,
      "metadata": {
        "id": "m0JwEYYSLHo4"
      },
      "outputs": [],
      "source": [
        "def evaluate_model(model, dataloader, device):\n",
        "    \"\"\"\n",
        "    Evaluate the model on a given dataset.\n",
        "\n",
        "    Parameters:\n",
        "    model (transformers.PreTrainedModel): Trained BERT model.\n",
        "    dataloader (DataLoader): DataLoader for evaluation.\n",
        "    device (torch.device): Device (CPU/GPU) for evaluation.\n",
        "\n",
        "    Returns:\n",
        "    tuple: Lists of true labels and predicted labels.\n",
        "    \"\"\"\n",
        "    model.eval()  # Set model to evaluation mode\n",
        "    all_preds = []\n",
        "    all_labels = []\n",
        "\n",
        "    with torch.no_grad():  # Disable gradient calculation for efficiency\n",
        "        for batch in dataloader:\n",
        "            input_ids, attention_mask, labels = [item.to(device) for item in batch]\n",
        "            # Get logits from model\n",
        "            outputs = model(input_ids, attention_mask=attention_mask)\n",
        "            logits = outputs.logits\n",
        "            # Get predicted classes\n",
        "            predictions = torch.argmax(logits, dim=-1)\n",
        "\n",
        "            all_preds.extend(predictions.cpu().numpy())  # Convert to numpy and store\n",
        "            # Convert one-hot labels to single digit labels\n",
        "            all_labels.extend(torch.argmax(labels, dim=-1).cpu().numpy() if labels.dim() > 1 else labels.cpu().numpy())\n",
        "\n",
        "    return all_labels, all_preds  # Return true and predicted labels\n",
        "\n",
        "# Get predictions for the test set\n",
        "y_test_labels, y_test_preds = evaluate_model(model, test_dataloader, device)\n"
      ]
    },
    {
      "cell_type": "code",
      "execution_count": 65,
      "metadata": {
        "colab": {
          "base_uri": "https://localhost:8080/"
        },
        "id": "WkuNry4MLI2P",
        "outputId": "6bd125d6-f4c0-4df1-ff8e-1f501e72b7e1"
      },
      "outputs": [
        {
          "name": "stdout",
          "output_type": "stream",
          "text": [
            "Classification Report for BERT Model:\n",
            "                precision    recall  f1-score   support\n",
            "\n",
            "  abbreviation       1.00      1.00      1.00        33\n",
            "      aircraft       0.62      0.89      0.73         9\n",
            "       airfare       0.92      1.00      0.96        48\n",
            "       airline       0.95      0.97      0.96        39\n",
            "       airport       1.00      0.67      0.80        18\n",
            "      capacity       0.00      0.00      0.00        21\n",
            "          city       1.00      0.67      0.80         6\n",
            "      distance       1.00      0.50      0.67        10\n",
            "        flight       0.96      0.98      0.97       632\n",
            "flight+airfare       0.00      0.00      0.00        13\n",
            "     flight_no       0.00      0.00      0.00         8\n",
            "   flight_time       0.08      1.00      0.14         1\n",
            "   ground_fare       0.00      0.00      0.00         7\n",
            "ground_service       0.73      1.00      0.85        36\n",
            "          meal       0.00      0.00      0.00         6\n",
            "      quantity       0.11      1.00      0.20         3\n",
            "   restriction       0.00      0.00      0.00         5\n",
            "\n",
            "      accuracy                           0.90       895\n",
            "     macro avg       0.49      0.57      0.48       895\n",
            "  weighted avg       0.88      0.90      0.89       895\n",
            "\n"
          ]
        },
        {
          "name": "stderr",
          "output_type": "stream",
          "text": [
            "/usr/local/lib/python3.10/dist-packages/sklearn/metrics/_classification.py:1531: UndefinedMetricWarning: Precision is ill-defined and being set to 0.0 in labels with no predicted samples. Use `zero_division` parameter to control this behavior.\n",
            "  _warn_prf(average, modifier, f\"{metric.capitalize()} is\", len(result))\n",
            "/usr/local/lib/python3.10/dist-packages/sklearn/metrics/_classification.py:1531: UndefinedMetricWarning: Precision is ill-defined and being set to 0.0 in labels with no predicted samples. Use `zero_division` parameter to control this behavior.\n",
            "  _warn_prf(average, modifier, f\"{metric.capitalize()} is\", len(result))\n",
            "/usr/local/lib/python3.10/dist-packages/sklearn/metrics/_classification.py:1531: UndefinedMetricWarning: Precision is ill-defined and being set to 0.0 in labels with no predicted samples. Use `zero_division` parameter to control this behavior.\n",
            "  _warn_prf(average, modifier, f\"{metric.capitalize()} is\", len(result))\n"
          ]
        }
      ],
      "source": [
        "# Classification Report\n",
        "print(\"Classification Report for BERT Model:\")\n",
        "print(classification_report(y_test_labels, y_test_preds, target_names=label_encoder.classes_))\n"
      ]
    },
    {
      "cell_type": "code",
      "execution_count": 66,
      "metadata": {
        "colab": {
          "base_uri": "https://localhost:8080/",
          "height": 487
        },
        "id": "Nj672gbmLIy5",
        "outputId": "fd32141e-079f-4822-fbd4-ccdc9347218e"
      },
      "outputs": [
        {
          "data": {
            "image/png": "[encoded data removed]",
            "text/plain": [
              "<Figure size 640x480 with 2 Axes>"
            ]
          },
          "metadata": {},
          "output_type": "display_data"
        }
      ],
      "source": [
        "# Confusion Matrix\n",
        "conf_matrix_bert = confusion_matrix(y_test_labels, y_test_preds)\n",
        "\n",
        "# Display confusion matrix\n",
        "disp_bert = ConfusionMatrixDisplay(confusion_matrix=conf_matrix_bert, display_labels=label_encoder.classes_)\n",
        "disp_bert.plot(cmap='viridis')\n",
        "\n",
        "# Rotate the x-axis labels\n",
        "plt.xticks(rotation=45, ha='right')  # Rotate labels and align to the right\n",
        "plt.tight_layout()  # Adjust layout to fit rotated labels\n",
        "plt.show()\n"
      ]
    },
    {
      "cell_type": "code",
      "execution_count": 67,
      "metadata": {
        "colab": {
          "base_uri": "https://localhost:8080/"
        },
        "id": "hGkC1ANWSdJx",
        "outputId": "650351c2-302d-4530-fd9b-ca486dc34c9a"
      },
      "outputs": [
        {
          "name": "stdout",
          "output_type": "stream",
          "text": [
            "Input: what meals are served on american flight 811 from tampa to milwaukee\n",
            "Predicted Class: flight\n"
          ]
        }
      ],
      "source": [
        "def predict_and_compare_bert(model, input_text, label_encoder, tokenizer, max_sequence_length):\n",
        "    \"\"\"\n",
        "    Predicts the class for the input text using a fine-tuned BERT model.\n",
        "\n",
        "    Parameters:\n",
        "    model (transformers.BertForSequenceClassification): Fine-tuned BERT model.\n",
        "    input_text (str): The text input to predict the class for.\n",
        "    label_encoder (sklearn.preprocessing.LabelEncoder): LabelEncoder to decode predicted class index into class name.\n",
        "    tokenizer (transformers.BertTokenizer): BERT tokenizer for encoding the text.\n",
        "    max_sequence_length (int): Maximum sequence length for input padding.\n",
        "    \"\"\"\n",
        "    # 1. Tokenize and prepare input\n",
        "    inputs = tokenizer(input_text, padding=True, truncation=True, max_length=max_sequence_length, return_tensors=\"pt\")\n",
        "    inputs = inputs.to(device)  # Move inputs to the device (GPU if available)\n",
        "\n",
        "    # 2. Get model outputs (logits)\n",
        "    with torch.no_grad():  # Disable gradient calculation for inference\n",
        "        outputs = model(**inputs)\n",
        "        logits = outputs.logits  # Get the raw output (logits)\n",
        "\n",
        "    # 3. Apply argmax to get predicted class index\n",
        "    predicted_class_index = logits.argmax().item()\n",
        "\n",
        "    # 4. Decode predicted class index to class name\n",
        "    predicted_class = label_encoder.inverse_transform([predicted_class_index])[0]\n",
        "\n",
        "    # 5. Print the input and predicted class\n",
        "    print(f\"Input: {input_text}\")\n",
        "    print(f\"Predicted Class: {predicted_class}\")\n",
        "\n",
        "# Example usage\n",
        "example_input = \"what meals are served on american flight 811 from tampa to milwaukee\"\n",
        "\n",
        "predict_and_compare_bert(\n",
        "    model=model,\n",
        "    input_text=example_input,\n",
        "    label_encoder=label_encoder,\n",
        "    tokenizer=tokenizer,\n",
        "    max_sequence_length=128\n",
        ")\n"
      ]
    },
    {
      "cell_type": "markdown",
      "metadata": {
        "id": "K_aQKeB6pW6K"
      },
      "source": [
        "## Fine-Tuned BERT Model"
      ]
    },
    {
      "cell_type": "code",
      "execution_count": 68,
      "metadata": {
        "id": "f_PG3a-x4Y9u"
      },
      "outputs": [],
      "source": [
        "# Set device to GPU if available\n",
        "device = torch.device(\"cuda\" if torch.cuda.is_available() else \"cpu\")\n"
      ]
    },
    {
      "cell_type": "code",
      "execution_count": 69,
      "metadata": {
        "colab": {
          "base_uri": "https://localhost:8080/"
        },
        "id": "_bs-R6bm4Y7E",
        "outputId": "be0d4f31-e0f1-4a1e-95b9-ee2d247964b4"
      },
      "outputs": [
        {
          "name": "stderr",
          "output_type": "stream",
          "text": [
            "Some weights of BertForSequenceClassification were not initialized from the model checkpoint at bert-base-cased and are newly initialized: ['classifier.bias', 'classifier.weight']\n",
            "You should probably TRAIN this model on a down-stream task to be able to use it for predictions and inference.\n"
          ]
        },
        {
          "data": {
            "text/plain": [
              "BertForSequenceClassification(\n",
              "  (bert): BertModel(\n",
              "    (embeddings): BertEmbeddings(\n",
              "      (word_embeddings): Embedding(28996, 768, padding_idx=0)\n",
              "      (position_embeddings): Embedding(512, 768)\n",
              "      (token_type_embeddings): Embedding(2, 768)\n",
              "      (LayerNorm): LayerNorm((768,), eps=1e-12, elementwise_affine=True)\n",
              "      (dropout): Dropout(p=0.1, inplace=False)\n",
              "    )\n",
              "    (encoder): BertEncoder(\n",
              "      (layer): ModuleList(\n",
              "        (0-11): 12 x BertLayer(\n",
              "          (attention): BertAttention(\n",
              "            (self): BertSdpaSelfAttention(\n",
              "              (query): Linear(in_features=768, out_features=768, bias=True)\n",
              "              (key): Linear(in_features=768, out_features=768, bias=True)\n",
              "              (value): Linear(in_features=768, out_features=768, bias=True)\n",
              "              (dropout): Dropout(p=0.1, inplace=False)\n",
              "            )\n",
              "            (output): BertSelfOutput(\n",
              "              (dense): Linear(in_features=768, out_features=768, bias=True)\n",
              "              (LayerNorm): LayerNorm((768,), eps=1e-12, elementwise_affine=True)\n",
              "              (dropout): Dropout(p=0.1, inplace=False)\n",
              "            )\n",
              "          )\n",
              "          (intermediate): BertIntermediate(\n",
              "            (dense): Linear(in_features=768, out_features=3072, bias=True)\n",
              "            (intermediate_act_fn): GELUActivation()\n",
              "          )\n",
              "          (output): BertOutput(\n",
              "            (dense): Linear(in_features=3072, out_features=768, bias=True)\n",
              "            (LayerNorm): LayerNorm((768,), eps=1e-12, elementwise_affine=True)\n",
              "            (dropout): Dropout(p=0.1, inplace=False)\n",
              "          )\n",
              "        )\n",
              "      )\n",
              "    )\n",
              "    (pooler): BertPooler(\n",
              "      (dense): Linear(in_features=768, out_features=768, bias=True)\n",
              "      (activation): Tanh()\n",
              "    )\n",
              "  )\n",
              "  (dropout): Dropout(p=0.1, inplace=False)\n",
              "  (classifier): Linear(in_features=768, out_features=17, bias=True)\n",
              ")"
            ]
          },
          "execution_count": 69,
          "metadata": {},
          "output_type": "execute_result"
        }
      ],
      "source": [
        "# Load pre-trained BERT tokenizer\n",
        "tokenizer = BertTokenizer.from_pretrained(\"bert-base-cased\")\n",
        "model = BertForSequenceClassification.from_pretrained(\"bert-base-cased\", num_labels=17)\n",
        "model.to(device)\n"
      ]
    },
    {
      "cell_type": "code",
      "execution_count": 70,
      "metadata": {
        "id": "rM9rSBmD4Y35"
      },
      "outputs": [],
      "source": [
        "# Tokenize the data\n",
        "def encode_data(texts, tokenizer, max_length=128):\n",
        "    \"\"\"\n",
        "    Tokenize and pad the input texts to a consistent length.\n",
        "\n",
        "    Args:\n",
        "        texts (list): List of input texts to be tokenized.\n",
        "        tokenizer (transformers.PreTrainedTokenizer): Tokenizer to convert text to input format.\n",
        "        max_length (int): Maximum sequence length for padding/truncation.\n",
        "\n",
        "    Returns:\n",
        "        dict: Tokenized input with input_ids and attention_mask.\n",
        "    \"\"\"\n",
        "    return tokenizer(texts, padding=True, truncation=True, max_length=max_length, return_tensors=\"pt\")\n",
        "\n",
        "# Tokenize training, validation, and test sets\n",
        "train_encodings = encode_data(train_df[\"utterance\"].tolist(), tokenizer)\n",
        "valid_encodings = encode_data(valid_df[\"utterance\"].tolist(), tokenizer)\n",
        "test_encodings = encode_data(test_df[\"utterance\"].tolist(), tokenizer)\n",
        "\n",
        "# Convert labels to tensors\n",
        "y_train_tensor = torch.tensor(y_train)\n",
        "y_valid_tensor = torch.tensor(y_valid)\n",
        "y_test_tensor = torch.tensor(y_test)\n"
      ]
    },
    {
      "cell_type": "code",
      "execution_count": 71,
      "metadata": {
        "id": "z2xLoJRJ4Y09"
      },
      "outputs": [],
      "source": [
        "# Create DataLoader for batching\n",
        "train_dataset = TensorDataset(train_encodings[\"input_ids\"], train_encodings[\"attention_mask\"], y_train_tensor)\n",
        "valid_dataset = TensorDataset(valid_encodings[\"input_ids\"], valid_encodings[\"attention_mask\"], y_valid_tensor)\n",
        "test_dataset = TensorDataset(test_encodings[\"input_ids\"], test_encodings[\"attention_mask\"], y_test_tensor)\n",
        "\n",
        "# Define DataLoader for batching\n",
        "train_dataloader = DataLoader(train_dataset, batch_size=16, shuffle=True)\n",
        "valid_dataloader = DataLoader(valid_dataset, batch_size=16)\n",
        "test_dataloader = DataLoader(test_dataset, batch_size=16)\n"
      ]
    },
    {
      "cell_type": "code",
      "execution_count": 72,
      "metadata": {
        "colab": {
          "base_uri": "https://localhost:8080/"
        },
        "id": "2TNtzXxT4YyJ",
        "outputId": "050661ff-8caa-4c75-b4fb-be87e858d03c"
      },
      "outputs": [
        {
          "name": "stderr",
          "output_type": "stream",
          "text": [
            "/usr/local/lib/python3.10/dist-packages/transformers/optimization.py:591: FutureWarning: This implementation of AdamW is deprecated and will be removed in a future version. Use the PyTorch implementation torch.optim.AdamW instead, or set `no_deprecation_warning=True` to disable this warning\n",
            "  warnings.warn(\n"
          ]
        }
      ],
      "source": [
        "# Define optimizer and scheduler\n",
        "optimizer = AdamW(model.parameters(), lr=2e-5)  # AdamW optimizer with learning rate\n",
        "num_training_steps = len(train_dataloader) * 6  # Total training steps (3 epochs)\n",
        "lr_scheduler = get_scheduler(\"linear\", optimizer=optimizer, num_warmup_steps=0, num_training_steps=num_training_steps)\n"
      ]
    },
    {
      "cell_type": "code",
      "execution_count": 73,
      "metadata": {
        "id": "JWne4K594YvW"
      },
      "outputs": [],
      "source": [
        "# Training loop\n",
        "def train_model(model, train_dataloader, valid_dataloader, optimizer, scheduler, device, epochs=4):\n",
        "    \"\"\"\n",
        "    Trains the model for a specified number of epochs.\n",
        "\n",
        "    Args:\n",
        "        model (transformers.PreTrainedModel): The BERT model to train.\n",
        "        train_dataloader (DataLoader): Dataloader for training data.\n",
        "        valid_dataloader (DataLoader): Dataloader for validation data.\n",
        "        optimizer (torch.optim.Optimizer): Optimizer for model parameters.\n",
        "        scheduler (transformers.get_scheduler): Scheduler to adjust the learning rate.\n",
        "        device (torch.device): Device to run the model (CPU or GPU).\n",
        "        epochs (int): Number of epochs to train.\n",
        "    \"\"\"\n",
        "    model.train()  # Set model to training mode\n",
        "    for epoch in range(epochs):\n",
        "        print(f\"Epoch {epoch + 1}/{epochs}\")\n",
        "        total_loss = 0  # Initialize total loss\n",
        "\n",
        "        for batch in tqdm(train_dataloader, desc=\"Training\"):\n",
        "            input_ids, attention_mask, labels = [item.to(device) for item in batch]\n",
        "\n",
        "            # Forward pass\n",
        "            outputs = model(input_ids, attention_mask=attention_mask, labels=labels)\n",
        "            loss = outputs.loss\n",
        "            total_loss += loss.item()\n",
        "\n",
        "            optimizer.zero_grad()  # Clear previous gradients\n",
        "            loss.backward()  # Backpropagate loss\n",
        "            optimizer.step()  # Update model parameters\n",
        "            scheduler.step()  # Update learning rate\n",
        "\n",
        "        avg_loss = total_loss / len(train_dataloader)  # Calculate average loss for this epoch\n",
        "        print(f\"Training Loss: {avg_loss:.4f}\")\n",
        "\n",
        "        # Validate after each epoch\n",
        "        evaluate_model(model, valid_dataloader, device, is_validation=True)\n"
      ]
    },
    {
      "cell_type": "code",
      "execution_count": 74,
      "metadata": {
        "colab": {
          "base_uri": "https://localhost:8080/"
        },
        "id": "D1pytNBs4YsY",
        "outputId": "50b225ff-2e9d-436a-e87a-b5d95f2a972a"
      },
      "outputs": [
        {
          "name": "stdout",
          "output_type": "stream",
          "text": [
            "Epoch 1/6\n"
          ]
        },
        {
          "name": "stderr",
          "output_type": "stream",
          "text": [
            "Training: 100%|██████████| 274/274 [00:48<00:00,  5.69it/s]\n"
          ]
        },
        {
          "name": "stdout",
          "output_type": "stream",
          "text": [
            "Training Loss: 0.1775\n"
          ]
        },
        {
          "name": "stderr",
          "output_type": "stream",
          "text": [
            "Validation: 100%|██████████| 38/38 [00:01<00:00, 25.03it/s]\n"
          ]
        },
        {
          "name": "stdout",
          "output_type": "stream",
          "text": [
            "Validation Loss: 0.0755\n",
            "Epoch 2/6\n"
          ]
        },
        {
          "name": "stderr",
          "output_type": "stream",
          "text": [
            "Training: 100%|██████████| 274/274 [00:47<00:00,  5.78it/s]\n"
          ]
        },
        {
          "name": "stdout",
          "output_type": "stream",
          "text": [
            "Training Loss: 0.0541\n"
          ]
        },
        {
          "name": "stderr",
          "output_type": "stream",
          "text": [
            "Validation: 100%|██████████| 38/38 [00:01<00:00, 25.15it/s]\n"
          ]
        },
        {
          "name": "stdout",
          "output_type": "stream",
          "text": [
            "Validation Loss: 0.0438\n",
            "Epoch 3/6\n"
          ]
        },
        {
          "name": "stderr",
          "output_type": "stream",
          "text": [
            "Training: 100%|██████████| 274/274 [00:47<00:00,  5.78it/s]\n"
          ]
        },
        {
          "name": "stdout",
          "output_type": "stream",
          "text": [
            "Training Loss: 0.0326\n"
          ]
        },
        {
          "name": "stderr",
          "output_type": "stream",
          "text": [
            "Validation: 100%|██████████| 38/38 [00:01<00:00, 24.45it/s]\n"
          ]
        },
        {
          "name": "stdout",
          "output_type": "stream",
          "text": [
            "Validation Loss: 0.0320\n",
            "Epoch 4/6\n"
          ]
        },
        {
          "name": "stderr",
          "output_type": "stream",
          "text": [
            "Training: 100%|██████████| 274/274 [00:47<00:00,  5.77it/s]\n"
          ]
        },
        {
          "name": "stdout",
          "output_type": "stream",
          "text": [
            "Training Loss: 0.0236\n"
          ]
        },
        {
          "name": "stderr",
          "output_type": "stream",
          "text": [
            "Validation: 100%|██████████| 38/38 [00:01<00:00, 25.19it/s]\n"
          ]
        },
        {
          "name": "stdout",
          "output_type": "stream",
          "text": [
            "Validation Loss: 0.0267\n",
            "Epoch 5/6\n"
          ]
        },
        {
          "name": "stderr",
          "output_type": "stream",
          "text": [
            "Training: 100%|██████████| 274/274 [00:47<00:00,  5.78it/s]\n"
          ]
        },
        {
          "name": "stdout",
          "output_type": "stream",
          "text": [
            "Training Loss: 0.0193\n"
          ]
        },
        {
          "name": "stderr",
          "output_type": "stream",
          "text": [
            "Validation: 100%|██████████| 38/38 [00:01<00:00, 25.08it/s]\n"
          ]
        },
        {
          "name": "stdout",
          "output_type": "stream",
          "text": [
            "Validation Loss: 0.0237\n",
            "Epoch 6/6\n"
          ]
        },
        {
          "name": "stderr",
          "output_type": "stream",
          "text": [
            "Training: 100%|██████████| 274/274 [00:47<00:00,  5.76it/s]\n"
          ]
        },
        {
          "name": "stdout",
          "output_type": "stream",
          "text": [
            "Training Loss: 0.0174\n"
          ]
        },
        {
          "name": "stderr",
          "output_type": "stream",
          "text": [
            "Validation: 100%|██████████| 38/38 [00:01<00:00, 24.48it/s]"
          ]
        },
        {
          "name": "stdout",
          "output_type": "stream",
          "text": [
            "Validation Loss: 0.0229\n"
          ]
        },
        {
          "name": "stderr",
          "output_type": "stream",
          "text": [
            "\n"
          ]
        }
      ],
      "source": [
        "# Evaluation function\n",
        "def evaluate_model(model, dataloader, device, is_validation=False):\n",
        "    \"\"\"\n",
        "    Evaluate the model on the validation or test dataset.\n",
        "\n",
        "    Args:\n",
        "        model (transformers.PreTrainedModel): The trained model to evaluate.\n",
        "        dataloader (DataLoader): Dataloader for the dataset (validation or test).\n",
        "        device (torch.device): Device to run the model (CPU or GPU).\n",
        "        is_validation (bool): Whether to perform validation or testing.\n",
        "\n",
        "    Returns:\n",
        "        tuple: True labels and predicted labels.\n",
        "    \"\"\"\n",
        "    model.eval()  # Set model to evaluation mode\n",
        "    all_preds = []\n",
        "    all_labels = []\n",
        "    total_loss = 0\n",
        "\n",
        "    with torch.no_grad():  # Disable gradient calculations for evaluation\n",
        "        for batch in tqdm(dataloader, desc=\"Validation\" if is_validation else \"Testing\"):\n",
        "            input_ids, attention_mask, labels = [item.to(device) for item in batch]\n",
        "\n",
        "            # Forward pass\n",
        "            outputs = model(input_ids, attention_mask=attention_mask, labels=labels)\n",
        "            loss = outputs.loss\n",
        "            total_loss += loss.item()\n",
        "\n",
        "            logits = outputs.logits  # Get model predictions\n",
        "            predictions = torch.argmax(logits, dim=-1)  # Convert logits to predicted classes\n",
        "\n",
        "            all_preds.extend(predictions.cpu().numpy())  # Store predictions\n",
        "            # Convert one-hot encoded labels to single-digit labels\n",
        "            all_labels.extend(labels.cpu().numpy().argmax(axis=1) if labels.dim() > 1 else labels.cpu().numpy())\n",
        "\n",
        "    avg_loss = total_loss / len(dataloader)  # Calculate average loss\n",
        "    print(f\"{'Validation' if is_validation else 'Test'} Loss: {avg_loss:.4f}\")\n",
        "    return all_labels, all_preds\n",
        "\n",
        "# Train the model\n",
        "train_model(model, train_dataloader, valid_dataloader, optimizer, lr_scheduler, device, epochs=6)\n"
      ]
    },
    {
      "cell_type": "code",
      "execution_count": 75,
      "metadata": {
        "colab": {
          "base_uri": "https://localhost:8080/"
        },
        "id": "Mk5P6iWX4Ypa",
        "outputId": "f4821d4f-1237-44dc-d957-4f88828ad00b"
      },
      "outputs": [
        {
          "name": "stderr",
          "output_type": "stream",
          "text": [
            "Testing: 100%|██████████| 56/56 [00:02<00:00, 20.76it/s]"
          ]
        },
        {
          "name": "stdout",
          "output_type": "stream",
          "text": [
            "Test Loss: 0.0353\n"
          ]
        },
        {
          "name": "stderr",
          "output_type": "stream",
          "text": [
            "\n"
          ]
        }
      ],
      "source": [
        "# Test the model\n",
        "y_test_labels, y_test_preds = evaluate_model(model, test_dataloader, device)\n"
      ]
    },
    {
      "cell_type": "code",
      "execution_count": 76,
      "metadata": {
        "colab": {
          "base_uri": "https://localhost:8080/",
          "height": 487
        },
        "id": "zMKnzH1E4Ymq",
        "outputId": "45b52f02-0ad3-4af8-a4af-cae5e311abef"
      },
      "outputs": [
        {
          "data": {
            "image/png": "[encoded data removed]",
            "text/plain": [
              "<Figure size 640x480 with 2 Axes>"
            ]
          },
          "metadata": {},
          "output_type": "display_data"
        }
      ],
      "source": [
        "# Confusion matrix\n",
        "conf_matrix_bert = confusion_matrix(y_test_labels, y_test_preds)\n",
        "disp_bert = ConfusionMatrixDisplay(confusion_matrix=conf_matrix_bert, display_labels=label_encoder.classes_)\n",
        "disp_bert.plot(cmap=\"viridis\")\n",
        "\n",
        "# Rotate the x-axis labels\n",
        "plt.xticks(rotation=45, ha='right')  # Rotate labels and align to the right\n",
        "plt.tight_layout()  # Adjust layout to fit rotated labels\n",
        "plt.show()\n"
      ]
    },
    {
      "cell_type": "markdown",
      "metadata": {
        "id": "H-H_BJGSCvV5"
      },
      "source": [
        "# Results"
      ]
    },
    {
      "cell_type": "code",
      "execution_count": 79,
      "metadata": {
        "colab": {
          "base_uri": "https://localhost:8080/",
          "height": 620
        },
        "id": "Hso53BLfpG0H",
        "outputId": "65fa2e28-0f9d-48e0-d415-e552d770f415"
      },
      "outputs": [
        {
          "name": "stdout",
          "output_type": "stream",
          "text": [
            "                 Model  Accuracy  F1 Score\n",
            "0          Naive Bayes  0.797765  0.731498\n",
            "1  Logistic Regression  0.871508  0.831416\n",
            "2                  CNN  0.907263  0.888753\n",
            "3                 BERT  0.941899  0.931657\n"
          ]
        },
        {
          "data": {
            "image/png": "[encoded data removed]",
            "text/plain": [
              "<Figure size 1200x800 with 1 Axes>"
            ]
          },
          "metadata": {},
          "output_type": "display_data"
        }
      ],
      "source": [
        "# Function to print model performance\n",
        "def print_model_performance(model_names, y_true, y_preds):\n",
        "    \"\"\"\n",
        "    Prints the accuracy and F1 score of multiple models in a table format.\n",
        "\n",
        "    Args:\n",
        "        model_names: List of model names.\n",
        "        y_true: True labels (test set).\n",
        "        y_preds: List of model predictions (test set) for each model.\n",
        "    \"\"\"\n",
        "    accuracy_list = []\n",
        "    f1_list = []\n",
        "\n",
        "    # Evaluate each model\n",
        "    for y_pred in y_preds:\n",
        "        accuracy = accuracy_score(y_true, y_pred)  # Calculate accuracy\n",
        "        f1 = f1_score(y_true, y_pred, average='weighted')  # Weighted F1 score for multi-class\n",
        "\n",
        "        accuracy_list.append(accuracy)\n",
        "        f1_list.append(f1)\n",
        "\n",
        "    # Create DataFrame to display results\n",
        "    performance_df = pd.DataFrame({\n",
        "        'Model': model_names,\n",
        "        'Accuracy': accuracy_list,\n",
        "        'F1 Score': f1_list\n",
        "    })\n",
        "\n",
        "    # Print performance summary\n",
        "    print(performance_df)\n",
        "\n",
        "    return performance_df\n",
        "\n",
        "# Example usage\n",
        "model_names = ['Naive Bayes', 'Logistic Regression', 'CNN', 'BERT']  # List of model names\n",
        "y_preds = [y_test_pred, y_pred_logreg, y_pred_cnn, y_test_preds]  # Model predictions (replace with actual variables)\n",
        "y_true = y_test_class  # True labels\n",
        "\n",
        "# Print performance table\n",
        "performance_df = print_model_performance(model_names, y_true, y_preds)\n",
        "\n",
        "# Prepare the data for plotting\n",
        "df_melted = performance_df.melt(id_vars='Model', value_vars=['Accuracy', 'F1 Score'], var_name='Metric', value_name='Value')\n",
        "\n",
        "# Grouped bar chart\n",
        "sns.set_style(\"whitegrid\")\n",
        "fig, ax = plt.subplots(figsize=(12, 8))  # Increase the figure size\n",
        "sns.barplot(x='Metric', y='Value', hue='Model', data=df_melted, palette='Set2', ax=ax)\n",
        "\n",
        "# Setting the title and labels\n",
        "ax.set_title('Model Performance Comparison', fontsize=20)\n",
        "ax.set_xlabel('Metric', fontsize=14, fontweight='bold')\n",
        "ax.set_ylabel('Value (%)', fontsize=14, fontweight='bold')\n",
        "\n",
        "ax.tick_params(axis='both', labelsize=14)\n",
        "\n",
        "# Add a legend\n",
        "ax.legend(title='Model', fontsize=14, loc=\"lower right\")\n",
        "\n",
        "# Show the plot\n",
        "plt.show()\n"
      ]
    },
    {
      "cell_type": "markdown",
      "metadata": {
        "id": "Brwa0GH3C0S2"
      },
      "source": [
        "- In this project, the pipeline integrates traditional machine learning models (such as Naive Bayes and Logistic Regression) with more advanced deep learning models (like CNN and BERT).\n",
        "- It offers a comprehensive approach to training and evaluating intent classification models, efficiently managing preprocessing, and model assessment."
      ]
    },
    {
      "cell_type": "markdown",
      "metadata": {
        "id": "2-0rh5mjGZHZ"
      },
      "source": [
        "Anbu Ezhilmathi Nambi\n",
        "\n",
        "G33350186"
      ]
    }
  ],
  "metadata": {
    "accelerator": "GPU",
    "colab": {
      "gpuType": "T4",
      "provenance": []
    },
    "kernelspec": {
      "display_name": "Python 3",
      "name": "python3"
    },
    "language_info": {
      "name": "python"
    },
    "widgets": {
      "application/vnd.jupyter.widget-state+json": {
        "01ebfa5264cd4170b5d3fe3327d67fec": {
          "model_module": "@jupyter-widgets/controls",
          "model_module_version": "1.5.0",
          "model_name": "HTMLModel",
          "state": {
            "_dom_classes": [],
            "_model_module": "@jupyter-widgets/controls",
            "_model_module_version": "1.5.0",
            "_model_name": "HTMLModel",
            "_view_count": null,
            "_view_module": "@jupyter-widgets/controls",
            "_view_module_version": "1.5.0",
            "_view_name": "HTMLView",
            "description": "",
            "description_tooltip": null,
            "layout": "IPY_MODEL_4330e1c36cc34af6960f4b5bcda982bb",
            "placeholder": "​",
            "style": "IPY_MODEL_12e9a2806e5b472ebfc47a7d4e5760c6",
            "value": " 49.0/49.0 [00:00&lt;00:00, 1.51kB/s]"
          }
        },
        "09c6b931828847f991bcb03606396406": {
          "model_module": "@jupyter-widgets/controls",
          "model_module_version": "1.5.0",
          "model_name": "FloatProgressModel",
          "state": {
            "_dom_classes": [],
            "_model_module": "@jupyter-widgets/controls",
            "_model_module_version": "1.5.0",
            "_model_name": "FloatProgressModel",
            "_view_count": null,
            "_view_module": "@jupyter-widgets/controls",
            "_view_module_version": "1.5.0",
            "_view_name": "ProgressView",
            "bar_style": "success",
            "description": "",
            "description_tooltip": null,
            "layout": "IPY_MODEL_c7011f3c3b0f48c4900a7a38c57cac4d",
            "max": 213450,
            "min": 0,
            "orientation": "horizontal",
            "style": "IPY_MODEL_4440d1e39b9640f2859ea7bafc53c91d",
            "value": 213450
          }
        },
        "0a885b628c434bdc83b6991ab6a3e76e": {
          "model_module": "@jupyter-widgets/base",
          "model_module_version": "1.2.0",
          "model_name": "LayoutModel",
          "state": {
            "_model_module": "@jupyter-widgets/base",
            "_model_module_version": "1.2.0",
            "_model_name": "LayoutModel",
            "_view_count": null,
            "_view_module": "@jupyter-widgets/base",
            "_view_module_version": "1.2.0",
            "_view_name": "LayoutView",
            "align_content": null,
            "align_items": null,
            "align_self": null,
            "border": null,
            "bottom": null,
            "display": null,
            "flex": null,
            "flex_flow": null,
            "grid_area": null,
            "grid_auto_columns": null,
            "grid_auto_flow": null,
            "grid_auto_rows": null,
            "grid_column": null,
            "grid_gap": null,
            "grid_row": null,
            "grid_template_areas": null,
            "grid_template_columns": null,
            "grid_template_rows": null,
            "height": null,
            "justify_content": null,
            "justify_items": null,
            "left": null,
            "margin": null,
            "max_height": null,
            "max_width": null,
            "min_height": null,
            "min_width": null,
            "object_fit": null,
            "object_position": null,
            "order": null,
            "overflow": null,
            "overflow_x": null,
            "overflow_y": null,
            "padding": null,
            "right": null,
            "top": null,
            "visibility": null,
            "width": null
          }
        },
        "0e77947018a149bf9e958bf254bd152e": {
          "model_module": "@jupyter-widgets/controls",
          "model_module_version": "1.5.0",
          "model_name": "HBoxModel",
          "state": {
            "_dom_classes": [],
            "_model_module": "@jupyter-widgets/controls",
            "_model_module_version": "1.5.0",
            "_model_name": "HBoxModel",
            "_view_count": null,
            "_view_module": "@jupyter-widgets/controls",
            "_view_module_version": "1.5.0",
            "_view_name": "HBoxView",
            "box_style": "",
            "children": [
              "IPY_MODEL_61741a785a704e3b9f230ddb91e711d4",
              "IPY_MODEL_09c6b931828847f991bcb03606396406",
              "IPY_MODEL_62e12f2d21cc4b6196b091bbe7df53d3"
            ],
            "layout": "IPY_MODEL_2477e321d59e4d99805ccb138ee368df"
          }
        },
        "10570c962d60439ea9c64f7d27efb93a": {
          "model_module": "@jupyter-widgets/controls",
          "model_module_version": "1.5.0",
          "model_name": "DescriptionStyleModel",
          "state": {
            "_model_module": "@jupyter-widgets/controls",
            "_model_module_version": "1.5.0",
            "_model_name": "DescriptionStyleModel",
            "_view_count": null,
            "_view_module": "@jupyter-widgets/base",
            "_view_module_version": "1.2.0",
            "_view_name": "StyleView",
            "description_width": ""
          }
        },
        "12e9a2806e5b472ebfc47a7d4e5760c6": {
          "model_module": "@jupyter-widgets/controls",
          "model_module_version": "1.5.0",
          "model_name": "DescriptionStyleModel",
          "state": {
            "_model_module": "@jupyter-widgets/controls",
            "_model_module_version": "1.5.0",
            "_model_name": "DescriptionStyleModel",
            "_view_count": null,
            "_view_module": "@jupyter-widgets/base",
            "_view_module_version": "1.2.0",
            "_view_name": "StyleView",
            "description_width": ""
          }
        },
        "14f335c4329c47918b16454dbacdb15d": {
          "model_module": "@jupyter-widgets/controls",
          "model_module_version": "1.5.0",
          "model_name": "DescriptionStyleModel",
          "state": {
            "_model_module": "@jupyter-widgets/controls",
            "_model_module_version": "1.5.0",
            "_model_name": "DescriptionStyleModel",
            "_view_count": null,
            "_view_module": "@jupyter-widgets/base",
            "_view_module_version": "1.2.0",
            "_view_name": "StyleView",
            "description_width": ""
          }
        },
        "164589db70294c4db774961f20c5f230": {
          "model_module": "@jupyter-widgets/controls",
          "model_module_version": "1.5.0",
          "model_name": "HTMLModel",
          "state": {
            "_dom_classes": [],
            "_model_module": "@jupyter-widgets/controls",
            "_model_module_version": "1.5.0",
            "_model_name": "HTMLModel",
            "_view_count": null,
            "_view_module": "@jupyter-widgets/controls",
            "_view_module_version": "1.5.0",
            "_view_name": "HTMLView",
            "description": "",
            "description_tooltip": null,
            "layout": "IPY_MODEL_be1e1fd3c7804513bff0ef517d40d728",
            "placeholder": "​",
            "style": "IPY_MODEL_10570c962d60439ea9c64f7d27efb93a",
            "value": " 436k/436k [00:00&lt;00:00, 16.8MB/s]"
          }
        },
        "1c90ac1e69894715b477170a4fa96092": {
          "model_module": "@jupyter-widgets/base",
          "model_module_version": "1.2.0",
          "model_name": "LayoutModel",
          "state": {
            "_model_module": "@jupyter-widgets/base",
            "_model_module_version": "1.2.0",
            "_model_name": "LayoutModel",
            "_view_count": null,
            "_view_module": "@jupyter-widgets/base",
            "_view_module_version": "1.2.0",
            "_view_name": "LayoutView",
            "align_content": null,
            "align_items": null,
            "align_self": null,
            "border": null,
            "bottom": null,
            "display": null,
            "flex": null,
            "flex_flow": null,
            "grid_area": null,
            "grid_auto_columns": null,
            "grid_auto_flow": null,
            "grid_auto_rows": null,
            "grid_column": null,
            "grid_gap": null,
            "grid_row": null,
            "grid_template_areas": null,
            "grid_template_columns": null,
            "grid_template_rows": null,
            "height": null,
            "justify_content": null,
            "justify_items": null,
            "left": null,
            "margin": null,
            "max_height": null,
            "max_width": null,
            "min_height": null,
            "min_width": null,
            "object_fit": null,
            "object_position": null,
            "order": null,
            "overflow": null,
            "overflow_x": null,
            "overflow_y": null,
            "padding": null,
            "right": null,
            "top": null,
            "visibility": null,
            "width": null
          }
        },
        "1ec1824149b04bea955c86d60d913815": {
          "model_module": "@jupyter-widgets/controls",
          "model_module_version": "1.5.0",
          "model_name": "HTMLModel",
          "state": {
            "_dom_classes": [],
            "_model_module": "@jupyter-widgets/controls",
            "_model_module_version": "1.5.0",
            "_model_name": "HTMLModel",
            "_view_count": null,
            "_view_module": "@jupyter-widgets/controls",
            "_view_module_version": "1.5.0",
            "_view_name": "HTMLView",
            "description": "",
            "description_tooltip": null,
            "layout": "IPY_MODEL_292b69dca525497695b1e414410c59bc",
            "placeholder": "​",
            "style": "IPY_MODEL_52e3efe617bd49d9b85beb42ff72c311",
            "value": "model.safetensors: 100%"
          }
        },
        "2477e321d59e4d99805ccb138ee368df": {
          "model_module": "@jupyter-widgets/base",
          "model_module_version": "1.2.0",
          "model_name": "LayoutModel",
          "state": {
            "_model_module": "@jupyter-widgets/base",
            "_model_module_version": "1.2.0",
            "_model_name": "LayoutModel",
            "_view_count": null,
            "_view_module": "@jupyter-widgets/base",
            "_view_module_version": "1.2.0",
            "_view_name": "LayoutView",
            "align_content": null,
            "align_items": null,
            "align_self": null,
            "border": null,
            "bottom": null,
            "display": null,
            "flex": null,
            "flex_flow": null,
            "grid_area": null,
            "grid_auto_columns": null,
            "grid_auto_flow": null,
            "grid_auto_rows": null,
            "grid_column": null,
            "grid_gap": null,
            "grid_row": null,
            "grid_template_areas": null,
            "grid_template_columns": null,
            "grid_template_rows": null,
            "height": null,
            "justify_content": null,
            "justify_items": null,
            "left": null,
            "margin": null,
            "max_height": null,
            "max_width": null,
            "min_height": null,
            "min_width": null,
            "object_fit": null,
            "object_position": null,
            "order": null,
            "overflow": null,
            "overflow_x": null,
            "overflow_y": null,
            "padding": null,
            "right": null,
            "top": null,
            "visibility": null,
            "width": null
          }
        },
        "2639d5291e7741fb9fc106deb7676b2c": {
          "model_module": "@jupyter-widgets/controls",
          "model_module_version": "1.5.0",
          "model_name": "DescriptionStyleModel",
          "state": {
            "_model_module": "@jupyter-widgets/controls",
            "_model_module_version": "1.5.0",
            "_model_name": "DescriptionStyleModel",
            "_view_count": null,
            "_view_module": "@jupyter-widgets/base",
            "_view_module_version": "1.2.0",
            "_view_name": "StyleView",
            "description_width": ""
          }
        },
        "2827d596dd8d4a61b9fe158a38c87ce6": {
          "model_module": "@jupyter-widgets/base",
          "model_module_version": "1.2.0",
          "model_name": "LayoutModel",
          "state": {
            "_model_module": "@jupyter-widgets/base",
            "_model_module_version": "1.2.0",
            "_model_name": "LayoutModel",
            "_view_count": null,
            "_view_module": "@jupyter-widgets/base",
            "_view_module_version": "1.2.0",
            "_view_name": "LayoutView",
            "align_content": null,
            "align_items": null,
            "align_self": null,
            "border": null,
            "bottom": null,
            "display": null,
            "flex": null,
            "flex_flow": null,
            "grid_area": null,
            "grid_auto_columns": null,
            "grid_auto_flow": null,
            "grid_auto_rows": null,
            "grid_column": null,
            "grid_gap": null,
            "grid_row": null,
            "grid_template_areas": null,
            "grid_template_columns": null,
            "grid_template_rows": null,
            "height": null,
            "justify_content": null,
            "justify_items": null,
            "left": null,
            "margin": null,
            "max_height": null,
            "max_width": null,
            "min_height": null,
            "min_width": null,
            "object_fit": null,
            "object_position": null,
            "order": null,
            "overflow": null,
            "overflow_x": null,
            "overflow_y": null,
            "padding": null,
            "right": null,
            "top": null,
            "visibility": null,
            "width": null
          }
        },
        "28f8463467b349d7b6a87a76090d7bde": {
          "model_module": "@jupyter-widgets/controls",
          "model_module_version": "1.5.0",
          "model_name": "HBoxModel",
          "state": {
            "_dom_classes": [],
            "_model_module": "@jupyter-widgets/controls",
            "_model_module_version": "1.5.0",
            "_model_name": "HBoxModel",
            "_view_count": null,
            "_view_module": "@jupyter-widgets/controls",
            "_view_module_version": "1.5.0",
            "_view_name": "HBoxView",
            "box_style": "",
            "children": [
              "IPY_MODEL_565d54c52c7f40ddb3d990c7083ae65e",
              "IPY_MODEL_2b8dc4000bad43a2888879714b95fb95",
              "IPY_MODEL_9306d444d86e489f9828a0e617879eab"
            ],
            "layout": "IPY_MODEL_5c4ecfa94b56468e8324dfcfb6a6a24c"
          }
        },
        "292b69dca525497695b1e414410c59bc": {
          "model_module": "@jupyter-widgets/base",
          "model_module_version": "1.2.0",
          "model_name": "LayoutModel",
          "state": {
            "_model_module": "@jupyter-widgets/base",
            "_model_module_version": "1.2.0",
            "_model_name": "LayoutModel",
            "_view_count": null,
            "_view_module": "@jupyter-widgets/base",
            "_view_module_version": "1.2.0",
            "_view_name": "LayoutView",
            "align_content": null,
            "align_items": null,
            "align_self": null,
            "border": null,
            "bottom": null,
            "display": null,
            "flex": null,
            "flex_flow": null,
            "grid_area": null,
            "grid_auto_columns": null,
            "grid_auto_flow": null,
            "grid_auto_rows": null,
            "grid_column": null,
            "grid_gap": null,
            "grid_row": null,
            "grid_template_areas": null,
            "grid_template_columns": null,
            "grid_template_rows": null,
            "height": null,
            "justify_content": null,
            "justify_items": null,
            "left": null,
            "margin": null,
            "max_height": null,
            "max_width": null,
            "min_height": null,
            "min_width": null,
            "object_fit": null,
            "object_position": null,
            "order": null,
            "overflow": null,
            "overflow_x": null,
            "overflow_y": null,
            "padding": null,
            "right": null,
            "top": null,
            "visibility": null,
            "width": null
          }
        },
        "2b8dc4000bad43a2888879714b95fb95": {
          "model_module": "@jupyter-widgets/controls",
          "model_module_version": "1.5.0",
          "model_name": "FloatProgressModel",
          "state": {
            "_dom_classes": [],
            "_model_module": "@jupyter-widgets/controls",
            "_model_module_version": "1.5.0",
            "_model_name": "FloatProgressModel",
            "_view_count": null,
            "_view_module": "@jupyter-widgets/controls",
            "_view_module_version": "1.5.0",
            "_view_name": "ProgressView",
            "bar_style": "success",
            "description": "",
            "description_tooltip": null,
            "layout": "IPY_MODEL_467a3a55def045a794e8e70d4aae2a51",
            "max": 570,
            "min": 0,
            "orientation": "horizontal",
            "style": "IPY_MODEL_9606dd250c8b4f54a2fb08b07761acac",
            "value": 570
          }
        },
        "2bd909392d9b455a88cc8e1d2b1d4f0d": {
          "model_module": "@jupyter-widgets/controls",
          "model_module_version": "1.5.0",
          "model_name": "ProgressStyleModel",
          "state": {
            "_model_module": "@jupyter-widgets/controls",
            "_model_module_version": "1.5.0",
            "_model_name": "ProgressStyleModel",
            "_view_count": null,
            "_view_module": "@jupyter-widgets/base",
            "_view_module_version": "1.2.0",
            "_view_name": "StyleView",
            "bar_color": null,
            "description_width": ""
          }
        },
        "2ee6a861dfed43f893e3f2fe7817c866": {
          "model_module": "@jupyter-widgets/base",
          "model_module_version": "1.2.0",
          "model_name": "LayoutModel",
          "state": {
            "_model_module": "@jupyter-widgets/base",
            "_model_module_version": "1.2.0",
            "_model_name": "LayoutModel",
            "_view_count": null,
            "_view_module": "@jupyter-widgets/base",
            "_view_module_version": "1.2.0",
            "_view_name": "LayoutView",
            "align_content": null,
            "align_items": null,
            "align_self": null,
            "border": null,
            "bottom": null,
            "display": null,
            "flex": null,
            "flex_flow": null,
            "grid_area": null,
            "grid_auto_columns": null,
            "grid_auto_flow": null,
            "grid_auto_rows": null,
            "grid_column": null,
            "grid_gap": null,
            "grid_row": null,
            "grid_template_areas": null,
            "grid_template_columns": null,
            "grid_template_rows": null,
            "height": null,
            "justify_content": null,
            "justify_items": null,
            "left": null,
            "margin": null,
            "max_height": null,
            "max_width": null,
            "min_height": null,
            "min_width": null,
            "object_fit": null,
            "object_position": null,
            "order": null,
            "overflow": null,
            "overflow_x": null,
            "overflow_y": null,
            "padding": null,
            "right": null,
            "top": null,
            "visibility": null,
            "width": null
          }
        },
        "32c559d5ce57413895f6a852baf567f2": {
          "model_module": "@jupyter-widgets/controls",
          "model_module_version": "1.5.0",
          "model_name": "HBoxModel",
          "state": {
            "_dom_classes": [],
            "_model_module": "@jupyter-widgets/controls",
            "_model_module_version": "1.5.0",
            "_model_name": "HBoxModel",
            "_view_count": null,
            "_view_module": "@jupyter-widgets/controls",
            "_view_module_version": "1.5.0",
            "_view_name": "HBoxView",
            "box_style": "",
            "children": [
              "IPY_MODEL_d98cd9790fa14c2ebe707ff9f9c6b758",
              "IPY_MODEL_e8291ea573c941fb872ed2f3a4e4ade6",
              "IPY_MODEL_01ebfa5264cd4170b5d3fe3327d67fec"
            ],
            "layout": "IPY_MODEL_0a885b628c434bdc83b6991ab6a3e76e"
          }
        },
        "333b1d1b35eb447b957776a9678fa5aa": {
          "model_module": "@jupyter-widgets/base",
          "model_module_version": "1.2.0",
          "model_name": "LayoutModel",
          "state": {
            "_model_module": "@jupyter-widgets/base",
            "_model_module_version": "1.2.0",
            "_model_name": "LayoutModel",
            "_view_count": null,
            "_view_module": "@jupyter-widgets/base",
            "_view_module_version": "1.2.0",
            "_view_name": "LayoutView",
            "align_content": null,
            "align_items": null,
            "align_self": null,
            "border": null,
            "bottom": null,
            "display": null,
            "flex": null,
            "flex_flow": null,
            "grid_area": null,
            "grid_auto_columns": null,
            "grid_auto_flow": null,
            "grid_auto_rows": null,
            "grid_column": null,
            "grid_gap": null,
            "grid_row": null,
            "grid_template_areas": null,
            "grid_template_columns": null,
            "grid_template_rows": null,
            "height": null,
            "justify_content": null,
            "justify_items": null,
            "left": null,
            "margin": null,
            "max_height": null,
            "max_width": null,
            "min_height": null,
            "min_width": null,
            "object_fit": null,
            "object_position": null,
            "order": null,
            "overflow": null,
            "overflow_x": null,
            "overflow_y": null,
            "padding": null,
            "right": null,
            "top": null,
            "visibility": null,
            "width": null
          }
        },
        "422448c4389045c3b56cd0cc7ce4e977": {
          "model_module": "@jupyter-widgets/base",
          "model_module_version": "1.2.0",
          "model_name": "LayoutModel",
          "state": {
            "_model_module": "@jupyter-widgets/base",
            "_model_module_version": "1.2.0",
            "_model_name": "LayoutModel",
            "_view_count": null,
            "_view_module": "@jupyter-widgets/base",
            "_view_module_version": "1.2.0",
            "_view_name": "LayoutView",
            "align_content": null,
            "align_items": null,
            "align_self": null,
            "border": null,
            "bottom": null,
            "display": null,
            "flex": null,
            "flex_flow": null,
            "grid_area": null,
            "grid_auto_columns": null,
            "grid_auto_flow": null,
            "grid_auto_rows": null,
            "grid_column": null,
            "grid_gap": null,
            "grid_row": null,
            "grid_template_areas": null,
            "grid_template_columns": null,
            "grid_template_rows": null,
            "height": null,
            "justify_content": null,
            "justify_items": null,
            "left": null,
            "margin": null,
            "max_height": null,
            "max_width": null,
            "min_height": null,
            "min_width": null,
            "object_fit": null,
            "object_position": null,
            "order": null,
            "overflow": null,
            "overflow_x": null,
            "overflow_y": null,
            "padding": null,
            "right": null,
            "top": null,
            "visibility": null,
            "width": null
          }
        },
        "4330e1c36cc34af6960f4b5bcda982bb": {
          "model_module": "@jupyter-widgets/base",
          "model_module_version": "1.2.0",
          "model_name": "LayoutModel",
          "state": {
            "_model_module": "@jupyter-widgets/base",
            "_model_module_version": "1.2.0",
            "_model_name": "LayoutModel",
            "_view_count": null,
            "_view_module": "@jupyter-widgets/base",
            "_view_module_version": "1.2.0",
            "_view_name": "LayoutView",
            "align_content": null,
            "align_items": null,
            "align_self": null,
            "border": null,
            "bottom": null,
            "display": null,
            "flex": null,
            "flex_flow": null,
            "grid_area": null,
            "grid_auto_columns": null,
            "grid_auto_flow": null,
            "grid_auto_rows": null,
            "grid_column": null,
            "grid_gap": null,
            "grid_row": null,
            "grid_template_areas": null,
            "grid_template_columns": null,
            "grid_template_rows": null,
            "height": null,
            "justify_content": null,
            "justify_items": null,
            "left": null,
            "margin": null,
            "max_height": null,
            "max_width": null,
            "min_height": null,
            "min_width": null,
            "object_fit": null,
            "object_position": null,
            "order": null,
            "overflow": null,
            "overflow_x": null,
            "overflow_y": null,
            "padding": null,
            "right": null,
            "top": null,
            "visibility": null,
            "width": null
          }
        },
        "4440d1e39b9640f2859ea7bafc53c91d": {
          "model_module": "@jupyter-widgets/controls",
          "model_module_version": "1.5.0",
          "model_name": "ProgressStyleModel",
          "state": {
            "_model_module": "@jupyter-widgets/controls",
            "_model_module_version": "1.5.0",
            "_model_name": "ProgressStyleModel",
            "_view_count": null,
            "_view_module": "@jupyter-widgets/base",
            "_view_module_version": "1.2.0",
            "_view_name": "StyleView",
            "bar_color": null,
            "description_width": ""
          }
        },
        "467a3a55def045a794e8e70d4aae2a51": {
          "model_module": "@jupyter-widgets/base",
          "model_module_version": "1.2.0",
          "model_name": "LayoutModel",
          "state": {
            "_model_module": "@jupyter-widgets/base",
            "_model_module_version": "1.2.0",
            "_model_name": "LayoutModel",
            "_view_count": null,
            "_view_module": "@jupyter-widgets/base",
            "_view_module_version": "1.2.0",
            "_view_name": "LayoutView",
            "align_content": null,
            "align_items": null,
            "align_self": null,
            "border": null,
            "bottom": null,
            "display": null,
            "flex": null,
            "flex_flow": null,
            "grid_area": null,
            "grid_auto_columns": null,
            "grid_auto_flow": null,
            "grid_auto_rows": null,
            "grid_column": null,
            "grid_gap": null,
            "grid_row": null,
            "grid_template_areas": null,
            "grid_template_columns": null,
            "grid_template_rows": null,
            "height": null,
            "justify_content": null,
            "justify_items": null,
            "left": null,
            "margin": null,
            "max_height": null,
            "max_width": null,
            "min_height": null,
            "min_width": null,
            "object_fit": null,
            "object_position": null,
            "order": null,
            "overflow": null,
            "overflow_x": null,
            "overflow_y": null,
            "padding": null,
            "right": null,
            "top": null,
            "visibility": null,
            "width": null
          }
        },
        "5281355a13e44e09874b09abb20e2a9d": {
          "model_module": "@jupyter-widgets/controls",
          "model_module_version": "1.5.0",
          "model_name": "DescriptionStyleModel",
          "state": {
            "_model_module": "@jupyter-widgets/controls",
            "_model_module_version": "1.5.0",
            "_model_name": "DescriptionStyleModel",
            "_view_count": null,
            "_view_module": "@jupyter-widgets/base",
            "_view_module_version": "1.2.0",
            "_view_name": "StyleView",
            "description_width": ""
          }
        },
        "52e3efe617bd49d9b85beb42ff72c311": {
          "model_module": "@jupyter-widgets/controls",
          "model_module_version": "1.5.0",
          "model_name": "DescriptionStyleModel",
          "state": {
            "_model_module": "@jupyter-widgets/controls",
            "_model_module_version": "1.5.0",
            "_model_name": "DescriptionStyleModel",
            "_view_count": null,
            "_view_module": "@jupyter-widgets/base",
            "_view_module_version": "1.2.0",
            "_view_name": "StyleView",
            "description_width": ""
          }
        },
        "554cf5ca5c1a46e6ba4c3a17fc11d956": {
          "model_module": "@jupyter-widgets/base",
          "model_module_version": "1.2.0",
          "model_name": "LayoutModel",
          "state": {
            "_model_module": "@jupyter-widgets/base",
            "_model_module_version": "1.2.0",
            "_model_name": "LayoutModel",
            "_view_count": null,
            "_view_module": "@jupyter-widgets/base",
            "_view_module_version": "1.2.0",
            "_view_name": "LayoutView",
            "align_content": null,
            "align_items": null,
            "align_self": null,
            "border": null,
            "bottom": null,
            "display": null,
            "flex": null,
            "flex_flow": null,
            "grid_area": null,
            "grid_auto_columns": null,
            "grid_auto_flow": null,
            "grid_auto_rows": null,
            "grid_column": null,
            "grid_gap": null,
            "grid_row": null,
            "grid_template_areas": null,
            "grid_template_columns": null,
            "grid_template_rows": null,
            "height": null,
            "justify_content": null,
            "justify_items": null,
            "left": null,
            "margin": null,
            "max_height": null,
            "max_width": null,
            "min_height": null,
            "min_width": null,
            "object_fit": null,
            "object_position": null,
            "order": null,
            "overflow": null,
            "overflow_x": null,
            "overflow_y": null,
            "padding": null,
            "right": null,
            "top": null,
            "visibility": null,
            "width": null
          }
        },
        "565d54c52c7f40ddb3d990c7083ae65e": {
          "model_module": "@jupyter-widgets/controls",
          "model_module_version": "1.5.0",
          "model_name": "HTMLModel",
          "state": {
            "_dom_classes": [],
            "_model_module": "@jupyter-widgets/controls",
            "_model_module_version": "1.5.0",
            "_model_name": "HTMLModel",
            "_view_count": null,
            "_view_module": "@jupyter-widgets/controls",
            "_view_module_version": "1.5.0",
            "_view_name": "HTMLView",
            "description": "",
            "description_tooltip": null,
            "layout": "IPY_MODEL_422448c4389045c3b56cd0cc7ce4e977",
            "placeholder": "​",
            "style": "IPY_MODEL_81d5b0f605e6484e8d7bdc098f02583c",
            "value": "config.json: 100%"
          }
        },
        "5c4ecfa94b56468e8324dfcfb6a6a24c": {
          "model_module": "@jupyter-widgets/base",
          "model_module_version": "1.2.0",
          "model_name": "LayoutModel",
          "state": {
            "_model_module": "@jupyter-widgets/base",
            "_model_module_version": "1.2.0",
            "_model_name": "LayoutModel",
            "_view_count": null,
            "_view_module": "@jupyter-widgets/base",
            "_view_module_version": "1.2.0",
            "_view_name": "LayoutView",
            "align_content": null,
            "align_items": null,
            "align_self": null,
            "border": null,
            "bottom": null,
            "display": null,
            "flex": null,
            "flex_flow": null,
            "grid_area": null,
            "grid_auto_columns": null,
            "grid_auto_flow": null,
            "grid_auto_rows": null,
            "grid_column": null,
            "grid_gap": null,
            "grid_row": null,
            "grid_template_areas": null,
            "grid_template_columns": null,
            "grid_template_rows": null,
            "height": null,
            "justify_content": null,
            "justify_items": null,
            "left": null,
            "margin": null,
            "max_height": null,
            "max_width": null,
            "min_height": null,
            "min_width": null,
            "object_fit": null,
            "object_position": null,
            "order": null,
            "overflow": null,
            "overflow_x": null,
            "overflow_y": null,
            "padding": null,
            "right": null,
            "top": null,
            "visibility": null,
            "width": null
          }
        },
        "5f41044b1df94024819232b2187fc30e": {
          "model_module": "@jupyter-widgets/controls",
          "model_module_version": "1.5.0",
          "model_name": "DescriptionStyleModel",
          "state": {
            "_model_module": "@jupyter-widgets/controls",
            "_model_module_version": "1.5.0",
            "_model_name": "DescriptionStyleModel",
            "_view_count": null,
            "_view_module": "@jupyter-widgets/base",
            "_view_module_version": "1.2.0",
            "_view_name": "StyleView",
            "description_width": ""
          }
        },
        "5feb228fc972489eb09f34432cd75eea": {
          "model_module": "@jupyter-widgets/controls",
          "model_module_version": "1.5.0",
          "model_name": "DescriptionStyleModel",
          "state": {
            "_model_module": "@jupyter-widgets/controls",
            "_model_module_version": "1.5.0",
            "_model_name": "DescriptionStyleModel",
            "_view_count": null,
            "_view_module": "@jupyter-widgets/base",
            "_view_module_version": "1.2.0",
            "_view_name": "StyleView",
            "description_width": ""
          }
        },
        "61741a785a704e3b9f230ddb91e711d4": {
          "model_module": "@jupyter-widgets/controls",
          "model_module_version": "1.5.0",
          "model_name": "HTMLModel",
          "state": {
            "_dom_classes": [],
            "_model_module": "@jupyter-widgets/controls",
            "_model_module_version": "1.5.0",
            "_model_name": "HTMLModel",
            "_view_count": null,
            "_view_module": "@jupyter-widgets/controls",
            "_view_module_version": "1.5.0",
            "_view_name": "HTMLView",
            "description": "",
            "description_tooltip": null,
            "layout": "IPY_MODEL_a684e454f47340639854921e809b8999",
            "placeholder": "​",
            "style": "IPY_MODEL_14f335c4329c47918b16454dbacdb15d",
            "value": "vocab.txt: 100%"
          }
        },
        "62e12f2d21cc4b6196b091bbe7df53d3": {
          "model_module": "@jupyter-widgets/controls",
          "model_module_version": "1.5.0",
          "model_name": "HTMLModel",
          "state": {
            "_dom_classes": [],
            "_model_module": "@jupyter-widgets/controls",
            "_model_module_version": "1.5.0",
            "_model_name": "HTMLModel",
            "_view_count": null,
            "_view_module": "@jupyter-widgets/controls",
            "_view_module_version": "1.5.0",
            "_view_name": "HTMLView",
            "description": "",
            "description_tooltip": null,
            "layout": "IPY_MODEL_fd58a39cca1144e1b7fa716decb36a48",
            "placeholder": "​",
            "style": "IPY_MODEL_5f41044b1df94024819232b2187fc30e",
            "value": " 213k/213k [00:00&lt;00:00, 3.32MB/s]"
          }
        },
        "676d29921d2341e48ac407d537fcfaf5": {
          "model_module": "@jupyter-widgets/controls",
          "model_module_version": "1.5.0",
          "model_name": "HBoxModel",
          "state": {
            "_dom_classes": [],
            "_model_module": "@jupyter-widgets/controls",
            "_model_module_version": "1.5.0",
            "_model_name": "HBoxModel",
            "_view_count": null,
            "_view_module": "@jupyter-widgets/controls",
            "_view_module_version": "1.5.0",
            "_view_name": "HBoxView",
            "box_style": "",
            "children": [
              "IPY_MODEL_1ec1824149b04bea955c86d60d913815",
              "IPY_MODEL_6f10a2ce606347838ad8866c2eaf093c",
              "IPY_MODEL_c7896fd869c941b08ae71bbb25ce2e51"
            ],
            "layout": "IPY_MODEL_80fa7d5429b446db9df23df3ec20dca1"
          }
        },
        "6f10a2ce606347838ad8866c2eaf093c": {
          "model_module": "@jupyter-widgets/controls",
          "model_module_version": "1.5.0",
          "model_name": "FloatProgressModel",
          "state": {
            "_dom_classes": [],
            "_model_module": "@jupyter-widgets/controls",
            "_model_module_version": "1.5.0",
            "_model_name": "FloatProgressModel",
            "_view_count": null,
            "_view_module": "@jupyter-widgets/controls",
            "_view_module_version": "1.5.0",
            "_view_name": "ProgressView",
            "bar_style": "success",
            "description": "",
            "description_tooltip": null,
            "layout": "IPY_MODEL_75f6ae3cdbed4b00b4c3f2d249d5a652",
            "max": 435755784,
            "min": 0,
            "orientation": "horizontal",
            "style": "IPY_MODEL_72c91ccd047e45d5b787b27f8fb2cb77",
            "value": 435755784
          }
        },
        "72c91ccd047e45d5b787b27f8fb2cb77": {
          "model_module": "@jupyter-widgets/controls",
          "model_module_version": "1.5.0",
          "model_name": "ProgressStyleModel",
          "state": {
            "_model_module": "@jupyter-widgets/controls",
            "_model_module_version": "1.5.0",
            "_model_name": "ProgressStyleModel",
            "_view_count": null,
            "_view_module": "@jupyter-widgets/base",
            "_view_module_version": "1.2.0",
            "_view_name": "StyleView",
            "bar_color": null,
            "description_width": ""
          }
        },
        "75f6ae3cdbed4b00b4c3f2d249d5a652": {
          "model_module": "@jupyter-widgets/base",
          "model_module_version": "1.2.0",
          "model_name": "LayoutModel",
          "state": {
            "_model_module": "@jupyter-widgets/base",
            "_model_module_version": "1.2.0",
            "_model_name": "LayoutModel",
            "_view_count": null,
            "_view_module": "@jupyter-widgets/base",
            "_view_module_version": "1.2.0",
            "_view_name": "LayoutView",
            "align_content": null,
            "align_items": null,
            "align_self": null,
            "border": null,
            "bottom": null,
            "display": null,
            "flex": null,
            "flex_flow": null,
            "grid_area": null,
            "grid_auto_columns": null,
            "grid_auto_flow": null,
            "grid_auto_rows": null,
            "grid_column": null,
            "grid_gap": null,
            "grid_row": null,
            "grid_template_areas": null,
            "grid_template_columns": null,
            "grid_template_rows": null,
            "height": null,
            "justify_content": null,
            "justify_items": null,
            "left": null,
            "margin": null,
            "max_height": null,
            "max_width": null,
            "min_height": null,
            "min_width": null,
            "object_fit": null,
            "object_position": null,
            "order": null,
            "overflow": null,
            "overflow_x": null,
            "overflow_y": null,
            "padding": null,
            "right": null,
            "top": null,
            "visibility": null,
            "width": null
          }
        },
        "7b580209f91e4c3eb01cf3e4c8d551ed": {
          "model_module": "@jupyter-widgets/controls",
          "model_module_version": "1.5.0",
          "model_name": "DescriptionStyleModel",
          "state": {
            "_model_module": "@jupyter-widgets/controls",
            "_model_module_version": "1.5.0",
            "_model_name": "DescriptionStyleModel",
            "_view_count": null,
            "_view_module": "@jupyter-widgets/base",
            "_view_module_version": "1.2.0",
            "_view_name": "StyleView",
            "description_width": ""
          }
        },
        "80fa7d5429b446db9df23df3ec20dca1": {
          "model_module": "@jupyter-widgets/base",
          "model_module_version": "1.2.0",
          "model_name": "LayoutModel",
          "state": {
            "_model_module": "@jupyter-widgets/base",
            "_model_module_version": "1.2.0",
            "_model_name": "LayoutModel",
            "_view_count": null,
            "_view_module": "@jupyter-widgets/base",
            "_view_module_version": "1.2.0",
            "_view_name": "LayoutView",
            "align_content": null,
            "align_items": null,
            "align_self": null,
            "border": null,
            "bottom": null,
            "display": null,
            "flex": null,
            "flex_flow": null,
            "grid_area": null,
            "grid_auto_columns": null,
            "grid_auto_flow": null,
            "grid_auto_rows": null,
            "grid_column": null,
            "grid_gap": null,
            "grid_row": null,
            "grid_template_areas": null,
            "grid_template_columns": null,
            "grid_template_rows": null,
            "height": null,
            "justify_content": null,
            "justify_items": null,
            "left": null,
            "margin": null,
            "max_height": null,
            "max_width": null,
            "min_height": null,
            "min_width": null,
            "object_fit": null,
            "object_position": null,
            "order": null,
            "overflow": null,
            "overflow_x": null,
            "overflow_y": null,
            "padding": null,
            "right": null,
            "top": null,
            "visibility": null,
            "width": null
          }
        },
        "81d5b0f605e6484e8d7bdc098f02583c": {
          "model_module": "@jupyter-widgets/controls",
          "model_module_version": "1.5.0",
          "model_name": "DescriptionStyleModel",
          "state": {
            "_model_module": "@jupyter-widgets/controls",
            "_model_module_version": "1.5.0",
            "_model_name": "DescriptionStyleModel",
            "_view_count": null,
            "_view_module": "@jupyter-widgets/base",
            "_view_module_version": "1.2.0",
            "_view_name": "StyleView",
            "description_width": ""
          }
        },
        "89e62bf2ec3343d9b825855ced85342d": {
          "model_module": "@jupyter-widgets/controls",
          "model_module_version": "1.5.0",
          "model_name": "FloatProgressModel",
          "state": {
            "_dom_classes": [],
            "_model_module": "@jupyter-widgets/controls",
            "_model_module_version": "1.5.0",
            "_model_name": "FloatProgressModel",
            "_view_count": null,
            "_view_module": "@jupyter-widgets/controls",
            "_view_module_version": "1.5.0",
            "_view_name": "ProgressView",
            "bar_style": "success",
            "description": "",
            "description_tooltip": null,
            "layout": "IPY_MODEL_bf0926295ead45e089c3bc8c786bb9cd",
            "max": 435797,
            "min": 0,
            "orientation": "horizontal",
            "style": "IPY_MODEL_bea437e3acf1466890305d06d573a503",
            "value": 435797
          }
        },
        "9306d444d86e489f9828a0e617879eab": {
          "model_module": "@jupyter-widgets/controls",
          "model_module_version": "1.5.0",
          "model_name": "HTMLModel",
          "state": {
            "_dom_classes": [],
            "_model_module": "@jupyter-widgets/controls",
            "_model_module_version": "1.5.0",
            "_model_name": "HTMLModel",
            "_view_count": null,
            "_view_module": "@jupyter-widgets/controls",
            "_view_module_version": "1.5.0",
            "_view_name": "HTMLView",
            "description": "",
            "description_tooltip": null,
            "layout": "IPY_MODEL_554cf5ca5c1a46e6ba4c3a17fc11d956",
            "placeholder": "​",
            "style": "IPY_MODEL_5feb228fc972489eb09f34432cd75eea",
            "value": " 570/570 [00:00&lt;00:00, 28.0kB/s]"
          }
        },
        "9606dd250c8b4f54a2fb08b07761acac": {
          "model_module": "@jupyter-widgets/controls",
          "model_module_version": "1.5.0",
          "model_name": "ProgressStyleModel",
          "state": {
            "_model_module": "@jupyter-widgets/controls",
            "_model_module_version": "1.5.0",
            "_model_name": "ProgressStyleModel",
            "_view_count": null,
            "_view_module": "@jupyter-widgets/base",
            "_view_module_version": "1.2.0",
            "_view_name": "StyleView",
            "bar_color": null,
            "description_width": ""
          }
        },
        "997fdc30f4e545bd93455b164ec47a92": {
          "model_module": "@jupyter-widgets/base",
          "model_module_version": "1.2.0",
          "model_name": "LayoutModel",
          "state": {
            "_model_module": "@jupyter-widgets/base",
            "_model_module_version": "1.2.0",
            "_model_name": "LayoutModel",
            "_view_count": null,
            "_view_module": "@jupyter-widgets/base",
            "_view_module_version": "1.2.0",
            "_view_name": "LayoutView",
            "align_content": null,
            "align_items": null,
            "align_self": null,
            "border": null,
            "bottom": null,
            "display": null,
            "flex": null,
            "flex_flow": null,
            "grid_area": null,
            "grid_auto_columns": null,
            "grid_auto_flow": null,
            "grid_auto_rows": null,
            "grid_column": null,
            "grid_gap": null,
            "grid_row": null,
            "grid_template_areas": null,
            "grid_template_columns": null,
            "grid_template_rows": null,
            "height": null,
            "justify_content": null,
            "justify_items": null,
            "left": null,
            "margin": null,
            "max_height": null,
            "max_width": null,
            "min_height": null,
            "min_width": null,
            "object_fit": null,
            "object_position": null,
            "order": null,
            "overflow": null,
            "overflow_x": null,
            "overflow_y": null,
            "padding": null,
            "right": null,
            "top": null,
            "visibility": null,
            "width": null
          }
        },
        "a684e454f47340639854921e809b8999": {
          "model_module": "@jupyter-widgets/base",
          "model_module_version": "1.2.0",
          "model_name": "LayoutModel",
          "state": {
            "_model_module": "@jupyter-widgets/base",
            "_model_module_version": "1.2.0",
            "_model_name": "LayoutModel",
            "_view_count": null,
            "_view_module": "@jupyter-widgets/base",
            "_view_module_version": "1.2.0",
            "_view_name": "LayoutView",
            "align_content": null,
            "align_items": null,
            "align_self": null,
            "border": null,
            "bottom": null,
            "display": null,
            "flex": null,
            "flex_flow": null,
            "grid_area": null,
            "grid_auto_columns": null,
            "grid_auto_flow": null,
            "grid_auto_rows": null,
            "grid_column": null,
            "grid_gap": null,
            "grid_row": null,
            "grid_template_areas": null,
            "grid_template_columns": null,
            "grid_template_rows": null,
            "height": null,
            "justify_content": null,
            "justify_items": null,
            "left": null,
            "margin": null,
            "max_height": null,
            "max_width": null,
            "min_height": null,
            "min_width": null,
            "object_fit": null,
            "object_position": null,
            "order": null,
            "overflow": null,
            "overflow_x": null,
            "overflow_y": null,
            "padding": null,
            "right": null,
            "top": null,
            "visibility": null,
            "width": null
          }
        },
        "be1e1fd3c7804513bff0ef517d40d728": {
          "model_module": "@jupyter-widgets/base",
          "model_module_version": "1.2.0",
          "model_name": "LayoutModel",
          "state": {
            "_model_module": "@jupyter-widgets/base",
            "_model_module_version": "1.2.0",
            "_model_name": "LayoutModel",
            "_view_count": null,
            "_view_module": "@jupyter-widgets/base",
            "_view_module_version": "1.2.0",
            "_view_name": "LayoutView",
            "align_content": null,
            "align_items": null,
            "align_self": null,
            "border": null,
            "bottom": null,
            "display": null,
            "flex": null,
            "flex_flow": null,
            "grid_area": null,
            "grid_auto_columns": null,
            "grid_auto_flow": null,
            "grid_auto_rows": null,
            "grid_column": null,
            "grid_gap": null,
            "grid_row": null,
            "grid_template_areas": null,
            "grid_template_columns": null,
            "grid_template_rows": null,
            "height": null,
            "justify_content": null,
            "justify_items": null,
            "left": null,
            "margin": null,
            "max_height": null,
            "max_width": null,
            "min_height": null,
            "min_width": null,
            "object_fit": null,
            "object_position": null,
            "order": null,
            "overflow": null,
            "overflow_x": null,
            "overflow_y": null,
            "padding": null,
            "right": null,
            "top": null,
            "visibility": null,
            "width": null
          }
        },
        "bea437e3acf1466890305d06d573a503": {
          "model_module": "@jupyter-widgets/controls",
          "model_module_version": "1.5.0",
          "model_name": "ProgressStyleModel",
          "state": {
            "_model_module": "@jupyter-widgets/controls",
            "_model_module_version": "1.5.0",
            "_model_name": "ProgressStyleModel",
            "_view_count": null,
            "_view_module": "@jupyter-widgets/base",
            "_view_module_version": "1.2.0",
            "_view_name": "StyleView",
            "bar_color": null,
            "description_width": ""
          }
        },
        "bf0926295ead45e089c3bc8c786bb9cd": {
          "model_module": "@jupyter-widgets/base",
          "model_module_version": "1.2.0",
          "model_name": "LayoutModel",
          "state": {
            "_model_module": "@jupyter-widgets/base",
            "_model_module_version": "1.2.0",
            "_model_name": "LayoutModel",
            "_view_count": null,
            "_view_module": "@jupyter-widgets/base",
            "_view_module_version": "1.2.0",
            "_view_name": "LayoutView",
            "align_content": null,
            "align_items": null,
            "align_self": null,
            "border": null,
            "bottom": null,
            "display": null,
            "flex": null,
            "flex_flow": null,
            "grid_area": null,
            "grid_auto_columns": null,
            "grid_auto_flow": null,
            "grid_auto_rows": null,
            "grid_column": null,
            "grid_gap": null,
            "grid_row": null,
            "grid_template_areas": null,
            "grid_template_columns": null,
            "grid_template_rows": null,
            "height": null,
            "justify_content": null,
            "justify_items": null,
            "left": null,
            "margin": null,
            "max_height": null,
            "max_width": null,
            "min_height": null,
            "min_width": null,
            "object_fit": null,
            "object_position": null,
            "order": null,
            "overflow": null,
            "overflow_x": null,
            "overflow_y": null,
            "padding": null,
            "right": null,
            "top": null,
            "visibility": null,
            "width": null
          }
        },
        "c60d2ac156b041a78a6e9581d8122922": {
          "model_module": "@jupyter-widgets/controls",
          "model_module_version": "1.5.0",
          "model_name": "HTMLModel",
          "state": {
            "_dom_classes": [],
            "_model_module": "@jupyter-widgets/controls",
            "_model_module_version": "1.5.0",
            "_model_name": "HTMLModel",
            "_view_count": null,
            "_view_module": "@jupyter-widgets/controls",
            "_view_module_version": "1.5.0",
            "_view_name": "HTMLView",
            "description": "",
            "description_tooltip": null,
            "layout": "IPY_MODEL_997fdc30f4e545bd93455b164ec47a92",
            "placeholder": "​",
            "style": "IPY_MODEL_5281355a13e44e09874b09abb20e2a9d",
            "value": "tokenizer.json: 100%"
          }
        },
        "c7011f3c3b0f48c4900a7a38c57cac4d": {
          "model_module": "@jupyter-widgets/base",
          "model_module_version": "1.2.0",
          "model_name": "LayoutModel",
          "state": {
            "_model_module": "@jupyter-widgets/base",
            "_model_module_version": "1.2.0",
            "_model_name": "LayoutModel",
            "_view_count": null,
            "_view_module": "@jupyter-widgets/base",
            "_view_module_version": "1.2.0",
            "_view_name": "LayoutView",
            "align_content": null,
            "align_items": null,
            "align_self": null,
            "border": null,
            "bottom": null,
            "display": null,
            "flex": null,
            "flex_flow": null,
            "grid_area": null,
            "grid_auto_columns": null,
            "grid_auto_flow": null,
            "grid_auto_rows": null,
            "grid_column": null,
            "grid_gap": null,
            "grid_row": null,
            "grid_template_areas": null,
            "grid_template_columns": null,
            "grid_template_rows": null,
            "height": null,
            "justify_content": null,
            "justify_items": null,
            "left": null,
            "margin": null,
            "max_height": null,
            "max_width": null,
            "min_height": null,
            "min_width": null,
            "object_fit": null,
            "object_position": null,
            "order": null,
            "overflow": null,
            "overflow_x": null,
            "overflow_y": null,
            "padding": null,
            "right": null,
            "top": null,
            "visibility": null,
            "width": null
          }
        },
        "c7896fd869c941b08ae71bbb25ce2e51": {
          "model_module": "@jupyter-widgets/controls",
          "model_module_version": "1.5.0",
          "model_name": "HTMLModel",
          "state": {
            "_dom_classes": [],
            "_model_module": "@jupyter-widgets/controls",
            "_model_module_version": "1.5.0",
            "_model_name": "HTMLModel",
            "_view_count": null,
            "_view_module": "@jupyter-widgets/controls",
            "_view_module_version": "1.5.0",
            "_view_name": "HTMLView",
            "description": "",
            "description_tooltip": null,
            "layout": "IPY_MODEL_2ee6a861dfed43f893e3f2fe7817c866",
            "placeholder": "​",
            "style": "IPY_MODEL_2639d5291e7741fb9fc106deb7676b2c",
            "value": " 436M/436M [00:06&lt;00:00, 74.5MB/s]"
          }
        },
        "d98cd9790fa14c2ebe707ff9f9c6b758": {
          "model_module": "@jupyter-widgets/controls",
          "model_module_version": "1.5.0",
          "model_name": "HTMLModel",
          "state": {
            "_dom_classes": [],
            "_model_module": "@jupyter-widgets/controls",
            "_model_module_version": "1.5.0",
            "_model_name": "HTMLModel",
            "_view_count": null,
            "_view_module": "@jupyter-widgets/controls",
            "_view_module_version": "1.5.0",
            "_view_name": "HTMLView",
            "description": "",
            "description_tooltip": null,
            "layout": "IPY_MODEL_333b1d1b35eb447b957776a9678fa5aa",
            "placeholder": "​",
            "style": "IPY_MODEL_7b580209f91e4c3eb01cf3e4c8d551ed",
            "value": "tokenizer_config.json: 100%"
          }
        },
        "e8291ea573c941fb872ed2f3a4e4ade6": {
          "model_module": "@jupyter-widgets/controls",
          "model_module_version": "1.5.0",
          "model_name": "FloatProgressModel",
          "state": {
            "_dom_classes": [],
            "_model_module": "@jupyter-widgets/controls",
            "_model_module_version": "1.5.0",
            "_model_name": "FloatProgressModel",
            "_view_count": null,
            "_view_module": "@jupyter-widgets/controls",
            "_view_module_version": "1.5.0",
            "_view_name": "ProgressView",
            "bar_style": "success",
            "description": "",
            "description_tooltip": null,
            "layout": "IPY_MODEL_2827d596dd8d4a61b9fe158a38c87ce6",
            "max": 49,
            "min": 0,
            "orientation": "horizontal",
            "style": "IPY_MODEL_2bd909392d9b455a88cc8e1d2b1d4f0d",
            "value": 49
          }
        },
        "efbea8c9e4074629adae3fec380521a5": {
          "model_module": "@jupyter-widgets/controls",
          "model_module_version": "1.5.0",
          "model_name": "HBoxModel",
          "state": {
            "_dom_classes": [],
            "_model_module": "@jupyter-widgets/controls",
            "_model_module_version": "1.5.0",
            "_model_name": "HBoxModel",
            "_view_count": null,
            "_view_module": "@jupyter-widgets/controls",
            "_view_module_version": "1.5.0",
            "_view_name": "HBoxView",
            "box_style": "",
            "children": [
              "IPY_MODEL_c60d2ac156b041a78a6e9581d8122922",
              "IPY_MODEL_89e62bf2ec3343d9b825855ced85342d",
              "IPY_MODEL_164589db70294c4db774961f20c5f230"
            ],
            "layout": "IPY_MODEL_1c90ac1e69894715b477170a4fa96092"
          }
        },
        "fd58a39cca1144e1b7fa716decb36a48": {
          "model_module": "@jupyter-widgets/base",
          "model_module_version": "1.2.0",
          "model_name": "LayoutModel",
          "state": {
            "_model_module": "@jupyter-widgets/base",
            "_model_module_version": "1.2.0",
            "_model_name": "LayoutModel",
            "_view_count": null,
            "_view_module": "@jupyter-widgets/base",
            "_view_module_version": "1.2.0",
            "_view_name": "LayoutView",
            "align_content": null,
            "align_items": null,
            "align_self": null,
            "border": null,
            "bottom": null,
            "display": null,
            "flex": null,
            "flex_flow": null,
            "grid_area": null,
            "grid_auto_columns": null,
            "grid_auto_flow": null,
            "grid_auto_rows": null,
            "grid_column": null,
            "grid_gap": null,
            "grid_row": null,
            "grid_template_areas": null,
            "grid_template_columns": null,
            "grid_template_rows": null,
            "height": null,
            "justify_content": null,
            "justify_items": null,
            "left": null,
            "margin": null,
            "max_height": null,
            "max_width": null,
            "min_height": null,
            "min_width": null,
            "object_fit": null,
            "object_position": null,
            "order": null,
            "overflow": null,
            "overflow_x": null,
            "overflow_y": null,
            "padding": null,
            "right": null,
            "top": null,
            "visibility": null,
            "width": null
          }
        }
      }
    }
  },
  "nbformat": 4,
  "nbformat_minor": 0
}
